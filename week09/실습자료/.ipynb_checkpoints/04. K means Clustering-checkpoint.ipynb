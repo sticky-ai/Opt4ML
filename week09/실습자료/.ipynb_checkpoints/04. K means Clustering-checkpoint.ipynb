{
 "cells": [
  {
   "cell_type": "code",
   "execution_count": null,
   "metadata": {},
   "outputs": [],
   "source": [
    "import numpy as np\n",
    "import tensorflow as tf\n",
    "from sklearn.datasets import make_blobs\n",
    "from matplotlib.pylab import plt\n",
    "%matplotlib inline\n",
    "%config InlineBackend.figure_format = 'retina'"
   ]
  },
  {
   "cell_type": "code",
   "execution_count": null,
   "metadata": {},
   "outputs": [],
   "source": [
    "# generate 2d classification dataset\n",
    "xy, _ = make_blobs(n_samples=400, center_box=(-1,1), centers=3,cluster_std=0.15, random_state=3)\n",
    "# scatter plot, dots colored by class value\n",
    "plt.scatter(xy[:,0], xy[:,1], edgecolors='k', alpha=0.5)\n",
    "plt.axis('equal')\n",
    "plt.grid()\n",
    "plt.show()"
   ]
  },
  {
   "cell_type": "markdown",
   "metadata": {},
   "source": [
    "## K Means Algorithm 직접 작성하기\n",
    "\n",
    "- TODO1 : 현재 데이터에서 Centroid까지의 거리 구하기\n",
    "- TODO2 : 현재 데이터에서 가장 가까운 Centroid의 index 구하기 : `np.argmin`\n",
    "- TODO3 : 각 그룹 별로 Centroid 구하기 : `np.mean(, 0)`"
   ]
  },
  {
   "cell_type": "code",
   "execution_count": null,
   "metadata": {
    "scrolled": false
   },
   "outputs": [],
   "source": [
    "n_components = 3\n",
    "center0 = xy[np.random.choice(len(xy), n_components), :]\n",
    "center0 = np.random.rand(n_components,xy.shape[1]) - 0.5\n",
    "print(center0)\n",
    "for i in range(5):\n",
    "    nearest_center0 = np.zeros(len(xy), dtype=np.int32)\n",
    "    for k, xy_ in enumerate(xy):\n",
    "        # TODO1\n",
    "        distance2center0 = np.array([None for ith_center in center0])\n",
    "        # TODO2\n",
    "        nearest_center0[k] = None\n",
    "\n",
    "    for j in range(n_components):\n",
    "        # TODO3\n",
    "        center0[j, :] = None\n",
    "\n",
    "    if i % 1 == 0:\n",
    "        plt.plot(center0[:,0], center0[:,1], '*r',\\\n",
    "                 markersize=20, markeredgecolor='k')\n",
    "        for label in np.unique(nearest_center0):\n",
    "            plt.scatter(xy[nearest_center0==label,0], xy[nearest_center0==label,1], edgecolors='k', alpha=0.5)\n",
    "        plt.axis('equal')\n",
    "        plt.title('iteration : {0}'.format(i))\n",
    "        plt.grid()\n",
    "        plt.show()"
   ]
  },
  {
   "cell_type": "code",
   "execution_count": null,
   "metadata": {},
   "outputs": [],
   "source": [
    "from sklearn.cluster import KMeans\n",
    "kmeans = KMeans(n_clusters=3)\n",
    "kmeans.fit(xy)\n",
    "predicted_group = kmeans.predict(xy)\n",
    "for label in np.unique(predicted_group):\n",
    "    plt.scatter(xy[predicted_group==label,0], xy[predicted_group==label,1], edgecolors='k', alpha=0.5)\n",
    "plt.axis('equal')\n",
    "plt.grid()\n",
    "plt.show()"
   ]
  },
  {
   "cell_type": "code",
   "execution_count": null,
   "metadata": {},
   "outputs": [],
   "source": [
    "from sklearn.mixture import GaussianMixture\n",
    "gm = GaussianMixture(n_components=3)\n",
    "gm.fit(xy)\n",
    "predicted_group = gm.predict(xy)\n",
    "for label in np.unique(predicted_group):\n",
    "    plt.scatter(xy[predicted_group==label,0], xy[predicted_group==label,1], edgecolors='k', alpha=0.5)\n",
    "plt.axis('equal')\n",
    "plt.grid()\n",
    "plt.show()"
   ]
  },
  {
   "cell_type": "code",
   "execution_count": null,
   "metadata": {},
   "outputs": [],
   "source": []
  }
 ],
 "metadata": {
  "kernelspec": {
   "display_name": "Python 3",
   "language": "python",
   "name": "python3"
  },
  "language_info": {
   "codemirror_mode": {
    "name": "ipython",
    "version": 3
   },
   "file_extension": ".py",
   "mimetype": "text/x-python",
   "name": "python",
   "nbconvert_exporter": "python",
   "pygments_lexer": "ipython3",
   "version": "3.5.6"
  }
 },
 "nbformat": 4,
 "nbformat_minor": 2
}
