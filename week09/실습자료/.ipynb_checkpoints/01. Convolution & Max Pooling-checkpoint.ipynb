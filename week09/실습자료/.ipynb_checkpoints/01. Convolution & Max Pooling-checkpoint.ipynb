{
 "cells": [
  {
   "cell_type": "code",
   "execution_count": null,
   "metadata": {},
   "outputs": [],
   "source": [
    "import numpy as np\n",
    "import tensorflow as tf\n",
    "import matplotlib.pylab as plt\n",
    "%matplotlib inline\n",
    "%config InlineBackend.figure_format = 'retina'"
   ]
  },
  {
   "cell_type": "code",
   "execution_count": null,
   "metadata": {},
   "outputs": [],
   "source": [
    "# Data Load\n",
    "from tensorflow.examples.tutorials.mnist import input_data\n",
    "mnist = input_data.read_data_sets(\"MNIST_data/\", one_hot=True)"
   ]
  },
  {
   "cell_type": "code",
   "execution_count": null,
   "metadata": {},
   "outputs": [],
   "source": [
    "image = mnist.train.images[99]\n",
    "plt.imshow(image.reshape(28,28), cmap='gray')\n",
    "plt.show()"
   ]
  },
  {
   "cell_type": "markdown",
   "metadata": {},
   "source": [
    "## Famous Kernels(Filters)\n",
    "\n",
    "https://en.wikipedia.org/wiki/Kernel_(image_processing)\n",
    "\n",
    "위 링크에 소개된 3x3 필터중에 하나를 골라서, `kernel` 을 선언하여 입력과 출력을 비교해보세요."
   ]
  },
  {
   "cell_type": "code",
   "execution_count": null,
   "metadata": {},
   "outputs": [],
   "source": [
    "x = tf.placeholder(tf.float32, [None, 784])\n",
    "x_img = tf.reshape(x, shape=[-1, 28, 28, 1])\n",
    "# TODO1\n",
    "kernel_ = None\n",
    "kernel = kernel_.reshape([3, 3, 1, 1])\n",
    "\n",
    "print(kernel.shape)\n",
    "conv_out = tf.nn.conv2d(x_img, kernel, strides=[1, 1, 1, 1], padding='VALID')\n",
    "\n",
    "init = tf.global_variables_initializer()\n",
    "sess = tf.Session()\n",
    "sess.run(init)\n",
    "\n",
    "in_image, out_image = sess.run([x_img, conv_out], feed_dict={x:mnist.train.images[:1]})\n",
    "\n",
    "plt.figure(figsize=(8,4))\n",
    "plt.subplot(1,2,1)\n",
    "plt.imshow(in_image[0,:,:,0], cmap='gray')\n",
    "plt.title('shape = ({0}, {1})'.format(in_image.shape[1], in_image.shape[2]))\n",
    "\n",
    "plt.subplot(1,2,2)\n",
    "plt.imshow(out_image[0,:,:,0], cmap='gray')\n",
    "plt.title('shape = ({0}, {1})'.format(out_image.shape[1], out_image.shape[2]))\n",
    "plt.show()"
   ]
  },
  {
   "cell_type": "markdown",
   "metadata": {
    "collapsed": true
   },
   "source": [
    "## Stride와 Padding\n",
    "\n",
    "`strides`와 `padding`을 바꿔보면서, 출력을 `shape`이 어떻게 변하는지 파악해보세요.\n"
   ]
  },
  {
   "cell_type": "code",
   "execution_count": null,
   "metadata": {},
   "outputs": [],
   "source": [
    "x = tf.placeholder(tf.float32, [None, 784])\n",
    "x_img = tf.reshape(x, shape=[-1, 28, 28, 1])\n",
    "\n",
    "# TODO2\n",
    "conv_out = None\n",
    "\n",
    "init = tf.global_variables_initializer()\n",
    "sess = tf.Session()\n",
    "sess.run(init)\n",
    "\n",
    "in_image, out_image = sess.run([x_img, conv_out], feed_dict={x:mnist.train.images[:1]})\n",
    "\n",
    "plt.figure(figsize=(8,4))\n",
    "plt.subplot(1,2,1)\n",
    "plt.imshow(in_image[0,:,:,0], cmap='gray')\n",
    "plt.title('shape = ({0}, {1})'.format(in_image.shape[1], in_image.shape[2]))\n",
    "\n",
    "plt.subplot(1,2,2)\n",
    "plt.imshow(out_image[0,:,:,0], cmap='gray')\n",
    "plt.title('shape = ({0}, {1})'.format(out_image.shape[1], out_image.shape[2]))\n",
    "plt.show()"
   ]
  },
  {
   "cell_type": "markdown",
   "metadata": {},
   "source": [
    "## Max Pooling"
   ]
  },
  {
   "cell_type": "code",
   "execution_count": null,
   "metadata": {},
   "outputs": [],
   "source": [
    "x = tf.placeholder(tf.float32, [None, 784])\n",
    "x_img = tf.reshape(x, shape=[-1, 28, 28, 1])\n",
    "\n",
    "# TODO3\n",
    "max_pooled = tf.layers.max_pooling2d(x_img, 2, 2)\n",
    "\n",
    "init = tf.global_variables_initializer()\n",
    "sess = tf.Session()\n",
    "sess.run(init)\n",
    "\n",
    "in_image, out_image = sess.run([x_img, max_pooled], feed_dict={x:mnist.train.images[:1]})\n",
    "\n",
    "plt.figure(figsize=(8,4))\n",
    "plt.subplot(1,2,1)\n",
    "plt.imshow(in_image[0,:,:,0], cmap='gray')\n",
    "plt.title('shape = ({0}, {1})'.format(in_image.shape[1], in_image.shape[2]))\n",
    "\n",
    "plt.subplot(1,2,2)\n",
    "plt.imshow(out_image[0,:,:,0], cmap='gray')\n",
    "plt.title('shape = ({0}, {1})'.format(out_image.shape[1], out_image.shape[2]))\n",
    "plt.show()"
   ]
  },
  {
   "cell_type": "code",
   "execution_count": null,
   "metadata": {},
   "outputs": [],
   "source": []
  }
 ],
 "metadata": {
  "kernelspec": {
   "display_name": "Python 3",
   "language": "python",
   "name": "python3"
  },
  "language_info": {
   "codemirror_mode": {
    "name": "ipython",
    "version": 3
   },
   "file_extension": ".py",
   "mimetype": "text/x-python",
   "name": "python",
   "nbconvert_exporter": "python",
   "pygments_lexer": "ipython3",
   "version": "3.5.6"
  }
 },
 "nbformat": 4,
 "nbformat_minor": 2
}
