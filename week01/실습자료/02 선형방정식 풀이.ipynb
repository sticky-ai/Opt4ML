{
 "cells": [
  {
   "cell_type": "code",
   "execution_count": null,
   "metadata": {
    "collapsed": true
   },
   "outputs": [],
   "source": [
    "import numpy as np"
   ]
  },
  {
   "cell_type": "markdown",
   "metadata": {},
   "source": [
    "## Example 01 (Soution of the Linear System)\n",
    "1. Determine if this linear system has a solution.\n",
    "1. Write code to find a solution, $x$, of the following linear system code using `numpy`.\n",
    "\n",
    "\\begin{equation}\n",
    "\\begin{bmatrix}\n",
    "1 & 4 & 2 & 0 \\\\\n",
    "9 & 5 & 0 & 0 \\\\\n",
    "4 & 0 & 2 & 4 \\\\\n",
    "6 & 1 & 8 & 3\n",
    "\\end{bmatrix}\n",
    "\\begin{bmatrix}\n",
    "x_1\\\\x_2\\\\x_3\\\\x_4\n",
    "\\end{bmatrix}=\n",
    "\\begin{bmatrix}\n",
    "15\\\\19\\\\26\\\\44\n",
    "\\end{bmatrix}\n",
    "\\end{equation}"
   ]
  },
  {
   "cell_type": "code",
   "execution_count": null,
   "metadata": {
    "collapsed": true
   },
   "outputs": [],
   "source": [
    "A = np.matrix('1, 4, 2, 0; 9, 5, 0, 0; 4, 0, 2, 4; 6, 1, 8, 3')\n",
    "b = np.matrix('15;19;26;44')"
   ]
  },
  {
   "cell_type": "code",
   "execution_count": null,
   "metadata": {
    "collapsed": false
   },
   "outputs": [],
   "source": [
    "np.linalg.det(A)"
   ]
  },
  {
   "cell_type": "code",
   "execution_count": null,
   "metadata": {
    "collapsed": false
   },
   "outputs": [],
   "source": [
    "x = np.linalg.solve(A, b)\n",
    "x"
   ]
  },
  {
   "cell_type": "code",
   "execution_count": null,
   "metadata": {
    "collapsed": false
   },
   "outputs": [],
   "source": [
    "A = np.array([[1, 4, 2, 0], [9, 5, 0, 0], [4, 0, 2, 4], [6, 1, 8, 3]])\n",
    "b = np.array([15,19,26,44])"
   ]
  },
  {
   "cell_type": "code",
   "execution_count": null,
   "metadata": {
    "collapsed": false
   },
   "outputs": [],
   "source": [
    "np.linalg.det(A)"
   ]
  },
  {
   "cell_type": "code",
   "execution_count": null,
   "metadata": {
    "collapsed": false
   },
   "outputs": [],
   "source": [
    "x = np.linalg.solve(A,b)\n",
    "x"
   ]
  },
  {
   "cell_type": "markdown",
   "metadata": {},
   "source": [
    "## Example 02(Not invertible Lineary System)\n",
    "\\begin{align}\n",
    "x_1 + x_2 &= 2\\\\\n",
    "2x_1 + 2x_2 &= 3\n",
    "\\end{align}\n",
    ", that is, \n",
    "\\begin{equation}\n",
    "\\begin{bmatrix}\n",
    "1 & 1 \\\\\n",
    "2 & 2 \n",
    "\\end{bmatrix}\n",
    "\\begin{bmatrix}\n",
    "x_1\\\\x_2\n",
    "\\end{bmatrix}=\n",
    "\\begin{bmatrix}\n",
    "2\\\\3\n",
    "\\end{bmatrix}\n",
    "\\end{equation}\n"
   ]
  },
  {
   "cell_type": "code",
   "execution_count": null,
   "metadata": {
    "collapsed": false
   },
   "outputs": [],
   "source": [
    "A = np.matrix('1, 1; 2, 2')\n",
    "b = np.matrix('2;3')\n",
    "np.linalg.det(A)"
   ]
  },
  {
   "cell_type": "code",
   "execution_count": null,
   "metadata": {
    "collapsed": false
   },
   "outputs": [],
   "source": [
    "x = np.linalg.solve(A, b)"
   ]
  },
  {
   "cell_type": "markdown",
   "metadata": {},
   "source": [
    "The matrix $A$ whose determinant is zero called `Singular matrix`.(`Singular`라는 말 그대로, 방정식이 풀리지 않는 `이상한` 매트릭스.)"
   ]
  },
  {
   "cell_type": "markdown",
   "metadata": {},
   "source": [
    "## Example 04 (Soution of the Linear System)\n",
    "Write code to find a solution, $x$, of the following linear system code using Jacobi method.\n",
    "\\begin{equation}\n",
    "\\begin{bmatrix}\n",
    "10 & 4 & 2 & 0 \\\\\n",
    "9 & 15 & 0 & 0 \\\\\n",
    "4 & 0 & 12 & 4 \\\\\n",
    "6 & 1 & 8 & 13\n",
    "\\end{bmatrix}\n",
    "\\begin{bmatrix}\n",
    "x_1\\\\x_2\\\\x_3\\\\x_4\n",
    "\\end{bmatrix}=\n",
    "\\begin{bmatrix}\n",
    "15\\\\19\\\\26\\\\44\n",
    "\\end{bmatrix}\n",
    "\\end{equation}"
   ]
  },
  {
   "cell_type": "code",
   "execution_count": null,
   "metadata": {
    "collapsed": true
   },
   "outputs": [],
   "source": [
    "A = np.matrix('10, 4, 2, 0; 9, 15, 0, 0; 4, 0, 12, 4; 6, 1, 8, 13')\n",
    "b = np.matrix('15;19;26;44')"
   ]
  },
  {
   "cell_type": "code",
   "execution_count": null,
   "metadata": {
    "collapsed": true
   },
   "outputs": [],
   "source": [
    "D = np.diag(np.diag(A))\n",
    "R = A - D"
   ]
  },
  {
   "cell_type": "code",
   "execution_count": null,
   "metadata": {
    "collapsed": false
   },
   "outputs": [],
   "source": [
    "invD = np.matrix(np.diag(1 / np.diag(A)))\n",
    "invD"
   ]
  },
  {
   "cell_type": "markdown",
   "metadata": {},
   "source": [
    "- TODO 1 : $x^{(k+1)} = D^{-1} (b - Rx^{(k)})$"
   ]
  },
  {
   "cell_type": "code",
   "execution_count": null,
   "metadata": {
    "collapsed": false
   },
   "outputs": [],
   "source": [
    "MaxIter = 10\n",
    "x0 = np.matrix('1;1;1;1')\n",
    "for it in range(MaxIter):\n",
    "    # TODO 1\n",
    "    \n",
    "    x0 = x1"
   ]
  },
  {
   "cell_type": "code",
   "execution_count": null,
   "metadata": {
    "collapsed": false
   },
   "outputs": [],
   "source": [
    "x0"
   ]
  },
  {
   "cell_type": "code",
   "execution_count": null,
   "metadata": {
    "collapsed": false
   },
   "outputs": [],
   "source": [
    "np.linalg.solve(A,b)"
   ]
  },
  {
   "cell_type": "markdown",
   "metadata": {},
   "source": [
    "## Example 05 (Soution of the Linear System)\n",
    "Write code to find a solution, $x$, of the following linear system code using Jacobi Methd.\n",
    "\n",
    "\\begin{equation}\n",
    "\\begin{bmatrix}\n",
    "1 & 4 & 2 & 0 \\\\\n",
    "9 & 5 & 0 & 0 \\\\\n",
    "4 & 0 & 2 & 4 \\\\\n",
    "6 & 1 & 8 & 3\n",
    "\\end{bmatrix}\n",
    "\\begin{bmatrix}\n",
    "x_1\\\\x_2\\\\x_3\\\\x_4\n",
    "\\end{bmatrix}=\n",
    "\\begin{bmatrix}\n",
    "15\\\\19\\\\26\\\\44\n",
    "\\end{bmatrix}\n",
    "\\end{equation}"
   ]
  },
  {
   "cell_type": "code",
   "execution_count": null,
   "metadata": {
    "collapsed": true
   },
   "outputs": [],
   "source": [
    "A = np.matrix('1, 4, 2, 0; 9, 5, 0, 0; 4, 0, 2, 4; 6, 1, 8, 3')\n",
    "b = np.matrix('15;19;26;44')"
   ]
  },
  {
   "cell_type": "code",
   "execution_count": null,
   "metadata": {
    "collapsed": true
   },
   "outputs": [],
   "source": [
    "D = np.diag(np.diag(A))\n",
    "R = A - D"
   ]
  },
  {
   "cell_type": "code",
   "execution_count": null,
   "metadata": {
    "collapsed": false
   },
   "outputs": [],
   "source": [
    "invD = np.matrix(np.diag(1 / np.diag(A)))\n",
    "invD"
   ]
  },
  {
   "cell_type": "markdown",
   "metadata": {},
   "source": [
    "- TODO 2 : $x^{(k+1)} = D^{-1} (b - Rx^{(k)})$ with for loop"
   ]
  },
  {
   "cell_type": "code",
   "execution_count": null,
   "metadata": {
    "collapsed": true
   },
   "outputs": [],
   "source": [
    "MaxIter = 10\n",
    "x0 = np.matrix('1;1;1;1')\n",
    "# TODO 2\n"
   ]
  },
  {
   "cell_type": "code",
   "execution_count": null,
   "metadata": {
    "collapsed": false
   },
   "outputs": [],
   "source": [
    "x0"
   ]
  },
  {
   "cell_type": "code",
   "execution_count": null,
   "metadata": {
    "collapsed": false
   },
   "outputs": [],
   "source": [
    "np.linalg.solve(A, b)"
   ]
  },
  {
   "cell_type": "markdown",
   "metadata": {},
   "source": [
    "## Example 06 (Soution of the Linear System)\n",
    "Write code to find a solution, $x$, of the following linear system code using CG method.\n",
    "\\begin{equation}\n",
    "\\begin{bmatrix}\n",
    "10 & 4 & 2 & 6 \\\\\n",
    "4 & 15 & 0 & 1 \\\\\n",
    "2 & 0 & 12 & 4 \\\\\n",
    "6 & 1 & 4 & 13\n",
    "\\end{bmatrix}\n",
    "\\begin{bmatrix}\n",
    "x_1\\\\x_2\\\\x_3\\\\x_4\n",
    "\\end{bmatrix}=\n",
    "\\begin{bmatrix}\n",
    "15\\\\19\\\\26\\\\44\n",
    "\\end{bmatrix}\n",
    "\\end{equation}"
   ]
  },
  {
   "cell_type": "markdown",
   "metadata": {},
   "source": [
    "If you prefer `np.Matrix`,"
   ]
  },
  {
   "cell_type": "markdown",
   "metadata": {},
   "source": [
    "- TODO 3 : $\\alpha_k = \\frac{r_k^T r_k}{p_k^T A p_k}$\n",
    "- TODO 4 : $\\beta_k = \\frac{r_{k+1}^T r_{k+1}}{r_k^T r_k}$"
   ]
  },
  {
   "cell_type": "code",
   "execution_count": null,
   "metadata": {
    "collapsed": false
   },
   "outputs": [],
   "source": [
    "A = np.matrix('10, 4, 2, 6; 4, 15, 0, 1; 2, 0, 12, 4; 6, 1, 4, 13')\n",
    "b = np.matrix('15;19;26;44')\n",
    "x0 = np.matrix('1;1;1;1')\n",
    "r0 = b - A*x0\n",
    "p0 = r0\n",
    "MaxIter = 4\n",
    "for it in range(MaxIter):\n",
    "    # TODO 3\n",
    "    a0 = None\n",
    "\n",
    "    x1 = x0 + a0[0,0] * p0\n",
    "    r1 = r0 - a0[0,0] * A * p0\n",
    "    \n",
    "    if np.linalg.norm(r1) < 1E-8:\n",
    "        break\n",
    "    # TODO 4\n",
    "    b0 = None\n",
    "    p1 = r1 + b0[0,0] * p0\n",
    "\n",
    "    r0 = r1\n",
    "    p0 = p1\n",
    "    x0 = x1\n",
    "\n",
    "print(x0)"
   ]
  },
  {
   "cell_type": "markdown",
   "metadata": {},
   "source": [
    "If you prefer `np.array`"
   ]
  },
  {
   "cell_type": "markdown",
   "metadata": {},
   "source": [
    "- TODO 5 : $\\alpha_k = \\frac{r_k^T r_k}{p_k^T A p_k}$"
   ]
  },
  {
   "cell_type": "code",
   "execution_count": null,
   "metadata": {
    "collapsed": false
   },
   "outputs": [],
   "source": [
    "A = np.array([[10,  4,  2,  6],[ 4, 15,  0 , 1], [ 2,  0, 12,  4], [ 6,  1,  4, 13]])\n",
    "b = np.array([15, 19, 26, 44])\n",
    "x0 = np.array([1, 1, 1, 1])\n",
    "r0 = b - np.dot(A,x0)\n",
    "p0 = r0\n",
    "MaxIter = 4\n",
    "for it in range(MaxIter):\n",
    "    # TODO 5\n",
    "    a0 = np.dot() / np.dot()\n",
    "    x1 = x0 + a0 * p0\n",
    "    r1 = r0 - a0 * np.dot(A, p0)\n",
    "\n",
    "    if np.linalg.norm(r1) < 1E-8:\n",
    "        break\n",
    "\n",
    "    b0 = np.dot(r1, r1) / np.dot(r0, r0)\n",
    "    p1 = r1 + b0 * p0\n",
    "\n",
    "    r0 = r1\n",
    "    p0 = p1\n",
    "    x0 = x1\n",
    "\n",
    "print(x0)"
   ]
  },
  {
   "cell_type": "code",
   "execution_count": null,
   "metadata": {
    "collapsed": false
   },
   "outputs": [],
   "source": [
    "np.linalg.solve(A,b)"
   ]
  },
  {
   "cell_type": "markdown",
   "metadata": {},
   "source": [
    "## Example 07 (Soution of the Linear System)\n",
    "Write code to find a solution, $x$, of the following linear system code using CG method.\n",
    "\\begin{equation}\n",
    "\\begin{bmatrix}\n",
    "1 & 4 & 2 & 0 \\\\\n",
    "9 & 5 & 0 & 0 \\\\\n",
    "4 & 0 & 2 & 4 \\\\\n",
    "6 & 1 & 8 & 3\n",
    "\\end{bmatrix}\n",
    "\\begin{bmatrix}\n",
    "x_1\\\\x_2\\\\x_3\\\\x_4\n",
    "\\end{bmatrix}=\n",
    "\\begin{bmatrix}\n",
    "15\\\\19\\\\26\\\\44\n",
    "\\end{bmatrix}\n",
    "\\end{equation}"
   ]
  },
  {
   "cell_type": "code",
   "execution_count": null,
   "metadata": {
    "collapsed": true
   },
   "outputs": [],
   "source": [
    "A = np.matrix('1, 4, 2, 0; 9, 5, 0, 0; 4, 0, 2, 4; 6, 1, 8, 3')\n",
    "b = np.matrix('15;19;26;44')"
   ]
  },
  {
   "cell_type": "markdown",
   "metadata": {},
   "source": [
    "- TODO 6 : $r_{k+1} = r_k - \\alpha_k A p_k$"
   ]
  },
  {
   "cell_type": "code",
   "execution_count": null,
   "metadata": {
    "collapsed": false
   },
   "outputs": [],
   "source": [
    "x0 = np.matrix('1;1;1;1')\n",
    "r0 = b - A*x0\n",
    "p0 = r0\n",
    "MaxIter = 100\n",
    "for it in range(MaxIter):\n",
    "    a0 = r0.T * r0 / (p0.T * A * p0)\n",
    "    x1 = x0 + a0[0,0] * p0\n",
    "    # TODO 6\n",
    "    r1 = None\n",
    "    \n",
    "    if np.linalg.norm(r1) < 1E-8:\n",
    "        break\n",
    "    \n",
    "    b0 = r1.T * r1 / (r0.T * r0)\n",
    "    p1 = r1 + b0[0,0] * p0\n",
    "\n",
    "    r0 = r1\n",
    "    p0 = p1\n",
    "    x0 = x1\n",
    "print(x0)"
   ]
  },
  {
   "cell_type": "code",
   "execution_count": null,
   "metadata": {
    "collapsed": false
   },
   "outputs": [],
   "source": [
    "np.linalg.solve(A,b)"
   ]
  },
  {
   "cell_type": "code",
   "execution_count": null,
   "metadata": {
    "collapsed": true
   },
   "outputs": [],
   "source": []
  }
 ],
 "metadata": {
  "kernelspec": {
   "display_name": "Python 3",
   "language": "python",
   "name": "python3"
  },
  "language_info": {
   "codemirror_mode": {
    "name": "ipython",
    "version": 3
   },
   "file_extension": ".py",
   "mimetype": "text/x-python",
   "name": "python",
   "nbconvert_exporter": "python",
   "pygments_lexer": "ipython3",
   "version": "3.5.2"
  }
 },
 "nbformat": 4,
 "nbformat_minor": 2
}
