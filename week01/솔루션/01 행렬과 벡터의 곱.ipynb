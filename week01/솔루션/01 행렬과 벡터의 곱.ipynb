{
 "cells": [
  {
   "cell_type": "code",
   "execution_count": 1,
   "metadata": {
    "collapsed": true
   },
   "outputs": [],
   "source": [
    "import numpy as np"
   ]
  },
  {
   "cell_type": "markdown",
   "metadata": {},
   "source": [
    "Useful documents link :\n",
    "1. https://docs.scipy.org/doc/numpy-1.13.0/reference/generated/numpy.matrix.html\n",
    "1. https://docs.scipy.org/doc/numpy-1.13.0/reference/generated/numpy.linalg.det.html\n",
    "1. https://docs.scipy.org/doc/numpy-1.13.0/reference/generated/numpy.linalg.solve.html"
   ]
  },
  {
   "cell_type": "markdown",
   "metadata": {},
   "source": [
    "## How to create matrix?\n",
    "1. `numpy.matrix` : Good for mathematical sense\n",
    "1. `numpy.array` : Good for practical sense"
   ]
  },
  {
   "cell_type": "code",
   "execution_count": 8,
   "metadata": {
    "collapsed": false
   },
   "outputs": [
    {
     "name": "stdout",
     "output_type": "stream",
     "text": [
      "[[1 4 2 0]\n",
      " [9 5 0 0]\n",
      " [4 0 2 4]\n",
      " [6 1 8 3]]\n",
      "[[1]\n",
      " [2]\n",
      " [3]\n",
      " [4]]\n"
     ]
    }
   ],
   "source": [
    "A = np.matrix('1, 4, 2, 0; 9, 5, 0, 0; 4, 0, 2, 4; 6, 1, 8, 3')\n",
    "x = np.matrix('1;2;3;4')\n",
    "print(A)\n",
    "print(x)"
   ]
  },
  {
   "cell_type": "code",
   "execution_count": 3,
   "metadata": {
    "collapsed": false
   },
   "outputs": [
    {
     "name": "stdout",
     "output_type": "stream",
     "text": [
      "[[1 4 2 0]\n",
      " [9 5 0 0]\n",
      " [4 0 2 4]\n",
      " [6 1 8 3]]\n",
      "[1 2 3 4]\n"
     ]
    }
   ],
   "source": [
    "A = np.array([[1, 4, 2, 0], [9, 5, 0, 0], [4, 0, 2, 4], [6, 1, 8, 3]])\n",
    "x = np.array([1,2,3,4])\n",
    "print(A)\n",
    "print(x)"
   ]
  },
  {
   "cell_type": "markdown",
   "metadata": {},
   "source": [
    "## Example 01-1 (Matrix-Vector Multiplication)\n",
    "Write code for the follwoing problem.\n",
    "\\begin{equation}\n",
    "\\begin{bmatrix}\n",
    "1 & 4 & 2 & 0 \\\\\n",
    "9 & 5 & 0 & 0 \\\\\n",
    "4 & 0 & 2 & 4 \\\\\n",
    "6 & 1 & 8 & 3\n",
    "\\end{bmatrix}\n",
    "\\begin{bmatrix}\n",
    "1\\\\2\\\\3\\\\4\n",
    "\\end{bmatrix}=?\n",
    "\\end{equation}"
   ]
  },
  {
   "cell_type": "code",
   "execution_count": 5,
   "metadata": {
    "collapsed": false
   },
   "outputs": [
    {
     "name": "stdout",
     "output_type": "stream",
     "text": [
      "[[ 15.]\n",
      " [ 19.]\n",
      " [ 26.]\n",
      " [ 44.]]\n"
     ]
    }
   ],
   "source": [
    "A = np.matrix('1, 4, 2, 0; 9, 5, 0, 0; 4, 0, 2, 4; 6, 1, 8, 3')\n",
    "x = np.matrix('1;2;3;4')\n",
    "b = np.zeros((4,1))\n",
    "n = 4\n",
    "for i in range(0, n):\n",
    "    val = 0.0\n",
    "    for j in range(0,n):\n",
    "        # TODO 1\n",
    "        val += A[i,j] * x[j]\n",
    "    b[i] = val\n",
    "print(b)"
   ]
  },
  {
   "cell_type": "code",
   "execution_count": 13,
   "metadata": {
    "collapsed": false
   },
   "outputs": [
    {
     "name": "stdout",
     "output_type": "stream",
     "text": [
      "[15 19 26 44]\n"
     ]
    }
   ],
   "source": [
    "A = np.array([[1, 4, 2, 0], [9, 5, 0, 0], [4, 0, 2, 4], [6, 1, 8, 3]])\n",
    "x = np.array([1,2,3,4])\n",
    "b = np.array([0,0,0,0])\n",
    "n = 4\n",
    "for i in range(0, n):\n",
    "    val = 0.0\n",
    "    for j in range(0,n):\n",
    "        # TODO 2\n",
    "        val += A[i,j] * x[j]\n",
    "    b[i] = val\n",
    "print(b)"
   ]
  },
  {
   "cell_type": "markdown",
   "metadata": {},
   "source": [
    "## Example 01-2 (Matrix-Vector Multiplication)\n",
    "Write code for the follwoing problem using `numpy`.\n",
    "\\begin{equation}\n",
    "\\begin{bmatrix}\n",
    "1 & 4 & 2 & 0 \\\\\n",
    "9 & 5 & 0 & 0 \\\\\n",
    "4 & 0 & 2 & 4 \\\\\n",
    "6 & 1 & 8 & 3\n",
    "\\end{bmatrix}\n",
    "\\begin{bmatrix}\n",
    "1\\\\2\\\\3\\\\4\n",
    "\\end{bmatrix}=?\n",
    "\\end{equation}"
   ]
  },
  {
   "cell_type": "code",
   "execution_count": 14,
   "metadata": {
    "collapsed": false
   },
   "outputs": [
    {
     "name": "stdout",
     "output_type": "stream",
     "text": [
      "[[1 4 2 0]\n",
      " [9 5 0 0]\n",
      " [4 0 2 4]\n",
      " [6 1 8 3]]\n",
      "[[1]\n",
      " [2]\n",
      " [3]\n",
      " [4]]\n",
      "[[15]\n",
      " [19]\n",
      " [26]\n",
      " [44]]\n"
     ]
    }
   ],
   "source": [
    "A = np.matrix('1, 4, 2, 0; 9, 5, 0, 0; 4, 0, 2, 4; 6, 1, 8, 3')\n",
    "print(A)\n",
    "x = np.matrix('1;2;3;4')\n",
    "print(x)\n",
    "\n",
    "# TODO 3\n",
    "b = A*x\n",
    "print(b)"
   ]
  },
  {
   "cell_type": "code",
   "execution_count": 16,
   "metadata": {
    "collapsed": false
   },
   "outputs": [
    {
     "name": "stdout",
     "output_type": "stream",
     "text": [
      "[[1 4 2 0]\n",
      " [9 5 0 0]\n",
      " [4 0 2 4]\n",
      " [6 1 8 3]]\n",
      "[1 2 3 4]\n",
      "[15 19 26 44]\n",
      "[15 19 26 44]\n"
     ]
    }
   ],
   "source": [
    "A = np.array([[1, 4, 2, 0], [9, 5, 0, 0], [4, 0, 2, 4], [6, 1, 8, 3]])\n",
    "print(A)\n",
    "x = np.array([1,2,3,4])\n",
    "print(x)\n",
    "b = np.array([0,0,0,0])\n",
    "# TODO 4\n",
    "\n",
    "b = np.dot(A,x)\n",
    "print(b)\n",
    "\n",
    "b = np.matmul(A,x)\n",
    "print(b)"
   ]
  },
  {
   "cell_type": "markdown",
   "metadata": {},
   "source": [
    "#### Remark\n",
    "While `np.array` can be used for matrix/vector multiplication, in this lecture, we prefer `np.matrix`, since `np.matrix` is more intuitive for users in the view of linear algebra. You can see sample code to show `np.matrix`'s convience.\n"
   ]
  },
  {
   "cell_type": "code",
   "execution_count": 11,
   "metadata": {
    "collapsed": true
   },
   "outputs": [],
   "source": [
    "A = np.array([[1, 4, 2, 0],[9, 5, 0, 0], [4, 0, 2, 4],[6, 1, 8, 3]])\n",
    "x = np.array([1, 2, 3, 4])"
   ]
  },
  {
   "cell_type": "code",
   "execution_count": 12,
   "metadata": {
    "collapsed": false
   },
   "outputs": [
    {
     "data": {
      "text/plain": [
       "array([[ 1,  8,  6,  0],\n",
       "       [ 9, 10,  0,  0],\n",
       "       [ 4,  0,  6, 16],\n",
       "       [ 6,  2, 24, 12]])"
      ]
     },
     "execution_count": 12,
     "metadata": {},
     "output_type": "execute_result"
    }
   ],
   "source": [
    "A*x"
   ]
  },
  {
   "cell_type": "code",
   "execution_count": 17,
   "metadata": {
    "collapsed": false
   },
   "outputs": [
    {
     "data": {
      "text/plain": [
       "array([15, 19, 26, 44])"
      ]
     },
     "execution_count": 17,
     "metadata": {},
     "output_type": "execute_result"
    }
   ],
   "source": [
    "np.dot(A,x)"
   ]
  },
  {
   "cell_type": "code",
   "execution_count": 18,
   "metadata": {
    "collapsed": false
   },
   "outputs": [
    {
     "data": {
      "text/plain": [
       "array([55, 18, 40, 24])"
      ]
     },
     "execution_count": 18,
     "metadata": {},
     "output_type": "execute_result"
    }
   ],
   "source": [
    "np.dot(x,A)"
   ]
  },
  {
   "cell_type": "markdown",
   "metadata": {},
   "source": [
    "## Example 02-1 (Matrix-Vector Multiplication)\n",
    "Write code for the follwoing problem.\n",
    "\\begin{equation}\n",
    "\\begin{bmatrix}\n",
    "4 & 5 & 2 & 1 \\\\\n",
    "2 & 3 & 8 & 0 \\\\\n",
    "1 & 0 & 7 & 2\n",
    "\\end{bmatrix}\n",
    "\\begin{bmatrix}\n",
    "1\\\\2\\\\3\\\\4\n",
    "\\end{bmatrix}=?\n",
    "\\end{equation}"
   ]
  },
  {
   "cell_type": "code",
   "execution_count": 21,
   "metadata": {
    "collapsed": false
   },
   "outputs": [
    {
     "name": "stdout",
     "output_type": "stream",
     "text": [
      "[[24]\n",
      " [32]\n",
      " [30]]\n",
      "[[ 24.]\n",
      " [ 32.]\n",
      " [ 30.]]\n"
     ]
    }
   ],
   "source": [
    "A = np.matrix('4, 5, 2, 1; 2, 3, 8, 0; 1, 0, 7, 2')\n",
    "x = np.matrix('1;2;3;4')\n",
    "print(A*x)\n",
    "m = 3\n",
    "n = 4\n",
    "b = np.zeros((m,1))\n",
    "# TODO 5\n",
    "for i in range(0, m):\n",
    "    val = 0\n",
    "    for j in range(0,n):\n",
    "        val += A[i,j] * x[j]\n",
    "    b[i] = val\n",
    "print(b)"
   ]
  },
  {
   "cell_type": "code",
   "execution_count": 23,
   "metadata": {
    "collapsed": false
   },
   "outputs": [
    {
     "name": "stdout",
     "output_type": "stream",
     "text": [
      "[24 32 30]\n",
      "[ 24.  32.  30.]\n"
     ]
    }
   ],
   "source": [
    "A = np.array([[4, 5, 2, 1], [2, 3, 8, 0], [1, 0, 7, 2]])\n",
    "x = np.array([1,2,3,4])\n",
    "print(np.matmul(A,x))\n",
    "m = 3\n",
    "n = 4\n",
    "b = np.zeros(m)\n",
    "# TODO 5\n",
    "for i in range(0, m):\n",
    "    val = 0\n",
    "    for j in range(0,n):\n",
    "        val += A[i,j] * x[j]\n",
    "    b[i] = val\n",
    "print(b)"
   ]
  },
  {
   "cell_type": "markdown",
   "metadata": {},
   "source": [
    "## Example 02-2 (Matrix-Vector Multiplication)\n",
    "Write code for the follwoing problem using `numpy`.\n",
    "\\begin{equation}\n",
    "\\begin{bmatrix}\n",
    "4 & 5 & 2 & 1 \\\\\n",
    "2 & 3 & 8 & 0 \\\\\n",
    "1 & 0 & 7 & 2\n",
    "\\end{bmatrix}\n",
    "\\begin{bmatrix}\n",
    "1\\\\2\\\\3\\\\4\n",
    "\\end{bmatrix}=?\n",
    "\\end{equation}"
   ]
  },
  {
   "cell_type": "code",
   "execution_count": 24,
   "metadata": {
    "collapsed": true
   },
   "outputs": [],
   "source": [
    "A = np.matrix('4, 5, 2, 1; 2, 3, 8, 0; 1, 0, 7, 2')\n",
    "x = np.matrix('1;2;3;4')"
   ]
  },
  {
   "cell_type": "code",
   "execution_count": 25,
   "metadata": {
    "collapsed": false
   },
   "outputs": [
    {
     "data": {
      "text/plain": [
       "matrix([[24],\n",
       "        [32],\n",
       "        [30]])"
      ]
     },
     "execution_count": 25,
     "metadata": {},
     "output_type": "execute_result"
    }
   ],
   "source": [
    "A*x"
   ]
  },
  {
   "cell_type": "code",
   "execution_count": 26,
   "metadata": {
    "collapsed": true
   },
   "outputs": [],
   "source": [
    "A = np.array([[4, 5, 2, 1], [2, 3, 8, 0], [1, 0, 7, 2]])\n",
    "x = np.array([1,2,3,4])"
   ]
  },
  {
   "cell_type": "code",
   "execution_count": 27,
   "metadata": {
    "collapsed": false
   },
   "outputs": [
    {
     "data": {
      "text/plain": [
       "array([24, 32, 30])"
      ]
     },
     "execution_count": 27,
     "metadata": {},
     "output_type": "execute_result"
    }
   ],
   "source": [
    "np.dot(A,x)"
   ]
  },
  {
   "cell_type": "code",
   "execution_count": 28,
   "metadata": {
    "collapsed": false
   },
   "outputs": [
    {
     "data": {
      "text/plain": [
       "array([24, 32, 30])"
      ]
     },
     "execution_count": 28,
     "metadata": {},
     "output_type": "execute_result"
    }
   ],
   "source": [
    "np.matmul(A,x)"
   ]
  },
  {
   "cell_type": "code",
   "execution_count": null,
   "metadata": {
    "collapsed": true
   },
   "outputs": [],
   "source": []
  }
 ],
 "metadata": {
  "kernelspec": {
   "display_name": "Python 3",
   "language": "python",
   "name": "python3"
  },
  "language_info": {
   "codemirror_mode": {
    "name": "ipython",
    "version": 3
   },
   "file_extension": ".py",
   "mimetype": "text/x-python",
   "name": "python",
   "nbconvert_exporter": "python",
   "pygments_lexer": "ipython3",
   "version": "3.6.0"
  }
 },
 "nbformat": 4,
 "nbformat_minor": 2
}
