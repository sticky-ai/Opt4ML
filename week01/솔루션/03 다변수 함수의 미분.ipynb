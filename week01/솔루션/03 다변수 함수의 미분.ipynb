{
 "cells": [
  {
   "cell_type": "code",
   "execution_count": 1,
   "metadata": {
    "collapsed": true
   },
   "outputs": [],
   "source": [
    "import sympy as sp"
   ]
  },
  {
   "cell_type": "markdown",
   "metadata": {},
   "source": [
    "Usueful documents link : \n",
    "1. https://github.com/sympy/sympy/wiki/Quick-examples\n",
    "1. http://docs.sympy.org/latest/tutorial/calculus.html#derivatives\n",
    "1. http://docs.sympy.org/latest/tutorial/calculus.html#series-expansion"
   ]
  },
  {
   "cell_type": "code",
   "execution_count": 2,
   "metadata": {
    "collapsed": true
   },
   "outputs": [],
   "source": [
    "x = sp.symbols('x')\n",
    "y = sp.symbols('y')\n",
    "z = sp.symbols('z')"
   ]
  },
  {
   "cell_type": "markdown",
   "metadata": {},
   "source": [
    "## Example 01 : Derivative in 1D\n",
    "Take a derivative of $f(x)$ with respect to $x$\n",
    "\\begin{equation}\n",
    "f(x) = x^2 + 4x + 6\n",
    "\\end{equation}"
   ]
  },
  {
   "cell_type": "code",
   "execution_count": 3,
   "metadata": {
    "collapsed": false
   },
   "outputs": [
    {
     "data": {
      "text/plain": [
       "x**2 + 4*x + 6"
      ]
     },
     "execution_count": 3,
     "metadata": {},
     "output_type": "execute_result"
    }
   ],
   "source": [
    "f = x**2 + 4*x + 6\n",
    "f"
   ]
  },
  {
   "cell_type": "code",
   "execution_count": 4,
   "metadata": {
    "collapsed": false
   },
   "outputs": [
    {
     "data": {
      "text/plain": [
       "2*x + 4"
      ]
     },
     "execution_count": 4,
     "metadata": {},
     "output_type": "execute_result"
    }
   ],
   "source": [
    "sp.diff(f,x)"
   ]
  },
  {
   "cell_type": "code",
   "execution_count": 5,
   "metadata": {
    "collapsed": true
   },
   "outputs": [],
   "source": [
    "sp.init_printing()"
   ]
  },
  {
   "cell_type": "code",
   "execution_count": 6,
   "metadata": {
    "collapsed": false
   },
   "outputs": [
    {
     "data": {
      "image/png": "[encoded data removed]",
      "text/latex": [
       "$$2 x + 4$$"
      ],
      "text/plain": [
       "2⋅x + 4"
      ]
     },
     "execution_count": 6,
     "metadata": {},
     "output_type": "execute_result"
    }
   ],
   "source": [
    "sp.diff(f,x)"
   ]
  },
  {
   "cell_type": "markdown",
   "metadata": {},
   "source": [
    "## Example 02 : Derivative in 2D\n",
    "Take a partial derivative of $f(x,y)$ with respect to $x$ and $y$\n",
    "\\begin{equation}\n",
    "f(x,y) = x^2 + 4x + 6 + y^2 + xy\n",
    "\\end{equation}"
   ]
  },
  {
   "cell_type": "code",
   "execution_count": 7,
   "metadata": {
    "collapsed": false
   },
   "outputs": [
    {
     "data": {
      "image/png": "[encoded data removed]",
      "text/latex": [
       "$$x^{2} + x y + 4 x + y^{2} + 6$$"
      ],
      "text/plain": [
       " 2                2    \n",
       "x  + x⋅y + 4⋅x + y  + 6"
      ]
     },
     "execution_count": 7,
     "metadata": {},
     "output_type": "execute_result"
    }
   ],
   "source": [
    "f = x**2 + 4*x + 6 + y**2 + x*y\n",
    "f"
   ]
  },
  {
   "cell_type": "markdown",
   "metadata": {},
   "source": [
    "- TODO 1: Compute $\\frac{\\partial f}{\\partial x}$\n",
    "- TODO 2: Compute $\\frac{\\partial f}{\\partial y}$"
   ]
  },
  {
   "cell_type": "code",
   "execution_count": 9,
   "metadata": {
    "collapsed": false
   },
   "outputs": [
    {
     "data": {
      "image/png": "[encoded data removed]",
      "text/latex": [
       "$$2 x + y + 4$$"
      ],
      "text/plain": [
       "2⋅x + y + 4"
      ]
     },
     "execution_count": 9,
     "metadata": {},
     "output_type": "execute_result"
    }
   ],
   "source": [
    "# TODO 1\n",
    "sp.diff(f,x)"
   ]
  },
  {
   "cell_type": "code",
   "execution_count": 10,
   "metadata": {
    "collapsed": false
   },
   "outputs": [
    {
     "data": {
      "image/png": "[encoded data removed]",
      "text/latex": [
       "$$x + 2 y$$"
      ],
      "text/plain": [
       "x + 2⋅y"
      ]
     },
     "execution_count": 10,
     "metadata": {},
     "output_type": "execute_result"
    }
   ],
   "source": [
    "# TODO 2\n",
    "sp.diff(f,y)"
   ]
  },
  {
   "cell_type": "markdown",
   "metadata": {},
   "source": [
    "## Example 03 : Gradient in 2D\n",
    "Find a gradient of $f(x,y)$\n",
    "\\begin{equation}\n",
    "f(x,y) = x^2 + 4x + 6 + y^2 + xy\n",
    "\\end{equation}"
   ]
  },
  {
   "cell_type": "code",
   "execution_count": 11,
   "metadata": {
    "collapsed": false
   },
   "outputs": [
    {
     "data": {
      "image/png": "[encoded data removed]",
      "text/latex": [
       "$$\\left[\\begin{matrix}x^{2} + x y + 4 x + y^{2} + 6\\end{matrix}\\right]$$"
      ],
      "text/plain": [
       "⎡ 2                2    ⎤\n",
       "⎣x  + x⋅y + 4⋅x + y  + 6⎦"
      ]
     },
     "execution_count": 11,
     "metadata": {},
     "output_type": "execute_result"
    }
   ],
   "source": [
    "F = sp.Matrix(1,1,[f])\n",
    "F"
   ]
  },
  {
   "cell_type": "code",
   "execution_count": 12,
   "metadata": {
    "collapsed": false
   },
   "outputs": [
    {
     "data": {
      "image/png": "[encoded data removed]",
      "text/latex": [
       "$$\\left[\\begin{matrix}2 x + y + 4\\\\x + 2 y\\end{matrix}\\right]$$"
      ],
      "text/plain": [
       "⎡2⋅x + y + 4⎤\n",
       "⎢           ⎥\n",
       "⎣  x + 2⋅y  ⎦"
      ]
     },
     "execution_count": 12,
     "metadata": {},
     "output_type": "execute_result"
    }
   ],
   "source": [
    "grad = F.jacobian([x,y]).T\n",
    "grad"
   ]
  },
  {
   "cell_type": "markdown",
   "metadata": {},
   "source": [
    "## Example 04 : Derivative in 3D\n",
    "Take partial derivatives of $f(x,y,z)$ with respect to $x,y,z$\n",
    "\\begin{equation}\n",
    "f(x,y,z) = x^2z^2 + 4x + 6 + y^2 + xy \n",
    "\\end{equation}"
   ]
  },
  {
   "cell_type": "markdown",
   "metadata": {},
   "source": [
    "- TODO 3: Compute $\\nabla f(x,y,z)$"
   ]
  },
  {
   "cell_type": "code",
   "execution_count": 14,
   "metadata": {
    "collapsed": false
   },
   "outputs": [
    {
     "data": {
      "image/png": "[encoded data removed]",
      "text/latex": [
       "$$\\left[\\begin{matrix}2 x z^{2} + y + 4\\\\x + 2 y\\\\2 x^{2} z\\end{matrix}\\right]$$"
      ],
      "text/plain": [
       "⎡     2        ⎤\n",
       "⎢2⋅x⋅z  + y + 4⎥\n",
       "⎢              ⎥\n",
       "⎢   x + 2⋅y    ⎥\n",
       "⎢              ⎥\n",
       "⎢       2      ⎥\n",
       "⎣    2⋅x ⋅z    ⎦"
      ]
     },
     "execution_count": 14,
     "metadata": {},
     "output_type": "execute_result"
    }
   ],
   "source": [
    "# TODO 3\n",
    "f = x**2 * z**2 + 4 * x + 6 + y**2 + x*y\n",
    "F = sp.Matrix(1,1,[f])\n",
    "grad = F.jacobian([x,y,z]).T\n",
    "grad"
   ]
  },
  {
   "cell_type": "markdown",
   "metadata": {},
   "source": [
    "## Appendix"
   ]
  },
  {
   "cell_type": "code",
   "execution_count": 15,
   "metadata": {
    "collapsed": false
   },
   "outputs": [
    {
     "data": {
      "image/png": "[encoded data removed]",
      "text/latex": [
       "$$\\int x^{2} z^{2} + x y + 4 x + y^{2} + 6\\, dx$$"
      ],
      "text/plain": [
       "⌠                                \n",
       "⎮ ⎛ 2  2                2    ⎞   \n",
       "⎮ ⎝x ⋅z  + x⋅y + 4⋅x + y  + 6⎠ dx\n",
       "⌡                                "
      ]
     },
     "execution_count": 15,
     "metadata": {},
     "output_type": "execute_result"
    }
   ],
   "source": [
    "sp.Integral(f,x)"
   ]
  },
  {
   "cell_type": "code",
   "execution_count": 16,
   "metadata": {
    "collapsed": false
   },
   "outputs": [
    {
     "data": {
      "image/png": "[encoded data removed]",
      "text/latex": [
       "$$\\frac{x^{3} z^{2}}{3} + x^{2} \\left(\\frac{y}{2} + 2\\right) + x \\left(y^{2} + 6\\right)$$"
      ],
      "text/plain": [
       " 3  2                          \n",
       "x ⋅z     2 ⎛y    ⎞     ⎛ 2    ⎞\n",
       "───── + x ⋅⎜─ + 2⎟ + x⋅⎝y  + 6⎠\n",
       "  3        ⎝2    ⎠             "
      ]
     },
     "execution_count": 16,
     "metadata": {},
     "output_type": "execute_result"
    }
   ],
   "source": [
    "sp.integrate(f,x)"
   ]
  },
  {
   "cell_type": "code",
   "execution_count": 17,
   "metadata": {
    "collapsed": false
   },
   "outputs": [
    {
     "data": {
      "image/png": "[encoded data removed]",
      "text/latex": [
       "$$\\frac{x y^{2}}{2} + \\frac{y^{3}}{3} + y \\left(x^{2} z^{2} + 4 x + 6\\right)$$"
      ],
      "text/plain": [
       "   2    3                      \n",
       "x⋅y    y      ⎛ 2  2          ⎞\n",
       "──── + ── + y⋅⎝x ⋅z  + 4⋅x + 6⎠\n",
       " 2     3                       "
      ]
     },
     "execution_count": 17,
     "metadata": {},
     "output_type": "execute_result"
    }
   ],
   "source": [
    "sp.integrate(f,y)"
   ]
  },
  {
   "cell_type": "markdown",
   "metadata": {},
   "source": [
    "## Example 05\n",
    "Check $x\\in\\mathbf{R}^4$\n",
    "\n",
    "\\begin{equation}\n",
    "\\nabla \\left( \\frac{1}{2} x^Tx\\right) = x\n",
    "\\end{equation}"
   ]
  },
  {
   "cell_type": "code",
   "execution_count": 18,
   "metadata": {
    "collapsed": false
   },
   "outputs": [
    {
     "data": {
      "image/png": "[encoded data removed]",
      "text/latex": [
       "$$\\left ( x_{0}, \\quad x_{1}, \\quad x_{2}, \\quad x_{3}\\right )$$"
      ],
      "text/plain": [
       "(x₀, x₁, x₂, x₃)"
      ]
     },
     "execution_count": 18,
     "metadata": {},
     "output_type": "execute_result"
    }
   ],
   "source": [
    "x = sp.symbols('x_0:4')\n",
    "x"
   ]
  },
  {
   "cell_type": "code",
   "execution_count": 19,
   "metadata": {
    "collapsed": false
   },
   "outputs": [
    {
     "data": {
      "image/png": "[encoded data removed]",
      "text/latex": [
       "$$\\left[\\begin{matrix}x_{0}\\\\x_{1}\\\\x_{2}\\\\x_{3}\\end{matrix}\\right]$$"
      ],
      "text/plain": [
       "⎡x₀⎤\n",
       "⎢  ⎥\n",
       "⎢x₁⎥\n",
       "⎢  ⎥\n",
       "⎢x₂⎥\n",
       "⎢  ⎥\n",
       "⎣x₃⎦"
      ]
     },
     "execution_count": 19,
     "metadata": {},
     "output_type": "execute_result"
    }
   ],
   "source": [
    "x = sp.Matrix(x)\n",
    "x"
   ]
  },
  {
   "cell_type": "code",
   "execution_count": 20,
   "metadata": {
    "collapsed": false
   },
   "outputs": [
    {
     "data": {
      "image/png": "[encoded data removed]",
      "text/latex": [
       "$$\\left[\\begin{matrix}0.5 x_{0}^{2} + 0.5 x_{1}^{2} + 0.5 x_{2}^{2} + 0.5 x_{3}^{2}\\end{matrix}\\right]$$"
      ],
      "text/plain": [
       "⎡      2         2         2         2⎤\n",
       "⎣0.5⋅x₀  + 0.5⋅x₁  + 0.5⋅x₂  + 0.5⋅x₃ ⎦"
      ]
     },
     "execution_count": 20,
     "metadata": {},
     "output_type": "execute_result"
    }
   ],
   "source": [
    "f = 0.5 * x.T * x\n",
    "f"
   ]
  },
  {
   "cell_type": "code",
   "execution_count": 21,
   "metadata": {
    "collapsed": false
   },
   "outputs": [
    {
     "data": {
      "image/png": "[encoded data removed]",
      "text/latex": [
       "$$\\left[\\begin{matrix}1.0 x_{0}\\\\1.0 x_{1}\\\\1.0 x_{2}\\\\1.0 x_{3}\\end{matrix}\\right]$$"
      ],
      "text/plain": [
       "⎡1.0⋅x₀⎤\n",
       "⎢      ⎥\n",
       "⎢1.0⋅x₁⎥\n",
       "⎢      ⎥\n",
       "⎢1.0⋅x₂⎥\n",
       "⎢      ⎥\n",
       "⎣1.0⋅x₃⎦"
      ]
     },
     "execution_count": 21,
     "metadata": {},
     "output_type": "execute_result"
    }
   ],
   "source": [
    "f.jacobian(x).T"
   ]
  },
  {
   "cell_type": "markdown",
   "metadata": {},
   "source": [
    "## Example 05\n",
    "Check $x\\in\\mathbf{R}^4$\n",
    "\n",
    "\\begin{equation}\n",
    "\\nabla \\left( \\frac{1}{2} x^TAx\\right) = \\frac{1}{2}(A+A^T)x\n",
    "\\end{equation}"
   ]
  },
  {
   "cell_type": "code",
   "execution_count": 22,
   "metadata": {
    "collapsed": false
   },
   "outputs": [
    {
     "data": {
      "image/png": "[encoded data removed]",
      "text/latex": [
       "$$\\left ( x_{0}, \\quad x_{1}, \\quad x_{2}, \\quad x_{3}\\right )$$"
      ],
      "text/plain": [
       "(x₀, x₁, x₂, x₃)"
      ]
     },
     "execution_count": 22,
     "metadata": {},
     "output_type": "execute_result"
    }
   ],
   "source": [
    "x = sp.symbols('x_0:4')\n",
    "x"
   ]
  },
  {
   "cell_type": "code",
   "execution_count": 23,
   "metadata": {
    "collapsed": false
   },
   "outputs": [
    {
     "data": {
      "image/png": "[encoded data removed]",
      "text/latex": [
       "$$\\left[\\begin{matrix}x_{0}\\\\x_{1}\\\\x_{2}\\\\x_{3}\\end{matrix}\\right]$$"
      ],
      "text/plain": [
       "⎡x₀⎤\n",
       "⎢  ⎥\n",
       "⎢x₁⎥\n",
       "⎢  ⎥\n",
       "⎢x₂⎥\n",
       "⎢  ⎥\n",
       "⎣x₃⎦"
      ]
     },
     "execution_count": 23,
     "metadata": {},
     "output_type": "execute_result"
    }
   ],
   "source": [
    "x = sp.Matrix(x)\n",
    "x"
   ]
  },
  {
   "cell_type": "code",
   "execution_count": 24,
   "metadata": {
    "collapsed": false
   },
   "outputs": [
    {
     "data": {
      "image/png": "[encoded data removed]",
      "text/latex": [
       "$$A$$"
      ],
      "text/plain": [
       "A"
      ]
     },
     "execution_count": 24,
     "metadata": {},
     "output_type": "execute_result"
    }
   ],
   "source": [
    "A = sp.MatrixSymbol('A', 4,4)\n",
    "A"
   ]
  },
  {
   "cell_type": "code",
   "execution_count": 25,
   "metadata": {
    "collapsed": false
   },
   "outputs": [
    {
     "data": {
      "image/png": "[encoded data removed]",
      "text/latex": [
       "$$\\left[\\begin{array}{cccc}A_{0, 0} & A_{0, 1} & A_{0, 2} & A_{0, 3}\\\\A_{1, 0} & A_{1, 1} & A_{1, 2} & A_{1, 3}\\\\A_{2, 0} & A_{2, 1} & A_{2, 2} & A_{2, 3}\\\\A_{3, 0} & A_{3, 1} & A_{3, 2} & A_{3, 3}\\end{array}\\right]$$"
      ],
      "text/plain": [
       "⎡A₀₀  A₀₁  A₀₂  A₀₃⎤\n",
       "⎢                  ⎥\n",
       "⎢A₁₀  A₁₁  A₁₂  A₁₃⎥\n",
       "⎢                  ⎥\n",
       "⎢A₂₀  A₂₁  A₂₂  A₂₃⎥\n",
       "⎢                  ⎥\n",
       "⎣A₃₀  A₃₁  A₃₂  A₃₃⎦"
      ]
     },
     "execution_count": 25,
     "metadata": {},
     "output_type": "execute_result"
    }
   ],
   "source": [
    "A = sp.Matrix(A)\n",
    "A"
   ]
  },
  {
   "cell_type": "code",
   "execution_count": 26,
   "metadata": {
    "collapsed": false
   },
   "outputs": [
    {
     "data": {
      "image/png": "[encoded data removed]",
      "text/latex": [
       "$$\\left[\\begin{matrix}x_{0} A_{0, 0} + x_{1} A_{0, 1} + x_{2} A_{0, 2} + x_{3} A_{0, 3}\\\\x_{0} A_{1, 0} + x_{1} A_{1, 1} + x_{2} A_{1, 2} + x_{3} A_{1, 3}\\\\x_{0} A_{2, 0} + x_{1} A_{2, 1} + x_{2} A_{2, 2} + x_{3} A_{2, 3}\\\\x_{0} A_{3, 0} + x_{1} A_{3, 1} + x_{2} A_{3, 2} + x_{3} A_{3, 3}\\end{matrix}\\right]$$"
      ],
      "text/plain": [
       "⎡x₀⋅A₀₀ + x₁⋅A₀₁ + x₂⋅A₀₂ + x₃⋅A₀₃⎤\n",
       "⎢                                 ⎥\n",
       "⎢x₀⋅A₁₀ + x₁⋅A₁₁ + x₂⋅A₁₂ + x₃⋅A₁₃⎥\n",
       "⎢                                 ⎥\n",
       "⎢x₀⋅A₂₀ + x₁⋅A₂₁ + x₂⋅A₂₂ + x₃⋅A₂₃⎥\n",
       "⎢                                 ⎥\n",
       "⎣x₀⋅A₃₀ + x₁⋅A₃₁ + x₂⋅A₃₂ + x₃⋅A₃₃⎦"
      ]
     },
     "execution_count": 26,
     "metadata": {},
     "output_type": "execute_result"
    }
   ],
   "source": [
    "A*x"
   ]
  },
  {
   "cell_type": "code",
   "execution_count": 27,
   "metadata": {
    "collapsed": false
   },
   "outputs": [
    {
     "data": {
      "image/png": "[encoded data removed]",
      "text/latex": [
       "$$\\left[\\begin{matrix}x_{0} \\left(0.5 x_{0} A_{0, 0} + 0.5 x_{1} A_{1, 0} + 0.5 x_{2} A_{2, 0} + 0.5 x_{3} A_{3, 0}\\right) + x_{1} \\left(0.5 x_{0} A_{0, 1} + 0.5 x_{1} A_{1, 1} + 0.5 x_{2} A_{2, 1} + 0.5 x_{3} A_{3, 1}\\right) + x_{2} \\left(0.5 x_{0} A_{0, 2} + 0.5 x_{1} A_{1, 2} + 0.5 x_{2} A_{2, 2} + 0.5 x_{3} A_{3, 2}\\right) + x_{3} \\left(0.5 x_{0} A_{0, 3} + 0.5 x_{1} A_{1, 3} + 0.5 x_{2} A_{2, 3} + 0.5 x_{3} A_{3, 3}\\right)\\end{matrix}\\right]$$"
      ],
      "text/plain": [
       "[x₀⋅(0.5⋅x₀⋅A₀₀ + 0.5⋅x₁⋅A₁₀ + 0.5⋅x₂⋅A₂₀ + 0.5⋅x₃⋅A₃₀) + x₁⋅(0.5⋅x₀⋅A₀₁ + 0.5\n",
       "⋅x₁⋅A₁₁ + 0.5⋅x₂⋅A₂₁ + 0.5⋅x₃⋅A₃₁) + x₂⋅(0.5⋅x₀⋅A₀₂ + 0.5⋅x₁⋅A₁₂ + 0.5⋅x₂⋅A₂₂ \n",
       "+ 0.5⋅x₃⋅A₃₂) + x₃⋅(0.5⋅x₀⋅A₀₃ + 0.5⋅x₁⋅A₁₃ + 0.5⋅x₂⋅A₂₃ + 0.5⋅x₃⋅A₃₃)]"
      ]
     },
     "execution_count": 27,
     "metadata": {},
     "output_type": "execute_result"
    }
   ],
   "source": [
    "f = 0.5 * x.T * A * x\n",
    "f"
   ]
  },
  {
   "cell_type": "code",
   "execution_count": 28,
   "metadata": {
    "collapsed": false
   },
   "outputs": [
    {
     "data": {
      "image/png": "[encoded data removed]",
      "text/latex": [
       "$$\\left[\\begin{matrix}1.0 x_{0} A_{0, 0} + 0.5 x_{1} A_{0, 1} + 0.5 x_{1} A_{1, 0} + 0.5 x_{2} A_{0, 2} + 0.5 x_{2} A_{2, 0} + 0.5 x_{3} A_{0, 3} + 0.5 x_{3} A_{3, 0}\\\\0.5 x_{0} A_{0, 1} + 0.5 x_{0} A_{1, 0} + 1.0 x_{1} A_{1, 1} + 0.5 x_{2} A_{1, 2} + 0.5 x_{2} A_{2, 1} + 0.5 x_{3} A_{1, 3} + 0.5 x_{3} A_{3, 1}\\\\0.5 x_{0} A_{0, 2} + 0.5 x_{0} A_{2, 0} + 0.5 x_{1} A_{1, 2} + 0.5 x_{1} A_{2, 1} + 1.0 x_{2} A_{2, 2} + 0.5 x_{3} A_{2, 3} + 0.5 x_{3} A_{3, 2}\\\\0.5 x_{0} A_{0, 3} + 0.5 x_{0} A_{3, 0} + 0.5 x_{1} A_{1, 3} + 0.5 x_{1} A_{3, 1} + 0.5 x_{2} A_{2, 3} + 0.5 x_{2} A_{3, 2} + 1.0 x_{3} A_{3, 3}\\end{matrix}\\right]$$"
      ],
      "text/plain": [
       "⎡1.0⋅x₀⋅A₀₀ + 0.5⋅x₁⋅A₀₁ + 0.5⋅x₁⋅A₁₀ + 0.5⋅x₂⋅A₀₂ + 0.5⋅x₂⋅A₂₀ + 0.5⋅x₃⋅A₀₃ +\n",
       "⎢                                                                             \n",
       "⎢0.5⋅x₀⋅A₀₁ + 0.5⋅x₀⋅A₁₀ + 1.0⋅x₁⋅A₁₁ + 0.5⋅x₂⋅A₁₂ + 0.5⋅x₂⋅A₂₁ + 0.5⋅x₃⋅A₁₃ +\n",
       "⎢                                                                             \n",
       "⎢0.5⋅x₀⋅A₀₂ + 0.5⋅x₀⋅A₂₀ + 0.5⋅x₁⋅A₁₂ + 0.5⋅x₁⋅A₂₁ + 1.0⋅x₂⋅A₂₂ + 0.5⋅x₃⋅A₂₃ +\n",
       "⎢                                                                             \n",
       "⎣0.5⋅x₀⋅A₀₃ + 0.5⋅x₀⋅A₃₀ + 0.5⋅x₁⋅A₁₃ + 0.5⋅x₁⋅A₃₁ + 0.5⋅x₂⋅A₂₃ + 0.5⋅x₂⋅A₃₂ +\n",
       "\n",
       " 0.5⋅x₃⋅A₃₀⎤\n",
       "           ⎥\n",
       " 0.5⋅x₃⋅A₃₁⎥\n",
       "           ⎥\n",
       " 0.5⋅x₃⋅A₃₂⎥\n",
       "           ⎥\n",
       " 1.0⋅x₃⋅A₃₃⎦"
      ]
     },
     "execution_count": 28,
     "metadata": {},
     "output_type": "execute_result"
    }
   ],
   "source": [
    "f.jacobian(x).T"
   ]
  },
  {
   "cell_type": "code",
   "execution_count": 29,
   "metadata": {
    "collapsed": false
   },
   "outputs": [
    {
     "data": {
      "image/png": "[encoded data removed]",
      "text/latex": [
       "$$\\left[\\begin{matrix}1.0 x_{0} A_{0, 0} + 0.5 x_{1} \\left(A_{0, 1} + A_{1, 0}\\right) + 0.5 x_{2} \\left(A_{0, 2} + A_{2, 0}\\right) + 0.5 x_{3} \\left(A_{0, 3} + A_{3, 0}\\right)\\\\0.5 x_{0} \\left(A_{0, 1} + A_{1, 0}\\right) + 1.0 x_{1} A_{1, 1} + 0.5 x_{2} \\left(A_{1, 2} + A_{2, 1}\\right) + 0.5 x_{3} \\left(A_{1, 3} + A_{3, 1}\\right)\\\\0.5 x_{0} \\left(A_{0, 2} + A_{2, 0}\\right) + 0.5 x_{1} \\left(A_{1, 2} + A_{2, 1}\\right) + 1.0 x_{2} A_{2, 2} + 0.5 x_{3} \\left(A_{2, 3} + A_{3, 2}\\right)\\\\0.5 x_{0} \\left(A_{0, 3} + A_{3, 0}\\right) + 0.5 x_{1} \\left(A_{1, 3} + A_{3, 1}\\right) + 0.5 x_{2} \\left(A_{2, 3} + A_{3, 2}\\right) + 1.0 x_{3} A_{3, 3}\\end{matrix}\\right]$$"
      ],
      "text/plain": [
       "⎡1.0⋅x₀⋅A₀₀ + 0.5⋅x₁⋅(A₀₁ + A₁₀) + 0.5⋅x₂⋅(A₀₂ + A₂₀) + 0.5⋅x₃⋅(A₀₃ + A₃₀)⎤\n",
       "⎢                                                                         ⎥\n",
       "⎢0.5⋅x₀⋅(A₀₁ + A₁₀) + 1.0⋅x₁⋅A₁₁ + 0.5⋅x₂⋅(A₁₂ + A₂₁) + 0.5⋅x₃⋅(A₁₃ + A₃₁)⎥\n",
       "⎢                                                                         ⎥\n",
       "⎢0.5⋅x₀⋅(A₀₂ + A₂₀) + 0.5⋅x₁⋅(A₁₂ + A₂₁) + 1.0⋅x₂⋅A₂₂ + 0.5⋅x₃⋅(A₂₃ + A₃₂)⎥\n",
       "⎢                                                                         ⎥\n",
       "⎣0.5⋅x₀⋅(A₀₃ + A₃₀) + 0.5⋅x₁⋅(A₁₃ + A₃₁) + 0.5⋅x₂⋅(A₂₃ + A₃₂) + 1.0⋅x₃⋅A₃₃⎦"
      ]
     },
     "execution_count": 29,
     "metadata": {},
     "output_type": "execute_result"
    }
   ],
   "source": [
    "0.5 * (A + A.T) * x"
   ]
  },
  {
   "cell_type": "code",
   "execution_count": 30,
   "metadata": {
    "collapsed": false
   },
   "outputs": [
    {
     "data": {
      "image/png": "[encoded data removed]",
      "text/latex": [
       "$$\\left[\\begin{matrix}1.0 x_{0} A_{0, 0} + 0.5 x_{1} A_{0, 1} + 0.5 x_{1} A_{1, 0} + 0.5 x_{2} A_{0, 2} + 0.5 x_{2} A_{2, 0} + 0.5 x_{3} A_{0, 3} + 0.5 x_{3} A_{3, 0} - 1.0 x_{0} A_{0, 0} + 0.5 x_{1} \\left(A_{0, 1} + A_{1, 0}\\right) + 0.5 x_{2} \\left(A_{0, 2} + A_{2, 0}\\right) + 0.5 x_{3} \\left(A_{0, 3} + A_{3, 0}\\right)\\\\0.5 x_{0} A_{0, 1} + 0.5 x_{0} A_{1, 0} + 1.0 x_{1} A_{1, 1} + 0.5 x_{2} A_{1, 2} + 0.5 x_{2} A_{2, 1} + 0.5 x_{3} A_{1, 3} + 0.5 x_{3} A_{3, 1} - 0.5 x_{0} \\left(A_{0, 1} + A_{1, 0}\\right) + 1.0 x_{1} A_{1, 1} + 0.5 x_{2} \\left(A_{1, 2} + A_{2, 1}\\right) + 0.5 x_{3} \\left(A_{1, 3} + A_{3, 1}\\right)\\\\0.5 x_{0} A_{0, 2} + 0.5 x_{0} A_{2, 0} + 0.5 x_{1} A_{1, 2} + 0.5 x_{1} A_{2, 1} + 1.0 x_{2} A_{2, 2} + 0.5 x_{3} A_{2, 3} + 0.5 x_{3} A_{3, 2} - 0.5 x_{0} \\left(A_{0, 2} + A_{2, 0}\\right) + 0.5 x_{1} \\left(A_{1, 2} + A_{2, 1}\\right) + 1.0 x_{2} A_{2, 2} + 0.5 x_{3} \\left(A_{2, 3} + A_{3, 2}\\right)\\\\0.5 x_{0} A_{0, 3} + 0.5 x_{0} A_{3, 0} + 0.5 x_{1} A_{1, 3} + 0.5 x_{1} A_{3, 1} + 0.5 x_{2} A_{2, 3} + 0.5 x_{2} A_{3, 2} + 1.0 x_{3} A_{3, 3} - 0.5 x_{0} \\left(A_{0, 3} + A_{3, 0}\\right) + 0.5 x_{1} \\left(A_{1, 3} + A_{3, 1}\\right) + 0.5 x_{2} \\left(A_{2, 3} + A_{3, 2}\\right) + 1.0 x_{3} A_{3, 3}\\end{matrix}\\right]$$"
      ],
      "text/plain": [
       "⎡1.0⋅x₀⋅A₀₀ + 0.5⋅x₁⋅A₀₁ + 0.5⋅x₁⋅A₁₀ + 0.5⋅x₂⋅A₀₂ + 0.5⋅x₂⋅A₂₀ + 0.5⋅x₃⋅A₀₃ +\n",
       "⎢                                                                             \n",
       "⎢0.5⋅x₀⋅A₀₁ + 0.5⋅x₀⋅A₁₀ + 1.0⋅x₁⋅A₁₁ + 0.5⋅x₂⋅A₁₂ + 0.5⋅x₂⋅A₂₁ + 0.5⋅x₃⋅A₁₃ +\n",
       "⎢                                                                             \n",
       "⎢0.5⋅x₀⋅A₀₂ + 0.5⋅x₀⋅A₂₀ + 0.5⋅x₁⋅A₁₂ + 0.5⋅x₁⋅A₂₁ + 1.0⋅x₂⋅A₂₂ + 0.5⋅x₃⋅A₂₃ +\n",
       "⎢                                                                             \n",
       "⎣0.5⋅x₀⋅A₀₃ + 0.5⋅x₀⋅A₃₀ + 0.5⋅x₁⋅A₁₃ + 0.5⋅x₁⋅A₃₁ + 0.5⋅x₂⋅A₂₃ + 0.5⋅x₂⋅A₃₂ +\n",
       "\n",
       " 0.5⋅x₃⋅A₃₀ - 1.0⋅x₀⋅A₀₀ + 0.5⋅x₁⋅(A₀₁ + A₁₀) + 0.5⋅x₂⋅(A₀₂ + A₂₀) + 0.5⋅x₃⋅(A\n",
       "                                                                              \n",
       " 0.5⋅x₃⋅A₃₁ - 0.5⋅x₀⋅(A₀₁ + A₁₀) + 1.0⋅x₁⋅A₁₁ + 0.5⋅x₂⋅(A₁₂ + A₂₁) + 0.5⋅x₃⋅(A\n",
       "                                                                              \n",
       " 0.5⋅x₃⋅A₃₂ - 0.5⋅x₀⋅(A₀₂ + A₂₀) + 0.5⋅x₁⋅(A₁₂ + A₂₁) + 1.0⋅x₂⋅A₂₂ + 0.5⋅x₃⋅(A\n",
       "                                                                              \n",
       " 1.0⋅x₃⋅A₃₃ - 0.5⋅x₀⋅(A₀₃ + A₃₀) + 0.5⋅x₁⋅(A₁₃ + A₃₁) + 0.5⋅x₂⋅(A₂₃ + A₃₂) + 1\n",
       "\n",
       "₀₃ + A₃₀)⎤\n",
       "         ⎥\n",
       "₁₃ + A₃₁)⎥\n",
       "         ⎥\n",
       "₂₃ + A₃₂)⎥\n",
       "         ⎥\n",
       ".0⋅x₃⋅A₃₃⎦"
      ]
     },
     "execution_count": 30,
     "metadata": {},
     "output_type": "execute_result"
    }
   ],
   "source": [
    "f.jacobian(x).T - 0.5 * (A + A.T) * x"
   ]
  },
  {
   "cell_type": "code",
   "execution_count": 31,
   "metadata": {
    "collapsed": false
   },
   "outputs": [
    {
     "data": {
      "image/png": "[encoded data removed]",
      "text/latex": [
       "$$\\left[\\begin{matrix}0\\\\0\\\\0\\\\0\\end{matrix}\\right]$$"
      ],
      "text/plain": [
       "⎡0⎤\n",
       "⎢ ⎥\n",
       "⎢0⎥\n",
       "⎢ ⎥\n",
       "⎢0⎥\n",
       "⎢ ⎥\n",
       "⎣0⎦"
      ]
     },
     "execution_count": 31,
     "metadata": {},
     "output_type": "execute_result"
    }
   ],
   "source": [
    "sp.simplify(f.jacobian(x).T - 0.5 * (A + A.T) * x)"
   ]
  },
  {
   "cell_type": "code",
   "execution_count": null,
   "metadata": {
    "collapsed": true
   },
   "outputs": [],
   "source": []
  }
 ],
 "metadata": {
  "kernelspec": {
   "display_name": "Python 3",
   "language": "python",
   "name": "python3"
  },
  "language_info": {
   "codemirror_mode": {
    "name": "ipython",
    "version": 3
   },
   "file_extension": ".py",
   "mimetype": "text/x-python",
   "name": "python",
   "nbconvert_exporter": "python",
   "pygments_lexer": "ipython3",
   "version": "3.6.0"
  }
 },
 "nbformat": 4,
 "nbformat_minor": 2
}
