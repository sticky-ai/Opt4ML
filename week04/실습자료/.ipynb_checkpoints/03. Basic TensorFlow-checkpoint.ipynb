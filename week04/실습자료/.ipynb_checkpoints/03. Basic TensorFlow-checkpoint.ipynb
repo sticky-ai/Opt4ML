{
 "cells": [
  {
   "cell_type": "markdown",
   "metadata": {},
   "source": [
    "## TensorFlow 소개"
   ]
  },
  {
   "cell_type": "code",
   "execution_count": null,
   "metadata": {},
   "outputs": [],
   "source": [
    "import numpy as np\n",
    "import tensorflow as tf\n",
    "print(\"Successful import\")"
   ]
  },
  {
   "cell_type": "markdown",
   "metadata": {},
   "source": [
    "## 예제 1:  스칼라 덧셈\n",
    "$z = x + y$를 실행하는 `TensorFlow`코드를 위에서 배운 3가지 타입을 이용해서 구현해봅니다."
   ]
  },
  {
   "cell_type": "markdown",
   "metadata": {},
   "source": [
    "### Constant"
   ]
  },
  {
   "cell_type": "code",
   "execution_count": null,
   "metadata": {},
   "outputs": [],
   "source": [
    "x = tf.constant(10)\n",
    "y = tf.constant(2)\n",
    "z = x + y\n",
    "\n",
    "with tf.Session() as sess:\n",
    "    output = sess.run(z)\n",
    "print(output)"
   ]
  },
  {
   "cell_type": "markdown",
   "metadata": {},
   "source": [
    "### Placeholder"
   ]
  },
  {
   "cell_type": "code",
   "execution_count": null,
   "metadata": {},
   "outputs": [],
   "source": [
    "x = tf.placeholder(tf.int32)\n",
    "y = tf.placeholder(tf.int32)\n",
    "z = x + y\n",
    "\n",
    "with tf.Session() as sess:\n",
    "    output = sess.run(z, feed_dict={x:10, y:2})\n",
    "print(output)"
   ]
  },
  {
   "cell_type": "markdown",
   "metadata": {},
   "source": [
    "### Variable"
   ]
  },
  {
   "cell_type": "code",
   "execution_count": null,
   "metadata": {},
   "outputs": [],
   "source": [
    "x = tf.Variable(10, dtype=tf.int32)\n",
    "y = tf.Variable(2, dtype=tf.int32)\n",
    "z = x + y\n",
    "\n",
    "init = tf.global_variables_initializer()\n",
    "with tf.Session() as sess:\n",
    "    sess.run(init)\n",
    "    output = sess.run(z, feed_dict={x:10, y:2})\n",
    "print(output)"
   ]
  },
  {
   "cell_type": "code",
   "execution_count": null,
   "metadata": {},
   "outputs": [],
   "source": [
    "x = 10.\n",
    "y = 2.\n",
    "z = 4.\n",
    "w = x/y +np.log(z)\n",
    "print(w)"
   ]
  },
  {
   "cell_type": "code",
   "execution_count": null,
   "metadata": {},
   "outputs": [],
   "source": [
    "x = tf.placeholder(tf.float32)\n",
    "y = tf.placeholder(tf.float32)\n",
    "z = tf.placeholder(tf.float32)\n",
    "w = x / y + tf.log(z)\n",
    "print(w)\n",
    "print(w.shape)\n",
    "\n",
    "sess = tf.Session()\n",
    "wval = sess.run(w, feed_dict={x : 10., y: 2., z : 4.})\n",
    "print(wval)"
   ]
  },
  {
   "cell_type": "code",
   "execution_count": null,
   "metadata": {},
   "outputs": [],
   "source": [
    "x = tf.Variable(10.,dtype=tf.float32)\n",
    "y = tf.Variable(2.,dtype=tf.float32)\n",
    "z = tf.Variable(4.,dtype=tf.float32)\n",
    "w = x / y + tf.log(z)\n",
    "print(w)\n",
    "print(w.shape)\n",
    "\n",
    "sess = tf.Session()\n",
    "init = tf.global_variables_initializer()\n",
    "sess.run(init)\n",
    "\n",
    "wval = sess.run(w)\n",
    "print(wval)"
   ]
  },
  {
   "cell_type": "markdown",
   "metadata": {},
   "source": [
    "## 예제 2 : 벡터 덧셈\n",
    "4차원 벡터 $z = x+y$ 연산을 3가지 타입을 사용하여 구현해봅니다.\n"
   ]
  },
  {
   "cell_type": "markdown",
   "metadata": {},
   "source": [
    "### Consant"
   ]
  },
  {
   "cell_type": "code",
   "execution_count": null,
   "metadata": {},
   "outputs": [],
   "source": [
    "x = tf.constant([1,2,3,4])\n",
    "y = tf.constant([5,6,7,8])\n",
    "z = tf.add(x, y)\n",
    "\n",
    "print(x)\n",
    "print(y)\n",
    "print(z)\n",
    "\n",
    "with tf.Session() as sess:\n",
    "    output = sess.run(z)\n",
    "print(output)"
   ]
  },
  {
   "cell_type": "markdown",
   "metadata": {},
   "source": [
    "### Placeholder"
   ]
  },
  {
   "cell_type": "code",
   "execution_count": null,
   "metadata": {},
   "outputs": [],
   "source": [
    "x = tf.placeholder(tf.int32)\n",
    "y = tf.placeholder(tf.int32)\n",
    "z = tf.add(x, y)\n",
    "\n",
    "print(x)\n",
    "print(y)\n",
    "print(z)\n",
    "\n",
    "with tf.Session() as sess:\n",
    "    output = sess.run(z, feed_dict={x:[1,2,3,4], y:[5,6,7,8]})\n",
    "print(output)"
   ]
  },
  {
   "cell_type": "markdown",
   "metadata": {},
   "source": [
    "### Variable"
   ]
  },
  {
   "cell_type": "code",
   "execution_count": null,
   "metadata": {},
   "outputs": [],
   "source": [
    "x = tf.Variable([1,2,3,4])\n",
    "y = tf.Variable([5,6,7,8])\n",
    "z = tf.add(x, y)\n",
    "\n",
    "print(x)\n",
    "print(y)\n",
    "print(z)\n",
    "\n",
    "init = tf.global_variables_initializer()\n",
    "with tf.Session() as sess:\n",
    "    sess.run(init)\n",
    "    output = sess.run(z)\n",
    "print(output)"
   ]
  },
  {
   "cell_type": "markdown",
   "metadata": {},
   "source": [
    "## 예제 3 : 행렬/벡터 곱셈\n",
    "$y = Ax + b$를 계산하는 코드를 `numpy`와 `TensorFlow`를 이용하여 작성해봅니다.\n",
    "\n",
    "$$\n",
    "\\begin{bmatrix}\n",
    "1 & 2 \\\\ 2 & 2\n",
    "\\end{bmatrix}\n",
    "\\begin{bmatrix}\n",
    "1 \\\\ 2\n",
    "\\end{bmatrix}\n",
    "+\n",
    "\\begin{bmatrix}\n",
    "1\\\\0\n",
    "\\end{bmatrix} =\n",
    "\\begin{bmatrix}\n",
    "6\\\\6\n",
    "\\end{bmatrix} \n",
    "$$"
   ]
  },
  {
   "cell_type": "markdown",
   "metadata": {},
   "source": [
    "행렬/벡터 곱은 단순히 `*`으로는 되지 않습니다. `numpy`에서는 `*`는 각 성분끼리 곱셈 연산을 하므로 우리가 원하는 행렬/벡터 곱셈을 하려면 `np.dot()`을 사용해야합니다."
   ]
  },
  {
   "cell_type": "code",
   "execution_count": null,
   "metadata": {},
   "outputs": [],
   "source": [
    "A = np.array([[1,2],[2,2]])\n",
    "x = np.array([1,2])\n",
    "b = np.array([1,0])\n",
    "\n",
    "print(A.shape)\n",
    "print(x.shape)\n",
    "print(b.shape)\n",
    "\n",
    "y = A*x + b\n",
    "print(y)"
   ]
  },
  {
   "cell_type": "markdown",
   "metadata": {},
   "source": [
    "`np.dot()`을 사용해야 행렬/벡터 연산을 합니다."
   ]
  },
  {
   "cell_type": "code",
   "execution_count": null,
   "metadata": {},
   "outputs": [],
   "source": [
    "A = np.array([[1,2],[2,2]])\n",
    "x = np.array([1,2])\n",
    "b = np.array([1,0])\n",
    "\n",
    "print(A.shape)\n",
    "print(x.shape)\n",
    "print(b.shape)\n",
    "\n",
    "y = np.dot(A, x) + b\n",
    "print(y)"
   ]
  },
  {
   "cell_type": "markdown",
   "metadata": {},
   "source": [
    "`TensorFlow`도 마찬가지입니다. `tf.matmul()`을 사용해야 합니다."
   ]
  },
  {
   "cell_type": "code",
   "execution_count": null,
   "metadata": {},
   "outputs": [],
   "source": [
    "A = tf.Variable([[1,2],[2,2]], dtype=tf.float32)\n",
    "b = tf.Variable([1,0], dtype=tf.float32)\n",
    "print(A)\n",
    "print(b)\n",
    "\n",
    "x = tf.placeholder(tf.float32)\n",
    "\n",
    "y = A*x + b\n",
    "init = tf.global_variables_initializer()\n",
    "with tf.Session() as sess:\n",
    "    sess.run(init)\n",
    "    output = sess.run(y, feed_dict={x:[1,2]})\n",
    "    print(output)"
   ]
  },
  {
   "cell_type": "markdown",
   "metadata": {},
   "source": [
    "`TensorFlow`는 `Tensor`라는 개념아래에서 모든 연산을 진행하기 때문에 shape을 아주 정확하게 넣어줘야합니다.\n",
    "`numpy`를 사용할 때는 \n",
    "```python\n",
    "A = np.array([[1,2],[2,2]])\n",
    "x = np.array([1,2])\n",
    "b = np.array([1,0])\n",
    "```\n",
    "2차원 list와 1차원 list를 혼용해도 상관 없었습니다. 왜냐하면, `numpy`가 알아서 해주기 때문입니다."
   ]
  },
  {
   "cell_type": "code",
   "execution_count": null,
   "metadata": {},
   "outputs": [],
   "source": [
    "A = tf.constant([[1,2],[2,2]], dtype=tf.float32, shape=(2,2))\n",
    "b = tf.constant([1,0], dtype=tf.float32, shape=(1,2))\n",
    "x = tf.constant([1,2], dtype=tf.float32, shape=(1,2))\n",
    "\n",
    "print(A.shape)\n",
    "print(x.shape)\n",
    "print(b.shape)\n",
    "\n",
    "y = tf.matmul(x,A) + b\n",
    "with tf.Session() as sess:\n",
    "    output = sess.run(y)\n",
    "print(output)"
   ]
  },
  {
   "cell_type": "markdown",
   "metadata": {},
   "source": [
    "아래 코드는 에러를 발생시키는 코드입니다."
   ]
  },
  {
   "cell_type": "code",
   "execution_count": null,
   "metadata": {
    "scrolled": true
   },
   "outputs": [],
   "source": [
    "A = tf.Variable([[1,2],[2,2]], tf.float32)\n",
    "x = tf.Variable([1,2], tf.float32)\n",
    "b = tf.Variable([1,0], tf.float32)\n",
    "\n",
    "print(A.shape)\n",
    "print(x.shape)\n",
    "print(b.shape)\n",
    "\n",
    "y = tf.matmul(x,A) + b\n",
    "\n",
    "init = tf.global_variables_initializer()\n",
    "with tf.Session() as sess:\n",
    "    sess.run(init)\n",
    "    output = sess.run(y)\n",
    "print(output)"
   ]
  },
  {
   "cell_type": "markdown",
   "metadata": {},
   "source": [
    "아래 코드는 정상 동작하는 코드입니다."
   ]
  },
  {
   "cell_type": "code",
   "execution_count": null,
   "metadata": {},
   "outputs": [],
   "source": [
    "A = tf.Variable([[1,2],[2,2]], tf.float32)\n",
    "x = tf.Variable([[1,2]], tf.float32)\n",
    "b = tf.Variable([[1,0]], tf.float32)\n",
    "\n",
    "print(A.shape)\n",
    "print(x.shape)\n",
    "print(b.shape)\n",
    "\n",
    "y = tf.matmul(x,A) + b\n",
    "\n",
    "init = tf.global_variables_initializer()\n",
    "with tf.Session() as sess:\n",
    "    sess.run(init)\n",
    "    output = sess.run(y)\n",
    "print(output)"
   ]
  },
  {
   "cell_type": "markdown",
   "metadata": {},
   "source": [
    "차이는\n",
    "```python\n",
    "x = tf.Variable([1,2], tf.float32)\n",
    "b = tf.Variable([1,0], tf.float32)\n",
    "```\n",
    "와\n",
    "\n",
    "```python\n",
    "x = tf.Variable([[1,2]], tf.float32)\n",
    "b = tf.Variable([[1,0]], tf.float32)\n",
    "```\n",
    "에 있습니다. 알아채셨나요? 첫번째에서는 벡터를 1차원 list를 사용하여 정의했고, 두번째에서는 벡터를 2차원 list로 사용하여 정의했습니다. \n",
    "\n",
    "`TensorFlow`에서는 이렇게 shape을 매우 엄격하게 지켜야합니다."
   ]
  },
  {
   "cell_type": "markdown",
   "metadata": {},
   "source": [
    "## 예제 4 : (Pure) 최적화 문제 풀기\n",
    "`TensorFlow`는 딥러닝 문제를 최적화 시키는 패키지입니다. 그러므로, (Pure) 최적화 문제로 시작하는 것이 자연스럽습니다. \n",
    "\n",
    "이번 예제에서는 아래와 같은 최적화 문제를 풀어봅니다.\n",
    "$$\\min_{x,y} (x-2)^2 + (y-2)^2$$"
   ]
  },
  {
   "cell_type": "code",
   "execution_count": null,
   "metadata": {},
   "outputs": [],
   "source": [
    "x = tf.Variable(-1.0, dtype=tf.float32)\n",
    "y = tf.Variable(-0.5, dtype=tf.float32)"
   ]
  },
  {
   "cell_type": "code",
   "execution_count": null,
   "metadata": {},
   "outputs": [],
   "source": [
    "loss = tf.square(tf.subtract(x, 2)) + tf.square(tf.subtract(y, 2))"
   ]
  },
  {
   "cell_type": "code",
   "execution_count": null,
   "metadata": {},
   "outputs": [],
   "source": [
    "optimizer = tf.train.GradientDescentOptimizer(0.25)"
   ]
  },
  {
   "cell_type": "code",
   "execution_count": null,
   "metadata": {},
   "outputs": [],
   "source": [
    "train = optimizer.minimize(loss)"
   ]
  },
  {
   "cell_type": "code",
   "execution_count": null,
   "metadata": {},
   "outputs": [],
   "source": [
    "init = tf.global_variables_initializer()\n",
    "with tf.Session() as sess:\n",
    "    sess.run(init)\n",
    "    out = sess.run(train)"
   ]
  },
  {
   "cell_type": "code",
   "execution_count": null,
   "metadata": {},
   "outputs": [],
   "source": [
    "init = tf.global_variables_initializer()\n",
    "with tf.Session() as sess:\n",
    "    sess.run(init)\n",
    "    curr_x, curr_y, curr_loss = sess.run([x, y, loss])\n",
    "    print(curr_x, curr_y, curr_loss)\n",
    "    sess.run(train)"
   ]
  },
  {
   "cell_type": "markdown",
   "metadata": {},
   "source": [
    "이제 최대 Iteration 횟수(15번)를 정하여 돌려봅니다."
   ]
  },
  {
   "cell_type": "code",
   "execution_count": null,
   "metadata": {},
   "outputs": [],
   "source": [
    "init = tf.global_variables_initializer()\n",
    "with tf.Session() as sess:\n",
    "    sess.run(init)\n",
    "    for epoch in range(15):\n",
    "        curr_x, curr_y, curr_loss = sess.run([x, y, loss])\n",
    "        print(epoch, curr_x, curr_y, curr_loss)\n",
    "        out = sess.run(train)"
   ]
  },
  {
   "cell_type": "markdown",
   "metadata": {},
   "source": [
    "## 예제 5 : (Pure) 최적화 문제 풀기\n",
    "이번에는 예제코드 없이 직접 아래와 같은 최적화 문제를 풀어봅니다.\n",
    "$$\\min_{x,y} (x + y -2)^2 + (y-1)^2$$\n",
    "참값은 $(x,y) = (1,1)$입니다. 시작값은 $(x,y) = (0.5, 0.5)$로 설정합니다. `learing_rate`과 `MaxIter`는 사용자가 직접 설정해봅니다."
   ]
  },
  {
   "cell_type": "code",
   "execution_count": null,
   "metadata": {},
   "outputs": [],
   "source": [
    "# 1. Define Control Variables\n",
    "x = tf.Variable(.5, dtype=tf.float32)\n",
    "y = tf.Variable(.5, dtype=tf.float32)\n",
    "# 2. Define Loss function\n",
    "loss = tf.square(x + y - 2) + tf.square(y - 1)\n",
    "# 3. Choose Numerical Optimizers\n",
    "optimizer = tf.train.AdamOptimizer(0.1)\n",
    "# 4. Define Optimization Problem\n",
    "train = optimizer.minimize(loss)\n",
    "\n",
    "# 5. Do iterations\n",
    "init = tf.global_variables_initializer() # init for tf.Varaible()\n",
    "with tf.Session() as sess:\n",
    "    sess.run(init) # run initialization\n",
    "    for epoch in range(15):\n",
    "        curr_x, curr_y, curr_loss = sess.run([x, y, loss]) # get current x, y and loss\n",
    "        print(epoch, curr_x, curr_y, curr_loss)\n",
    "        sess.run(train) # train step"
   ]
  },
  {
   "cell_type": "code",
   "execution_count": null,
   "metadata": {},
   "outputs": [],
   "source": []
  }
 ],
 "metadata": {
  "kernelspec": {
   "display_name": "Python 3",
   "language": "python",
   "name": "python3"
  },
  "language_info": {
   "codemirror_mode": {
    "name": "ipython",
    "version": 3
   },
   "file_extension": ".py",
   "mimetype": "text/x-python",
   "name": "python",
   "nbconvert_exporter": "python",
   "pygments_lexer": "ipython3",
   "version": "3.5.6"
  }
 },
 "nbformat": 4,
 "nbformat_minor": 2
}
