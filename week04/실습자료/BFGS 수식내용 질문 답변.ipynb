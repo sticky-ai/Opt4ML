{
 "cells": [
  {
   "cell_type": "markdown",
   "metadata": {},
   "source": [
    "# 질문 내용\n",
    "\n",
    "3주차 BFGS 코드 내용중에 질문이 있습니다.\n",
    "\n",
    "$$\n",
    "B_{k+1} = B_k + \\frac{y_k y_k^T}{y_k^T \\varDelta x_k} - \\frac{B_k\\varDelta x_k\\varDelta x_k^TB_k}{\\varDelta x_k^TB_k\\varDelta x_k}\n",
    "$$\n",
    "\n",
    "```python\n",
    "B1 = B0 + np.dot(y0, y0.T) / np.dot(y0.T, s0) \\\n",
    "- (np.dot(np.dot(B0, s0).reshape(-1,1), np.dot(s0, B0).reshape(-1,1).T)) / np.dot(np.dot(B0, s0), s0)\n",
    "```\n",
    "\n",
    "수식의 내용과 jupyter코드(`01. BFGS.ipynb`) 파일상 코드가\n",
    "일부 상이해 보입니다.\n",
    "\n",
    "설명 부탁드립니다."
   ]
  },
  {
   "cell_type": "markdown",
   "metadata": {},
   "source": [
    "# 질문 답변\n",
    "위의 코드를 이해하기 위해서는 다음 내용의 수학적 이해와 `numpy`를 사용한 코드의 이해가 필요합니다.\n",
    "\n",
    "1. $y_k^T$\n",
    "1. $x_ky_k^T$\n",
    "1. $x_k^Ty_k$"
   ]
  },
  {
   "cell_type": "markdown",
   "metadata": {},
   "source": [
    "## 수학적이해\n",
    "표현의 단순성을 위해 $k=0$이라고 하겠습니다. 2차원 벡터로 예를 들어 보면, \n",
    "$x_0 =\n",
    "\\begin{bmatrix}\n",
    "1\\\\ -1\n",
    "\\end{bmatrix}$, 그리고 $y_0 =\n",
    "\\begin{bmatrix}\n",
    "1\\\\ 2\n",
    "\\end{bmatrix}$ 인 경우\n",
    "\n",
    "1. $x_0^T = \\begin{bmatrix}\n",
    "1& -1\n",
    "\\end{bmatrix}$\n",
    "1. $x_0y_0^T = \\begin{bmatrix}\n",
    "1\\\\ -1\n",
    "\\end{bmatrix}\\begin{bmatrix}\n",
    "1& 2\n",
    "\\end{bmatrix} = \\begin{bmatrix}\n",
    "1 & 2 \\\\ -1 & -2\n",
    "\\end{bmatrix}$\n",
    "1. $x_0^Ty_0= \\begin{bmatrix}\n",
    "1& -1\n",
    "\\end{bmatrix}\n",
    "\\begin{bmatrix}\n",
    "1\\\\ 2\n",
    "\\end{bmatrix} =  1 - 2 = -1$"
   ]
  },
  {
   "cell_type": "markdown",
   "metadata": {},
   "source": [
    "## numpy 구현시 필요사항\n",
    "\n",
    "1. row vector를 column vector로 변형\n",
    "```python\n",
    "x0.reshape(-1,1)\n",
    "```\n",
    "1. 행렬/벡터 곱\n",
    "\n",
    "위의 사항들을 `numpy`에서 구현하는 샘플코드를 추가합니다."
   ]
  },
  {
   "cell_type": "code",
   "execution_count": 1,
   "metadata": {},
   "outputs": [],
   "source": [
    "import numpy as np"
   ]
  },
  {
   "cell_type": "markdown",
   "metadata": {},
   "source": [
    "### reshape() 이해\n",
    "저희는 벡터를 선언할때 아래와 같이 선언합니다. \n",
    "BFGS식에서는 $y_k$가 column vector지만, `numpy`에서는 row vector로 선언 되있다는 점을 주의 깊게 보셔야합니다."
   ]
  },
  {
   "cell_type": "code",
   "execution_count": 2,
   "metadata": {},
   "outputs": [
    {
     "name": "stdout",
     "output_type": "stream",
     "text": [
      "[ 1 -1]\n",
      "[1 2]\n"
     ]
    }
   ],
   "source": [
    "x0 = np.array([1, -1])\n",
    "y0 = np.array([1, 2])\n",
    "print(x0)\n",
    "print(y0)"
   ]
  },
  {
   "cell_type": "markdown",
   "metadata": {},
   "source": [
    "row vector를 column vector로 변경하는 방법은 `transopose`가 있습니다."
   ]
  },
  {
   "cell_type": "code",
   "execution_count": 3,
   "metadata": {},
   "outputs": [
    {
     "name": "stdout",
     "output_type": "stream",
     "text": [
      "(2,)\n",
      "[ 1 -1]\n"
     ]
    }
   ],
   "source": [
    "print(x0.shape)\n",
    "print(x0.T)"
   ]
  },
  {
   "cell_type": "markdown",
   "metadata": {},
   "source": [
    "하지만, `x0`의 shape이 `(2,)`이라서 `x0.T`를 하여도 column vector로 바뀌지 않습니다. 이런 방법을 해결해주기위해 `reshape(size0, size1)`을 사용합니다. 다음 코드를 참고하시면 됩니다."
   ]
  },
  {
   "cell_type": "code",
   "execution_count": 4,
   "metadata": {},
   "outputs": [
    {
     "name": "stdout",
     "output_type": "stream",
     "text": [
      "(2,)\n",
      "(1, 2)\n",
      "[[ 1 -1]]\n",
      "[[ 1]\n",
      " [-1]]\n",
      "(2, 1)\n"
     ]
    }
   ],
   "source": [
    "reshaped_x0 = x0.reshape(1,2) # reshape\n",
    "print(x0.shape)\n",
    "print(reshaped_x0.shape)\n",
    "print(reshaped_x0)\n",
    "print(reshaped_x0.T)\n",
    "print(reshaped_x0.T.shape)"
   ]
  },
  {
   "cell_type": "markdown",
   "metadata": {},
   "source": [
    "Shape이 `(2,)`에서 `(1,2)`로 변경되어야 `transpose`가 가능합니다. 이와 같은 기능을 하는 코드를 간단한 버젼으로 사용하면, 다음과 같습니다."
   ]
  },
  {
   "cell_type": "code",
   "execution_count": 5,
   "metadata": {},
   "outputs": [
    {
     "name": "stdout",
     "output_type": "stream",
     "text": [
      "[[ 1]\n",
      " [-1]]\n",
      "(2, 1)\n"
     ]
    }
   ],
   "source": [
    "reshaped_x0 = x0.reshape(-1,1) # transpose\n",
    "print(reshaped_x0)\n",
    "print(reshaped_x0.shape)"
   ]
  },
  {
   "cell_type": "markdown",
   "metadata": {},
   "source": [
    "혹시 다음 코드를 보고도 `reshape`에 관한 이해가 쉽지 않으시거나 더 자세한 기능이 궁금하시다면 `numpy`공식 문서 링크를 첨부합니다.\n",
    "\n",
    "https://docs.scipy.org/doc/numpy-1.14.0/reference/generated/numpy.reshape.html"
   ]
  },
  {
   "cell_type": "markdown",
   "metadata": {},
   "source": [
    "### 행렬/벡터 곱\n",
    "$x_0 =\n",
    "\\begin{bmatrix}\n",
    "1\\\\ -1\n",
    "\\end{bmatrix}$, 그리고 $y_0 =\n",
    "\\begin{bmatrix}\n",
    "1\\\\ 2\n",
    "\\end{bmatrix}$일때, \n",
    "\n",
    "1. $x_0^T = \\begin{bmatrix}\n",
    "1& -1\n",
    "\\end{bmatrix}$\n",
    "1. $x_0y_0^T = \\begin{bmatrix}\n",
    "1\\\\ -1\n",
    "\\end{bmatrix}\\begin{bmatrix}\n",
    "1& 2\n",
    "\\end{bmatrix} = \\begin{bmatrix}\n",
    "1 & 2 \\\\ -1 & -2\n",
    "\\end{bmatrix}$\n",
    "1. $x_0^Ty_0= \\begin{bmatrix}\n",
    "1& -1\n",
    "\\end{bmatrix}\n",
    "\\begin{bmatrix}\n",
    "1\\\\ 2\n",
    "\\end{bmatrix} =  1 - 2 = -1$\n",
    "\n",
    "다시 예제로 돌아와 `reshape`과 `dot()`을 사용해서 구현해보면 다음과 같습니다."
   ]
  },
  {
   "cell_type": "code",
   "execution_count": 6,
   "metadata": {},
   "outputs": [
    {
     "name": "stdout",
     "output_type": "stream",
     "text": [
      "[ 1 -1] (2,)\n",
      "[1 2] (2,)\n"
     ]
    }
   ],
   "source": [
    "x0 = np.array([1, -1])\n",
    "y0 = np.array([1, 2])\n",
    "print(x0, x0.shape)\n",
    "print(y0, y0.shape)"
   ]
  },
  {
   "cell_type": "markdown",
   "metadata": {},
   "source": [
    "시작하기 전에 $x_0,y_0$은 모두 column vector이므로 `reshape`을 사용하여 column vector로 바꾸고 시작합니다."
   ]
  },
  {
   "cell_type": "code",
   "execution_count": 7,
   "metadata": {},
   "outputs": [
    {
     "name": "stdout",
     "output_type": "stream",
     "text": [
      "[[ 1]\n",
      " [-1]] (2, 1)\n",
      "[[1]\n",
      " [2]] (2, 1)\n"
     ]
    }
   ],
   "source": [
    "x0 = np.array([1, -1]).reshape(-1,1)\n",
    "y0 = np.array([1, 2]).reshape(-1,1)\n",
    "print(x0, x0.shape)\n",
    "print(y0, y0.shape)"
   ]
  },
  {
   "cell_type": "markdown",
   "metadata": {},
   "source": [
    "다음 코드를 돌리면 손으로 계산했던 것과 같은 식이 나오는 것을 확인하실 수 있습니다."
   ]
  },
  {
   "cell_type": "code",
   "execution_count": 8,
   "metadata": {},
   "outputs": [
    {
     "name": "stdout",
     "output_type": "stream",
     "text": [
      "Example 1\n",
      "[[ 1 -1]]\n",
      "\n",
      "Example 2\n",
      "[[ 1  2]\n",
      " [-1 -2]]\n",
      "\n",
      "Example 3\n",
      "[[-1]]\n",
      "\n"
     ]
    }
   ],
   "source": [
    "# Example 1\n",
    "print(\"Example 1\")\n",
    "print(x0.T)\n",
    "print(\"\")\n",
    "\n",
    "# Example 2\n",
    "print(\"Example 2\")\n",
    "print(np.dot(x0, y0.T))\n",
    "print(\"\")\n",
    "\n",
    "# Example 3\n",
    "print(\"Example 3\")\n",
    "print(np.dot(x0.T, y0))\n",
    "print(\"\")"
   ]
  },
  {
   "cell_type": "markdown",
   "metadata": {},
   "source": [
    "## BFGS 구현의 자세한 추가 설명\n",
    "\n",
    "이 설명이 쉽게 이해가 되지 않으시는 분은 앞에서 설명한 수학적 이해와 `numpy` 구현시 필요사항들을 읽으시면 많은 도움이 됩니다.\n",
    "\n",
    "다음 식을 각 단위별로 쪼개어 설명드리겠습니다.\n",
    "\n",
    "$$\n",
    "B_{k+1} = B_k + \\frac{y_k y_k^T}{y_k^T \\varDelta x_k} - \\frac{B_k\\varDelta x_k\\varDelta x_k^TB_k}{\\varDelta x_k^TB_k\\varDelta x_k}\n",
    "$$\n",
    "\n",
    "```python\n",
    "B1 = B0 + np.dot(y0, y0.T) / np.dot(y0.T, s0) \\\n",
    "- (np.dot(np.dot(B0, s0).reshape(-1,1), np.dot(s0, B0).reshape(-1,1).T)) / np.dot(np.dot(B0, s0), s0)\n",
    "```\n",
    "\n",
    "일단 실제 값을 대입하여, 진행 하도록 하겠습니다."
   ]
  },
  {
   "cell_type": "code",
   "execution_count": 9,
   "metadata": {},
   "outputs": [],
   "source": [
    "def grad_f(x):\n",
    "    return np.array([8 * (x[0] - 2), 2 * (x[1] - 2) ])"
   ]
  },
  {
   "cell_type": "code",
   "execution_count": 10,
   "metadata": {},
   "outputs": [
    {
     "name": "stdout",
     "output_type": "stream",
     "text": [
      "[ 8.  6.]\n"
     ]
    }
   ],
   "source": [
    "x0 = np.array([8.0, 6.0])\n",
    "learning_rate = 0.5\n",
    "\n",
    "B0 = np.eye(len(x0))\n",
    "print(x0)\n",
    "grad = grad_f(x0)\n",
    "p0 = -np.linalg.solve(B0, grad)\n",
    "s0 = learning_rate * p0\n",
    "x1 = x0 + s0\n",
    "y0 = (grad_f(x1) - grad).reshape(-1,1)# convert to a column vector"
   ]
  },
  {
   "cell_type": "code",
   "execution_count": 11,
   "metadata": {},
   "outputs": [
    {
     "name": "stdout",
     "output_type": "stream",
     "text": [
      "[[ 7.97185461  0.16887232]\n",
      " [ 0.16887232  0.98676608]]\n"
     ]
    }
   ],
   "source": [
    "B1 = B0 + np.dot(y0, y0.T) / np.dot(y0.T, s0) \\\n",
    "- (np.dot(np.dot(B0, s0).reshape(-1,1), np.dot(s0, B0).reshape(-1,1).T)) / np.dot(np.dot(B0, s0), s0)\n",
    "print(B1)"
   ]
  },
  {
   "cell_type": "markdown",
   "metadata": {},
   "source": [
    "$$\n",
    "B_{k+1} = B_k + \\frac{y_k y_k^T}{y_k^T \\varDelta x_k} - \\frac{(B_k\\varDelta x_k)(\\varDelta x_k^TB_k)}{\\varDelta x_k^T(B_k\\varDelta x_k)}\n",
    "$$\n",
    "\n",
    "위의 계산들을 쪼개어 보면 다음과 같습니다.\n",
    "\n",
    "* `B0` : $B_k$\n",
    "* `np.dot(y0, y0.T)` : $y_kyk^T$\n",
    "* `np.dot(y0.T, s0)` : $y_k^T \\varDelta x_k$\n",
    "* `np.dot(B0, s0).reshape(-1,1)` : $B_k\\varDelta x_k$\n",
    "* `np.dot(s0, B0).reshape(-1,1).T` : $\\varDelta x_k^TB_k$\n",
    "* `np.dot(np.dot(B0, s0).reshape(-1,1), np.dot(s0, B0).reshape(-1,1).T)` : $(B_k\\varDelta x_k)(\\varDelta x_k^TB_k)$\n",
    "* `np.dot(B0, s0)` : $B_k\\varDelta x_k$\n",
    "* `np.dot(np.dot(B0, s0), s0)` : $\\varDelta x_k^T(B_k\\varDelta x_k)$"
   ]
  },
  {
   "cell_type": "markdown",
   "metadata": {},
   "source": [
    "`B0` : $B_k$"
   ]
  },
  {
   "cell_type": "code",
   "execution_count": 12,
   "metadata": {},
   "outputs": [
    {
     "data": {
      "text/plain": [
       "array([[ 1.,  0.],\n",
       "       [ 0.,  1.]])"
      ]
     },
     "execution_count": 12,
     "metadata": {},
     "output_type": "execute_result"
    }
   ],
   "source": [
    "B0"
   ]
  },
  {
   "cell_type": "markdown",
   "metadata": {},
   "source": [
    "`np.dot(y0, y0.T)` : $y_kyk^T$"
   ]
  },
  {
   "cell_type": "code",
   "execution_count": 13,
   "metadata": {},
   "outputs": [
    {
     "data": {
      "text/plain": [
       "array([[ 36864.,   1536.],\n",
       "       [  1536.,     64.]])"
      ]
     },
     "execution_count": 13,
     "metadata": {},
     "output_type": "execute_result"
    }
   ],
   "source": [
    "np.dot(y0, y0.T)"
   ]
  },
  {
   "cell_type": "markdown",
   "metadata": {},
   "source": [
    "`np.dot(y0.T, s0)` : $y_k^T \\varDelta x_k$"
   ]
  },
  {
   "cell_type": "code",
   "execution_count": 14,
   "metadata": {},
   "outputs": [
    {
     "data": {
      "text/plain": [
       "array([ 4640.])"
      ]
     },
     "execution_count": 14,
     "metadata": {},
     "output_type": "execute_result"
    }
   ],
   "source": [
    "np.dot(y0.T, s0)"
   ]
  },
  {
   "cell_type": "markdown",
   "metadata": {},
   "source": [
    "`np.dot(B0, s0).reshape(-1,1)` : $B_k\\varDelta x_k$"
   ]
  },
  {
   "cell_type": "code",
   "execution_count": 15,
   "metadata": {},
   "outputs": [
    {
     "data": {
      "text/plain": [
       "array([[-24.],\n",
       "       [ -4.]])"
      ]
     },
     "execution_count": 15,
     "metadata": {},
     "output_type": "execute_result"
    }
   ],
   "source": [
    "np.dot(B0, s0).reshape(-1,1)"
   ]
  },
  {
   "cell_type": "markdown",
   "metadata": {},
   "source": [
    "`np.dot(s0, B0).reshape(-1,1).T` : $\\varDelta x_k^TB_k$"
   ]
  },
  {
   "cell_type": "code",
   "execution_count": 16,
   "metadata": {},
   "outputs": [
    {
     "data": {
      "text/plain": [
       "array([[-24.,  -4.]])"
      ]
     },
     "execution_count": 16,
     "metadata": {},
     "output_type": "execute_result"
    }
   ],
   "source": [
    "np.dot(s0, B0).reshape(-1,1).T"
   ]
  },
  {
   "cell_type": "markdown",
   "metadata": {},
   "source": [
    "`np.dot(np.dot(B0, s0).reshape(-1,1), np.dot(s0, B0).reshape(-1,1).T)` : $(B_k\\varDelta x_k)(\\varDelta x_k^TB_k)$"
   ]
  },
  {
   "cell_type": "code",
   "execution_count": 17,
   "metadata": {},
   "outputs": [
    {
     "data": {
      "text/plain": [
       "array([[ 576.,   96.],\n",
       "       [  96.,   16.]])"
      ]
     },
     "execution_count": 17,
     "metadata": {},
     "output_type": "execute_result"
    }
   ],
   "source": [
    "np.dot(np.dot(B0, s0).reshape(-1,1), np.dot(s0, B0).reshape(-1,1).T)"
   ]
  },
  {
   "cell_type": "markdown",
   "metadata": {},
   "source": [
    "`np.dot(B0, s0)` : $B_k\\varDelta x_k$"
   ]
  },
  {
   "cell_type": "code",
   "execution_count": 18,
   "metadata": {},
   "outputs": [
    {
     "data": {
      "text/plain": [
       "592.0"
      ]
     },
     "execution_count": 18,
     "metadata": {},
     "output_type": "execute_result"
    }
   ],
   "source": [
    "np.dot(np.dot(B0, s0), s0)"
   ]
  },
  {
   "cell_type": "markdown",
   "metadata": {},
   "source": [
    "`np.dot(np.dot(B0, s0), s0)` : $\\varDelta x_k^T(B_k\\varDelta x_k)$"
   ]
  },
  {
   "cell_type": "code",
   "execution_count": 19,
   "metadata": {},
   "outputs": [
    {
     "name": "stdout",
     "output_type": "stream",
     "text": [
      "[[ 7.97185461  0.16887232]\n",
      " [ 0.16887232  0.98676608]]\n"
     ]
    }
   ],
   "source": [
    "B1 = B0 + np.dot(y0, y0.T) / np.dot(y0.T, s0) \\\n",
    "- (np.dot(np.dot(B0, s0).reshape(-1,1), np.dot(s0, B0).reshape(-1,1).T)) / np.dot(np.dot(B0, s0), s0)\n",
    "print(B1)"
   ]
  },
  {
   "cell_type": "code",
   "execution_count": null,
   "metadata": {},
   "outputs": [],
   "source": []
  }
 ],
 "metadata": {
  "kernelspec": {
   "display_name": "Python 3",
   "language": "python",
   "name": "python3"
  },
  "language_info": {
   "codemirror_mode": {
    "name": "ipython",
    "version": 3
   },
   "file_extension": ".py",
   "mimetype": "text/x-python",
   "name": "python",
   "nbconvert_exporter": "python",
   "pygments_lexer": "ipython3",
   "version": "3.6.3"
  }
 },
 "nbformat": 4,
 "nbformat_minor": 2
}
