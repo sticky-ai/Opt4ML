{
 "cells": [
  {
   "cell_type": "code",
   "execution_count": null,
   "metadata": {},
   "outputs": [],
   "source": [
    "import numpy as np\n",
    "import matplotlib.pylab as plt\n",
    "%matplotlib inline\n",
    "%config InlineBackend.figure_format = 'retina'"
   ]
  },
  {
   "cell_type": "markdown",
   "metadata": {},
   "source": [
    "## Sine/Cosine Regression Model\n",
    "$$\n",
    "f(x) = a\\cos(\\pi x) + b\\sin(\\pi  x)\n",
    "$$\n",
    "\n",
    "로 한정하지말고, Neural Network Model을 사용해 봅니다."
   ]
  },
  {
   "cell_type": "markdown",
   "metadata": {},
   "source": [
    "### 데이터 생성\n",
    "데이터는 위의 함수를 이용해서 생성합니다. Train용과 Test용 2가지를 50개씩 생성합니다."
   ]
  },
  {
   "cell_type": "code",
   "execution_count": null,
   "metadata": {},
   "outputs": [],
   "source": [
    "np.random.seed(410)\n",
    "xxx = np.linspace(-1,1,500)# for drawing\n",
    "xx = np.linspace(-1,1,50)\n",
    "yy = 1.0 * np.cos(np.pi * xx) + 1.0 * np.sin(np.pi*xx) + 0.2 * (2 * np.random.rand(len(xx)) - 1)\n",
    "yy_test = 1.0 * np.cos(np.pi * xx) + 1.0 * np.sin(np.pi*xx) + + 0.2 * (2 * np.random.rand(len(xx)) - 1)"
   ]
  },
  {
   "cell_type": "code",
   "execution_count": null,
   "metadata": {},
   "outputs": [],
   "source": [
    "plt.plot(xx, yy, 'o', label='train')\n",
    "plt.plot(xx, yy_test, 'xr', label='test')\n",
    "plt.grid()\n",
    "plt.xlabel('x')\n",
    "plt.ylabel('y')\n",
    "plt.legend()\n",
    "plt.show()"
   ]
  },
  {
   "cell_type": "code",
   "execution_count": null,
   "metadata": {},
   "outputs": [],
   "source": [
    "features = np.array([[xval] for xval in xx])\n",
    "print(features.shape)\n",
    "labels = yy"
   ]
  },
  {
   "cell_type": "markdown",
   "metadata": {},
   "source": [
    "### Neural Network Model\n",
    "\n",
    "모델 구성은 다음과 같습니다.\n",
    "\n",
    "1. Hidden Layer 1 : $h_1 = \\sigma(xW_1 + b_1) $\n",
    "1. Hidden Layer 2 : $h_2 = \\sigma(h_1W_2 + b_2) $\n",
    "1. Output Layer : $\\hat{y} = h_2W_3 + b_3  $"
   ]
  },
  {
   "cell_type": "code",
   "execution_count": null,
   "metadata": {},
   "outputs": [],
   "source": [
    "import tensorflow as tf\n",
    "num_hidden1 = 10\n",
    "num_hidden2 = 4\n",
    "x = tf.placeholder(tf.float32, shape=[None, 1])\n",
    "\n",
    "tf.set_random_seed(180410)\n",
    "\n",
    "# TODO 1 : Variable for hidden layer 1\n",
    "W1 = None\n",
    "b1 = None\n",
    "\n",
    "# TODO 2 : Variable for hidden layer 2\n",
    "W2 = tf.Variable(tf.random_normal([num_hidden1, num_hidden2]))\n",
    "b2 = tf.Variable(tf.random_normal([num_hidden2]))\n",
    "\n",
    "# TODO 3 : Variable for output layer\n",
    "W3 = None\n",
    "b3 = tf.Variable(tf.random_normal([1]))\n",
    "\n",
    "# TODO 4 : Hidden layer 1 model\n",
    "hidden1 = None\n",
    "# TODO 5 : Hidden layer 2 model\n",
    "hidden2 = tf.nn.sigmoid(tf.matmul(hidden1, W2) + b2)\n",
    "\n",
    "# Final model\n",
    "model = None"
   ]
  },
  {
   "cell_type": "markdown",
   "metadata": {},
   "source": [
    "## Loss function\n",
    "$$\n",
    "loss = \\frac{1}{m}\\sum_{i=1}^m |y_i-\\hat{y_i}|^2\n",
    "$$"
   ]
  },
  {
   "cell_type": "code",
   "execution_count": null,
   "metadata": {},
   "outputs": [],
   "source": [
    "y = tf.placeholder(tf.float32, shape=[None, 1])\n",
    "\n",
    "loss = tf.reduce_mean(tf.square(y - model))\n",
    "\n",
    "optimizer = tf.train.AdamOptimizer()\n",
    "train = optimizer.minimize(loss)"
   ]
  },
  {
   "cell_type": "markdown",
   "metadata": {},
   "source": [
    "## Gradient Descent"
   ]
  },
  {
   "cell_type": "code",
   "execution_count": null,
   "metadata": {},
   "outputs": [],
   "source": [
    "def plot_model(curr_loss, curr_test_loss, prediction, i):\n",
    "    plt.plot(xx, yy, 'o')\n",
    "    plt.plot(xx, yy_test, 'o')\n",
    "    plt.plot(xxx, prediction, '-r')\n",
    "    plt.grid()\n",
    "    plt.xlabel('x')\n",
    "    plt.ylabel('y')\n",
    "    plt.title('{0}'.format(i))\n",
    "    plt.show()"
   ]
  },
  {
   "cell_type": "code",
   "execution_count": null,
   "metadata": {
    "scrolled": false
   },
   "outputs": [],
   "source": [
    "losses = []\n",
    "init = tf.global_variables_initializer()\n",
    "sess = tf.Session()\n",
    "sess.run(init)\n",
    "for i in range(60001):\n",
    "    sess.run(train, feed_dict={x:features, y:labels.reshape(-1,1)})\n",
    "    curr_loss = sess.run(loss, feed_dict={x:features, y:labels.reshape(-1,1)})\n",
    "    curr_test_loss = sess.run(loss, feed_dict={x:features, y:yy_test.reshape(-1,1)})\n",
    "    losses.append([curr_loss, curr_test_loss])\n",
    "    if i % 1000 == 0:\n",
    "        print(i, curr_loss, curr_test_loss)\n",
    "    if i % 10000 == 0:\n",
    "        prediction = sess.run(model, feed_dict={x:xxx.reshape(-1,1), y:labels.reshape(-1,1)})\n",
    "        plot_model(curr_loss, curr_test_loss, prediction, i)\n",
    "\n",
    "losses = np.array(losses)"
   ]
  },
  {
   "cell_type": "code",
   "execution_count": null,
   "metadata": {},
   "outputs": [],
   "source": [
    "prediction = sess.run(model, feed_dict={x:features, y:labels.reshape(-1,1)})\n",
    "plt.plot(xx, yy, 'o')\n",
    "plt.plot(xx, prediction, '-r')\n",
    "plt.grid()\n",
    "plt.xlabel('x')\n",
    "plt.ylabel('y')\n",
    "plt.show()"
   ]
  },
  {
   "cell_type": "markdown",
   "metadata": {},
   "source": [
    "## Train/Test loss"
   ]
  },
  {
   "cell_type": "code",
   "execution_count": null,
   "metadata": {},
   "outputs": [],
   "source": [
    "plt.plot(losses[:,0], label='train loss')\n",
    "plt.plot(losses[:,1], label='test loss')\n",
    "plt.grid()\n",
    "plt.ylim([0, 0.1])\n",
    "plt.legend()\n",
    "plt.show()"
   ]
  },
  {
   "cell_type": "code",
   "execution_count": null,
   "metadata": {},
   "outputs": [],
   "source": []
  }
 ],
 "metadata": {
  "kernelspec": {
   "display_name": "Python 3",
   "language": "python",
   "name": "python3"
  },
  "language_info": {
   "codemirror_mode": {
    "name": "ipython",
    "version": 3
   },
   "file_extension": ".py",
   "mimetype": "text/x-python",
   "name": "python",
   "nbconvert_exporter": "python",
   "pygments_lexer": "ipython3",
   "version": "3.5.6"
  }
 },
 "nbformat": 4,
 "nbformat_minor": 2
}
