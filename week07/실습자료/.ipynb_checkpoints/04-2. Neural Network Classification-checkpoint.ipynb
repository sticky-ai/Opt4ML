{
 "cells": [
  {
   "cell_type": "code",
   "execution_count": null,
   "metadata": {},
   "outputs": [],
   "source": [
    "import numpy as np\n",
    "import tensorflow as tf\n",
    "from sklearn.datasets import make_circles\n",
    "from matplotlib.pylab import plt\n",
    "from pandas import DataFrame\n",
    "%matplotlib inline\n",
    "%config InlineBackend.figure_format = 'retina'"
   ]
  },
  {
   "cell_type": "code",
   "execution_count": null,
   "metadata": {
    "scrolled": false
   },
   "outputs": [],
   "source": [
    "# generate 2d classification dataset\n",
    "np.random.seed(410)\n",
    "xy = np.random.uniform(-1,1, (400,2))\n",
    "labels = np.zeros((400), dtype=np.int32)\n",
    "labels[xy[:,0] * xy[:,1] > 0] = 1\n",
    "# scatter plot, dots colored by class value\n",
    "df = DataFrame(dict(x=xy[:,0], y=xy[:,1], label=labels))\n",
    "colors = {1:'red', 0:'blue'}\n",
    "fig, ax = plt.subplots()\n",
    "grouped = df.groupby('label')\n",
    "for key, group in grouped:\n",
    "    group.plot(ax=ax, kind='scatter', x='x', y='y', label=key, color=colors[key])\n",
    "plt.axis('equal')\n",
    "plt.grid()\n",
    "plt.show()"
   ]
  },
  {
   "cell_type": "code",
   "execution_count": null,
   "metadata": {},
   "outputs": [],
   "source": [
    "features = np.array([[xval, yval] for xval, yval in xy])\n",
    "labels = labels.reshape(-1,1)"
   ]
  },
  {
   "cell_type": "markdown",
   "metadata": {},
   "source": [
    "## Neural Network\n",
    "\n",
    "모델 구성은 다음과 같습니다.\n",
    "\n",
    "1. Hidden Layer 1 : $h_1 = \\sigma(xW_1 + b_1) $\n",
    "1. Hidden Layer 2 : $h_2 = \\sigma(h_1W_2 + b_2) $\n",
    "1. Output Layer : $\\hat{y} = \\sigma(h_2W_3 + b_3)  $\n",
    "\n",
    "아래 Hyper-Parameter 및 함수를 사용하여 정의하시면 됩니다.\n",
    "\n",
    "* `num_hidden1` : 10\n",
    "* `num_hidden2` : 4\n",
    "* `activation` : `tf.nn.sigmoid`\n",
    "\n",
    "Hidden Layer 1, 2와 Output Layer를 만드는 코드를 작성하시면 됩니다.\n",
    "\n",
    "1. `tf.layers.dense(input, units = , use_bias = , activation = )` 사용하여 Hidden Layer 1 만들기\n",
    "1. `tf.layers.dense(input, units = , use_bias = , activation = )` 사용하여 Hidden Layer 2 만들기\n",
    "1. `tf.layers.dense(input, units = , use_bias = , activation = )` 사용하여 Output Layer 만들기"
   ]
  },
  {
   "cell_type": "code",
   "execution_count": null,
   "metadata": {},
   "outputs": [],
   "source": [
    "num_hidden1 = 10\n",
    "num_hidden2 = 4\n",
    "tf.set_random_seed(180410)\n",
    "x = tf.placeholder(tf.float32, [None, 2])\n",
    "# TODO 1\n",
    "hidden1 = None\n",
    "# TODO 2\n",
    "hidden2 = None\n",
    "# TODO 3\n",
    "model = None"
   ]
  },
  {
   "cell_type": "markdown",
   "metadata": {},
   "source": [
    "## Binary Classification\n",
    "\n",
    "loss function은 Cross-Entropy!\n",
    "$$\n",
    "loss = \\frac{1}{m}\\sum_{i=1}^m -y_i \\log(\\hat{y_i})-(1-y_i) \\log(1-\\hat{y_i})\n",
    "$$"
   ]
  },
  {
   "cell_type": "code",
   "execution_count": null,
   "metadata": {},
   "outputs": [],
   "source": [
    "y = tf.placeholder(tf.float32, [None, 1])\n",
    "\n",
    "loss = tf.reduce_mean(-y * tf.log(model) - (1 - y) * tf.log(1 - model))\n",
    "\n",
    "train = tf.train.AdamOptimizer().minimize(loss)"
   ]
  },
  {
   "cell_type": "markdown",
   "metadata": {},
   "source": [
    "## Gradient Descent"
   ]
  },
  {
   "cell_type": "code",
   "execution_count": null,
   "metadata": {},
   "outputs": [],
   "source": [
    "def plot_model(sess, model):\n",
    "    xx, yy = np.meshgrid(np.linspace(-1.5,1.5), np.linspace(-1.5,1.5))\n",
    "    prediction = sess.run(model, feed_dict={x: np.array([[xxval, yyval] for xxval, yyval in zip(xx.flatten(), yy.flatten())])})\n",
    "    Z = prediction.reshape(xx.shape)\n",
    "    df = DataFrame(dict(x=xy[:,0], y=xy[:,1], label=labels.flatten()))\n",
    "    colors = {1:'red', 0:'blue'}\n",
    "    _, ax = plt.subplots(figsize=(5, 5))\n",
    "    ax.contourf(xx, yy, Z, cmap='coolwarm', alpha=.9,)\n",
    "    grouped = df.groupby('label')\n",
    "    for key, group in grouped:\n",
    "        group.plot(ax=ax, kind='scatter', x='x', y='y', label=key, color=colors[key])\n",
    "    ax.set_xlim([-1.3, 1.3])\n",
    "    ax.set_ylim([-1.3, 1.3])\n",
    "    plt.grid()\n",
    "    plt.show()"
   ]
  },
  {
   "cell_type": "code",
   "execution_count": null,
   "metadata": {
    "scrolled": false
   },
   "outputs": [],
   "source": [
    "init = tf.global_variables_initializer()\n",
    "sess = tf.Session()\n",
    "sess.run(init)\n",
    "\n",
    "for epoch in range(10001):\n",
    "    sess.run(train, feed_dict={x : features, y:labels})\n",
    "    if epoch % 2000 == 0:\n",
    "        curr_loss = sess.run(loss, feed_dict={x : features, y:labels})\n",
    "        print(epoch, curr_loss)\n",
    "        plot_model(sess, model)"
   ]
  },
  {
   "cell_type": "code",
   "execution_count": null,
   "metadata": {},
   "outputs": [],
   "source": [
    "plot_model(sess, model)"
   ]
  }
 ],
 "metadata": {
  "kernelspec": {
   "display_name": "Python 3",
   "language": "python",
   "name": "python3"
  },
  "language_info": {
   "codemirror_mode": {
    "name": "ipython",
    "version": 3
   },
   "file_extension": ".py",
   "mimetype": "text/x-python",
   "name": "python",
   "nbconvert_exporter": "python",
   "pygments_lexer": "ipython3",
   "version": "3.5.6"
  }
 },
 "nbformat": 4,
 "nbformat_minor": 2
}
