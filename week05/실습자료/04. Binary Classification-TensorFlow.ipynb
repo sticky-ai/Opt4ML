{
 "cells": [
  {
   "cell_type": "code",
   "execution_count": 1,
   "metadata": {
    "collapsed": true
   },
   "outputs": [],
   "source": [
    "import tensorflow as tf\n",
    "import numpy as np\n",
    "import matplotlib.pylab as plt\n",
    "%matplotlib inline\n",
    "%config InlineBackend.figure_format = 'retina'"
   ]
  },
  {
   "cell_type": "code",
   "execution_count": 2,
   "metadata": {
    "collapsed": true
   },
   "outputs": [],
   "source": [
    "def plot_scatter(W_, xy, labels):\n",
    "    for k, color in [(0, 'b'), (1, 'r')]:\n",
    "        idx = labels.flatten() == k\n",
    "        plt.scatter(xy[idx, 0], xy[idx, 1], c=color)\n",
    "\n",
    "    x1 = np.linspace(-.1, 1.1)\n",
    "    x2 = -W_[1] / W_[2] * x1  - W_[0] / W_[2]\n",
    "    plt.plot(x1, x2, '--k')\n",
    "\n",
    "    plt.grid()\n",
    "    plt.show()"
   ]
  },
  {
   "cell_type": "markdown",
   "metadata": {},
   "source": [
    "## FeedForward Model\n",
    "$$\\hat{y^{(i)}} = \\sigma(x^{(i)}W)$$\n",
    "1. Feature 정리\n",
    "1. Linear Model\n",
    "$$ z = x W =\n",
    "\\begin{bmatrix}\n",
    "1 & x_1 & x_2\n",
    "\\end{bmatrix}\n",
    "\\begin{bmatrix}\n",
    "w_0 \\\\ w_1 \\\\ w_2\n",
    "\\end{bmatrix}=w_0 + w_1 x_1 + w_2x_2\n",
    "$$\n",
    "1. Sigmoid\n",
    "$$ \\sigma(z)=\\frac{1}{1+e^{-z}}$$"
   ]
  },
  {
   "cell_type": "markdown",
   "metadata": {},
   "source": [
    "### 00. 데이터 만들기"
   ]
  },
  {
   "cell_type": "code",
   "execution_count": 3,
   "metadata": {
    "collapsed": true
   },
   "outputs": [],
   "source": [
    "W = np.array([-4./5., 3./4., 1.0])\n",
    "\n",
    "np.random.seed(327)\n",
    "xy = np.random.rand(30,2)\n",
    "labels = np.zeros(len(xy))\n",
    "labels[W[0] + W[1] * xy[:,0] + W[2] * xy[:,1] > 0] = 1"
   ]
  },
  {
   "cell_type": "code",
   "execution_count": 4,
   "metadata": {},
   "outputs": [
    {
     "data": {
      "image/png": "[encoded data removed]",
      "text/plain": [
       "<matplotlib.figure.Figure at 0x11d1170f0>"
      ]
     },
     "metadata": {
      "image/png": {
       "height": 250.0,
       "width": 373.0
      }
     },
     "output_type": "display_data"
    }
   ],
   "source": [
    "plot_scatter(W, xy, labels)"
   ]
  },
  {
   "cell_type": "markdown",
   "metadata": {},
   "source": [
    "### 01. Feature 정리"
   ]
  },
  {
   "cell_type": "code",
   "execution_count": 5,
   "metadata": {},
   "outputs": [
    {
     "data": {
      "text/plain": [
       "array([[ 1.        ,  0.44795858,  0.72428867],\n",
       "       [ 1.        ,  0.28380741,  0.46408744],\n",
       "       [ 1.        ,  0.71479014,  0.67975137],\n",
       "       [ 1.        ,  0.02897187,  0.3739039 ],\n",
       "       [ 1.        ,  0.62358144,  0.4734709 ],\n",
       "       [ 1.        ,  0.51783612,  0.72832152],\n",
       "       [ 1.        ,  0.26099338,  0.34596232],\n",
       "       [ 1.        ,  0.83509598,  0.24632146],\n",
       "       [ 1.        ,  0.68179324,  0.31754929],\n",
       "       [ 1.        ,  0.20170095,  0.16371035]])"
      ]
     },
     "execution_count": 5,
     "metadata": {},
     "output_type": "execute_result"
    }
   ],
   "source": [
    "features = np.array([[1.0, xval, yval] for xval, yval in xy])\n",
    "features[:10]"
   ]
  },
  {
   "cell_type": "markdown",
   "metadata": {},
   "source": [
    "### 02. Linear Model"
   ]
  },
  {
   "cell_type": "code",
   "execution_count": 6,
   "metadata": {
    "collapsed": true
   },
   "outputs": [],
   "source": [
    "W0 = np.array([[-0.5, 0.7, 1.8]]).reshape(-1,1)"
   ]
  },
  {
   "cell_type": "code",
   "execution_count": null,
   "metadata": {
    "collapsed": true
   },
   "outputs": [],
   "source": [
    "# TODO 1\n",
    "x = None\n",
    "W = None\n",
    "\n",
    "print(x.shape)\n",
    "print(W.shape)\n",
    "\n",
    "# TODO 2\n",
    "linear_model = None\n",
    "\n",
    "init = tf.global_variables_initializer()\n",
    "with tf.Session() as sess:\n",
    "    sess.run(init)\n",
    "    out = sess.run(linear_model, feed_dict={x: features})\n",
    "    print(out.flatten())"
   ]
  },
  {
   "cell_type": "markdown",
   "metadata": {},
   "source": [
    "### 03. Sigmoid\n",
    "\n",
    "$$\\sigma(z) = \\frac{1}{1+e^{-z}}$$\n",
    "\n",
    "Hint : `tf.sigmoid`"
   ]
  },
  {
   "cell_type": "code",
   "execution_count": null,
   "metadata": {
    "collapsed": true
   },
   "outputs": [],
   "source": [
    "x = tf.placeholder(tf.float64, shape=(len(features), len(W0)))\n",
    "W = tf.Variable(W0, dtype=tf.float64)\n",
    "\n",
    "print(x.shape)\n",
    "print(W.shape)\n",
    "\n",
    "# TODO 3\n",
    "linear_model = None\n",
    "\n",
    "init = tf.global_variables_initializer()\n",
    "with tf.Session() as sess:\n",
    "    sess.run(init)\n",
    "    out = sess.run(linear_model, feed_dict={x: features})\n",
    "    print(out.flatten())"
   ]
  },
  {
   "cell_type": "markdown",
   "metadata": {
    "collapsed": true
   },
   "source": [
    "## Loss function\n",
    "$$loss(y, \\hat{y}) = \\frac{1}{30}\\sum_{i=1}^{30}-y_i\\log\\hat{y_i}-(1-y_i)\\log(1-\\hat{y_i})$$\n",
    "\n",
    "Hint :\n",
    "\n",
    "1. `tf.reduce_mean`\n",
    "1. `tf.log`"
   ]
  },
  {
   "cell_type": "code",
   "execution_count": null,
   "metadata": {
    "collapsed": true
   },
   "outputs": [],
   "source": [
    "x = tf.placeholder(tf.float64, shape=(len(features), len(W0)))\n",
    "y = tf.placeholder(tf.float64, shape=(len(features), 1))\n",
    "W = tf.Variable(W0, dtype=tf.float64)\n",
    "\n",
    "print(x.shape)\n",
    "print(y.shape)\n",
    "print(W.shape)\n",
    "\n",
    "# TODO 4\n",
    "yhat = None\n",
    "loss = None\n",
    "\n",
    "init = tf.global_variables_initializer()\n",
    "with tf.Session() as sess:\n",
    "    sess.run(init)\n",
    "    out = sess.run(loss, feed_dict={x: features, y: labels.reshape(-1,1)})\n",
    "    print(out)"
   ]
  },
  {
   "cell_type": "markdown",
   "metadata": {},
   "source": [
    "## BackPropagation\n"
   ]
  },
  {
   "cell_type": "markdown",
   "metadata": {},
   "source": [
    "## Gradient Descent"
   ]
  },
  {
   "cell_type": "code",
   "execution_count": null,
   "metadata": {
    "collapsed": true
   },
   "outputs": [],
   "source": [
    "x = tf.placeholder(tf.float64, shape=(len(features), len(W0)))\n",
    "y = tf.placeholder(tf.float64, shape=(len(features), 1))\n",
    "W = tf.Variable(W0, dtype=tf.float64)\n",
    "\n",
    "print(x.shape)\n",
    "print(y.shape)\n",
    "print(W.shape)\n",
    "\n",
    "linear_model = tf.sigmoid(tf.matmul(x, W))\n",
    "loss = tf.reduce_mean(- y * tf.log(linear_model) - (1 - y) * tf.log((1 - linear_model)))\n",
    "\n",
    "lr = .1\n",
    "MaxEpochs= 1000\n",
    "# TODO 5\n",
    "optimizer = None\n",
    "train = None\n",
    "\n",
    "init = tf.global_variables_initializer()\n",
    "with tf.Session() as sess:\n",
    "    sess.run(init)\n",
    "    for epoch in range(MaxEpochs):\n",
    "        sess.run(train, feed_dict={x: features, y:labels.reshape(-1,1)})\n",
    "    \n",
    "    curr_W, curr_loss = sess.run([W, loss], feed_dict={x: features, y: labels.reshape(-1,1)})\n",
    "    print(curr_W.flatten(), curr_loss)\n",
    "W_gd = curr_W.flatten()"
   ]
  },
  {
   "cell_type": "code",
   "execution_count": null,
   "metadata": {
    "collapsed": true
   },
   "outputs": [],
   "source": [
    "plot_scatter(W0, xy, labels)"
   ]
  },
  {
   "cell_type": "code",
   "execution_count": null,
   "metadata": {
    "collapsed": true
   },
   "outputs": [],
   "source": [
    "plot_scatter(W_gd, xy, labels)"
   ]
  },
  {
   "cell_type": "markdown",
   "metadata": {},
   "source": [
    "## Stochastic Gradient Descent\n",
    "\n",
    "`placeholder`에 들어가는 data size가 달라지는 불편함이 있습니다.\n",
    "\n",
    "```python\n",
    "x = tf.placeholder(tf.float64, shape=(len(features), len(W0)))\n",
    "y = tf.placeholder(tf.float64, shape=(len(features), 1))\n",
    "\n",
    "```\n",
    "을 다음과 같이 변경하여야 합니다.\n",
    "```python\n",
    "x = tf.placeholder(tf.float64, shape=(batch_size, len(W0)))\n",
    "y = tf.placeholder(tf.float64, shape=(batch_size, 1))\n",
    "```\n",
    "\n",
    "하지만, 이 경우에는\n",
    "```python\n",
    "curr_W, curr_loss = sess.run([W, loss], feed_dict={x: features, y: labels.reshape(-1,1)})\n",
    "```\n",
    "에서 에러가 발생합니다.\n",
    "\n",
    "이렇게 데이터 갯수가 변경되는 경우에는 다음 코드가 유용합니다.\n",
    "```python\n",
    "x = tf.placeholder(tf.float64, shape=(None, len(W0)))\n",
    "y = tf.placeholder(tf.float64, shape=(None, 1))\n",
    "```\n",
    "\n"
   ]
  },
  {
   "cell_type": "code",
   "execution_count": null,
   "metadata": {
    "collapsed": true
   },
   "outputs": [],
   "source": [
    "from helper import generate_batches"
   ]
  },
  {
   "cell_type": "code",
   "execution_count": null,
   "metadata": {
    "collapsed": true
   },
   "outputs": [],
   "source": [
    "# TODO 7\n",
    "x = None\n",
    "y = None\n",
    "W = None\n",
    "\n",
    "print(x.shape)\n",
    "print(y.shape)\n",
    "print(W.shape)\n",
    "\n",
    "# TODO 8\n",
    "linear_model = None\n",
    "loss = None\n",
    "\n",
    "batch_size = 10\n",
    "lr = 0.1\n",
    "MaxEpochs= 1000\n",
    "optimizer = tf.train.GradientDescentOptimizer(lr)\n",
    "train = optimizer.minimize(loss)\n",
    "\n",
    "# TODO 9\n",
    "idx = np.arange(0, len(features))\n",
    "None\n",
    "shuffled_features = None\n",
    "shuffled_labels = None\n",
    "\n",
    "init = tf.global_variables_initializer()\n",
    "with tf.Session() as sess:\n",
    "    sess.run(init)\n",
    "    for epoch in range(MaxEpochs):\n",
    "        for x_batch, y_batch in generate_batches(batch_size, shuffled_features, shuffled_labels):\n",
    "            sess.run(train, feed_dict={x: x_batch, y: y_batch.reshape(-1,1)})\n",
    "    curr_W, curr_loss = sess.run([W, loss], feed_dict={x: features, y: labels.reshape(-1,1)})\n",
    "    print(curr_W.flatten(), curr_loss)\n",
    "W_sgd = curr_W.flatten()"
   ]
  },
  {
   "cell_type": "code",
   "execution_count": null,
   "metadata": {
    "collapsed": true
   },
   "outputs": [],
   "source": [
    "plot_scatter(W0, xy, labels)"
   ]
  },
  {
   "cell_type": "code",
   "execution_count": null,
   "metadata": {
    "collapsed": true
   },
   "outputs": [],
   "source": [
    "plot_scatter(W_sgd, xy, labels)"
   ]
  }
 ],
 "metadata": {
  "kernelspec": {
   "display_name": "Python 3",
   "language": "python",
   "name": "python3"
  },
  "language_info": {
   "codemirror_mode": {
    "name": "ipython",
    "version": 3
   },
   "file_extension": ".py",
   "mimetype": "text/x-python",
   "name": "python",
   "nbconvert_exporter": "python",
   "pygments_lexer": "ipython3",
   "version": "3.5.6"
  }
 },
 "nbformat": 4,
 "nbformat_minor": 2
}
