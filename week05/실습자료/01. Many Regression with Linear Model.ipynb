{
 "cells": [
  {
   "cell_type": "code",
   "execution_count": null,
   "metadata": {},
   "outputs": [],
   "source": [
    "import numpy as np\n",
    "import matplotlib.pylab as plt\n",
    "from scipy.optimize import minimize\n",
    "%matplotlib inline\n",
    "%config InlineBackend.figure_format = 'retina'"
   ]
  },
  {
   "cell_type": "markdown",
   "metadata": {},
   "source": [
    "# Linear Model : Feature와 Labels"
   ]
  },
  {
   "cell_type": "code",
   "execution_count": null,
   "metadata": {},
   "outputs": [],
   "source": [
    "def forward_model(w, x):\n",
    "    assert w.shape[0] == x.shape[0]\n",
    "    return w.dot(x)"
   ]
  },
  {
   "cell_type": "code",
   "execution_count": null,
   "metadata": {},
   "outputs": [],
   "source": [
    "def loss_mse(w, feature_set, label_set):\n",
    "    val = 0.0\n",
    "    for feature, label in zip(feature_set, label_set):\n",
    "        val = val + np.square(forward_model(w, feature) - label)\n",
    "    val /= len(feature_set)\n",
    "    return val"
   ]
  },
  {
   "cell_type": "markdown",
   "metadata": {},
   "source": [
    "## 1. Linear Regression Model\n",
    "$$\n",
    "f(x) = w_0 + w_1x\n",
    "$$"
   ]
  },
  {
   "cell_type": "code",
   "execution_count": null,
   "metadata": {},
   "outputs": [],
   "source": [
    "np.random.seed(327)\n",
    "x = np.linspace(-1,1,50)\n",
    "y = x + 1.0 + np.random.rand(len(x))"
   ]
  },
  {
   "cell_type": "code",
   "execution_count": null,
   "metadata": {},
   "outputs": [],
   "source": [
    "plt.plot(x, y, 'o')\n",
    "plt.grid()\n",
    "plt.xlabel('x')\n",
    "plt.ylabel('y')\n",
    "plt.show()"
   ]
  },
  {
   "cell_type": "code",
   "execution_count": null,
   "metadata": {},
   "outputs": [],
   "source": [
    "features1 = np.array([[1., xval] for xval in x])\n",
    "labels1 = y"
   ]
  },
  {
   "cell_type": "code",
   "execution_count": null,
   "metadata": {},
   "outputs": [],
   "source": [
    "w0 = np.array([0.7, 1])\n",
    "loss1 = lambda w: loss_mse(w, features1, labels1)\n",
    "res = minimize(loss1, w0)\n",
    "print(res)\n",
    "w1 = res.x"
   ]
  },
  {
   "cell_type": "code",
   "execution_count": null,
   "metadata": {},
   "outputs": [],
   "source": [
    "prediction1 = np.dot(features1, w1)\n",
    "plt.plot(x, y, 'o')\n",
    "plt.plot(x, prediction1, '--r')\n",
    "plt.grid()\n",
    "plt.xlabel('x')\n",
    "plt.ylabel('y')\n",
    "plt.show()"
   ]
  },
  {
   "cell_type": "markdown",
   "metadata": {},
   "source": [
    "## 2. Quadratic Regression Model\n",
    "$$\n",
    "f(x) = w_0 + w_1x + w_2x^2\n",
    "$$"
   ]
  },
  {
   "cell_type": "code",
   "execution_count": null,
   "metadata": {},
   "outputs": [],
   "source": [
    "np.random.seed(327)\n",
    "x = np.linspace(-1,1,50)\n",
    "y = x**2 + 0.5 * x + 1.0 + 0.5 * np.random.rand(len(x))"
   ]
  },
  {
   "cell_type": "code",
   "execution_count": null,
   "metadata": {},
   "outputs": [],
   "source": [
    "plt.plot(x, y, 'o')\n",
    "plt.grid()\n",
    "plt.xlabel('x')\n",
    "plt.ylabel('y')\n",
    "plt.show()"
   ]
  },
  {
   "cell_type": "code",
   "execution_count": null,
   "metadata": {},
   "outputs": [],
   "source": [
    "# TODO1\n",
    "features2 = np.array([[None, None, None] for xval in x])\n",
    "labels2 = y"
   ]
  },
  {
   "cell_type": "code",
   "execution_count": null,
   "metadata": {},
   "outputs": [],
   "source": [
    "w0 = np.array([0.7, 1, 0.5])\n",
    "loss2 = lambda w: loss_mse(w, features2, labels2)\n",
    "res = minimize(loss2, w0)\n",
    "print(res)\n",
    "w2 = res.x"
   ]
  },
  {
   "cell_type": "code",
   "execution_count": null,
   "metadata": {},
   "outputs": [],
   "source": [
    "prediction2 = np.dot(features2, w2)\n",
    "plt.plot(x, y, 'o')\n",
    "plt.plot(x, prediction2, '--r')\n",
    "plt.grid()\n",
    "plt.xlabel('x')\n",
    "plt.ylabel('y')\n",
    "plt.show()"
   ]
  },
  {
   "cell_type": "markdown",
   "metadata": {},
   "source": [
    "## 3. Cubic Regression Model\n",
    "$$\n",
    "f(x) = w_0 + w_1x + w_2x^2 + w_3x^3\n",
    "$$"
   ]
  },
  {
   "cell_type": "code",
   "execution_count": null,
   "metadata": {},
   "outputs": [],
   "source": [
    "np.random.seed(327)\n",
    "x = np.linspace(-1,1,50)\n",
    "y = 2*x**3 - .4 * x**2 + .5 * x + 1.0 + 0.5 * np.random.rand(len(x))"
   ]
  },
  {
   "cell_type": "code",
   "execution_count": null,
   "metadata": {},
   "outputs": [],
   "source": [
    "plt.plot(x, y, 'o')\n",
    "plt.grid()\n",
    "plt.xlabel('x')\n",
    "plt.ylabel('y')\n",
    "plt.show()"
   ]
  },
  {
   "cell_type": "code",
   "execution_count": null,
   "metadata": {},
   "outputs": [],
   "source": [
    "# TODO 2\n",
    "features3 = np.array([None for xval in x])\n",
    "labels3 = y"
   ]
  },
  {
   "cell_type": "code",
   "execution_count": null,
   "metadata": {},
   "outputs": [],
   "source": [
    "w0 = np.array([0.0, 0.7, 1, 0.5])\n",
    "loss3 = lambda w: loss_mse(w, features3, labels3)\n",
    "res = minimize(loss3, w0)\n",
    "print(res)\n",
    "w3 = res.x"
   ]
  },
  {
   "cell_type": "code",
   "execution_count": null,
   "metadata": {},
   "outputs": [],
   "source": [
    "prediction3 = np.dot(features3, w3)\n",
    "plt.plot(x, y, 'o')\n",
    "plt.plot(x, prediction3, '--r')\n",
    "plt.grid()\n",
    "plt.xlabel('x')\n",
    "plt.ylabel('y')\n",
    "plt.show()"
   ]
  },
  {
   "cell_type": "markdown",
   "metadata": {},
   "source": [
    "## 4. Exponential Regression Model\n",
    "\\begin{align}\n",
    "f(x) &= e^{w_0x}\\\\\n",
    "g(x) &= \\ln f(x) = w_0x\n",
    "\\end{align}"
   ]
  },
  {
   "cell_type": "code",
   "execution_count": null,
   "metadata": {},
   "outputs": [],
   "source": [
    "np.random.seed(327)\n",
    "x = np.linspace(-1,1,50)\n",
    "y = np.exp(2 * x) + 0.2 * (2* np.random.rand(len(x))-1)"
   ]
  },
  {
   "cell_type": "code",
   "execution_count": null,
   "metadata": {},
   "outputs": [],
   "source": [
    "plt.plot(x, y, 'o')\n",
    "plt.grid()\n",
    "plt.xlabel('x')\n",
    "plt.ylabel('y')\n",
    "plt.show()"
   ]
  },
  {
   "cell_type": "code",
   "execution_count": null,
   "metadata": {},
   "outputs": [],
   "source": [
    "features4 = np.array([[xval] for xval in x])\n",
    "labels4 = np.log(y)"
   ]
  },
  {
   "cell_type": "code",
   "execution_count": null,
   "metadata": {},
   "outputs": [],
   "source": [
    "w0 = np.array([0.2])\n",
    "loss4 = lambda w: loss_mse(w, features4, labels4)\n",
    "res = minimize(loss4, w0)\n",
    "print(res)\n",
    "w4 = res.x"
   ]
  },
  {
   "cell_type": "code",
   "execution_count": null,
   "metadata": {},
   "outputs": [],
   "source": [
    "prediction4 = np.exp(np.dot(features4, w4))\n",
    "plt.plot(x, y, 'o')\n",
    "plt.plot(x, prediction4, '--r')\n",
    "plt.grid()\n",
    "plt.xlabel('x')\n",
    "plt.ylabel('y')\n",
    "plt.show()"
   ]
  },
  {
   "cell_type": "markdown",
   "metadata": {},
   "source": [
    "## 5. Sine/cosine Regression\n",
    "$$\n",
    "f(x) = w_0\\cos(\\pi x) + w_1\\sin(\\pi  x)\n",
    "$$"
   ]
  },
  {
   "cell_type": "code",
   "execution_count": null,
   "metadata": {},
   "outputs": [],
   "source": [
    "np.random.seed(327)\n",
    "x = np.linspace(-1,1,50)\n",
    "y = 1.0 * np.cos(np.pi * x) + 1.0 * np.sin(np.pi*x) + 2 * np.random.rand(len(x)) - 1"
   ]
  },
  {
   "cell_type": "code",
   "execution_count": null,
   "metadata": {},
   "outputs": [],
   "source": [
    "plt.plot(x, y, 'o')\n",
    "plt.grid()\n",
    "plt.xlabel('x')\n",
    "plt.ylabel('y')\n",
    "plt.show()"
   ]
  },
  {
   "cell_type": "code",
   "execution_count": null,
   "metadata": {},
   "outputs": [],
   "source": [
    "# TODO 3\n",
    "features5 = None\n",
    "labels5 = y"
   ]
  },
  {
   "cell_type": "code",
   "execution_count": null,
   "metadata": {},
   "outputs": [],
   "source": [
    "w0 = np.array([0.2, 0.7])\n",
    "loss5 = lambda w: loss_mse(w, features5, labels5)\n",
    "res = minimize(loss5, w0)\n",
    "print(res)\n",
    "w5 = res.x"
   ]
  },
  {
   "cell_type": "code",
   "execution_count": null,
   "metadata": {},
   "outputs": [],
   "source": [
    "prediction5 = np.dot(features5, w5)\n",
    "plt.plot(x, y, 'o')\n",
    "plt.plot(x, prediction5, '--r')\n",
    "plt.grid()\n",
    "plt.xlabel('x')\n",
    "plt.ylabel('y')\n",
    "plt.show()"
   ]
  },
  {
   "cell_type": "code",
   "execution_count": null,
   "metadata": {},
   "outputs": [],
   "source": []
  }
 ],
 "metadata": {
  "kernelspec": {
   "display_name": "Python 3",
   "language": "python",
   "name": "python3"
  },
  "language_info": {
   "codemirror_mode": {
    "name": "ipython",
    "version": 3
   },
   "file_extension": ".py",
   "mimetype": "text/x-python",
   "name": "python",
   "nbconvert_exporter": "python",
   "pygments_lexer": "ipython3",
   "version": "3.5.6"
  }
 },
 "nbformat": 4,
 "nbformat_minor": 2
}
