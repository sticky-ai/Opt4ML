{
 "cells": [
  {
   "cell_type": "code",
   "execution_count": null,
   "metadata": {},
   "outputs": [],
   "source": [
    "import numpy as np\n",
    "import tensorflow as tf\n",
    "import matplotlib.pylab as plt\n",
    "%matplotlib inline\n",
    "%config InlineBackend.figure_format = 'retina'"
   ]
  },
  {
   "cell_type": "markdown",
   "metadata": {},
   "source": [
    "# Loss function을 바꿔보자!\n",
    "Cross-Entropy 대신 Sum of Squared Error(SSE)로 바꿔서 문제를 푸시면 됩니다.\n",
    "$$loss(y, \\hat{y}) = \\sum_{i=1}^{30}-y_i\\log\\hat{y_i}-(1-y_i)\\log(1-\\hat{y_i})$$\n",
    "\n",
    "$$loss(y, \\hat{y}) = \\sum_{i=1}^{30}|\\hat{y_i} - y_i|^2$$"
   ]
  },
  {
   "cell_type": "code",
   "execution_count": null,
   "metadata": {},
   "outputs": [],
   "source": [
    "def plot_scatter(W_, xy, labels):\n",
    "    for k, color in [(0, 'b'), (1, 'r')]:\n",
    "        idx = labels.flatten() == k\n",
    "        plt.scatter(xy[idx, 0], xy[idx, 1], c=color)\n",
    "\n",
    "    x1 = np.linspace(-.1, 1.1)\n",
    "    x2 = -W_[1] / W_[2] * x1  - W_[0] / W_[2]\n",
    "    plt.plot(x1, x2, '--k')\n",
    "\n",
    "    plt.grid()\n",
    "    plt.show()"
   ]
  },
  {
   "cell_type": "code",
   "execution_count": null,
   "metadata": {},
   "outputs": [],
   "source": [
    "W = np.array([-4./5., 3./4., 1.0])\n",
    "\n",
    "np.random.seed(327)\n",
    "xy = np.random.rand(30,2)\n",
    "labels = np.zeros(len(xy))\n",
    "labels[W[0] + W[1] * xy[:,0] + W[2] * xy[:,1] > 0] = 1"
   ]
  },
  {
   "cell_type": "code",
   "execution_count": null,
   "metadata": {},
   "outputs": [],
   "source": [
    "plot_scatter(W, xy, labels)"
   ]
  },
  {
   "cell_type": "code",
   "execution_count": null,
   "metadata": {},
   "outputs": [],
   "source": [
    "W0 = np.array([[-0.5, 0.7, 1.8]]).reshape(-1,1)"
   ]
  },
  {
   "cell_type": "code",
   "execution_count": null,
   "metadata": {},
   "outputs": [],
   "source": [
    "plot_scatter(W0, xy, labels)"
   ]
  },
  {
   "cell_type": "code",
   "execution_count": null,
   "metadata": {},
   "outputs": [],
   "source": [
    "features = np.array([[1.0, xval, yval] for xval, yval in xy])\n",
    "features[:10]"
   ]
  },
  {
   "cell_type": "markdown",
   "metadata": {},
   "source": [
    "## Gradient Descent"
   ]
  },
  {
   "cell_type": "code",
   "execution_count": null,
   "metadata": {},
   "outputs": [],
   "source": [
    "x = tf.placeholder(tf.float64, shape=(None, len(W0)))\n",
    "y = tf.placeholder(tf.float64, shape=(None, 1))\n",
    "W = tf.Variable(W0, dtype=tf.float64)\n",
    "\n",
    "print(x.shape)\n",
    "print(y.shape)\n",
    "print(W.shape)\n",
    "\n",
    "linear_model = tf.sigmoid(tf.matmul(x, W))\n",
    "# TODO 1\n",
    "loss = None\n",
    "\n",
    "lr = 0.1\n",
    "MaxEpochs= 1000\n",
    "\n",
    "optimizer = tf.train.GradientDescentOptimizer(lr)\n",
    "train = optimizer.minimize(loss)\n",
    "\n",
    "init = tf.global_variables_initializer()\n",
    "with tf.Session() as sess:\n",
    "    sess.run(init)\n",
    "    for epoch in range(MaxEpochs):\n",
    "        sess.run(train, feed_dict={x: features, y: labels.reshape(-1,1)})\n",
    "\n",
    "    curr_W, curr_loss = sess.run([W, loss], feed_dict={x: features, y: labels.reshape(-1,1)})\n",
    "    print(curr_W.flatten(), curr_loss)\n",
    "W_gd = curr_W.flatten()"
   ]
  },
  {
   "cell_type": "code",
   "execution_count": null,
   "metadata": {},
   "outputs": [],
   "source": [
    "plot_scatter(W_gd, xy, labels)"
   ]
  },
  {
   "cell_type": "markdown",
   "metadata": {},
   "source": [
    "## Stochastic Gradient Descent"
   ]
  },
  {
   "cell_type": "code",
   "execution_count": null,
   "metadata": {},
   "outputs": [],
   "source": [
    "from helper import generate_batches"
   ]
  },
  {
   "cell_type": "code",
   "execution_count": null,
   "metadata": {},
   "outputs": [],
   "source": [
    "x = tf.placeholder(tf.float64, shape=(None, len(W0)))\n",
    "y = tf.placeholder(tf.float64, shape=(None, 1))\n",
    "W = tf.Variable(W0, dtype=tf.float64)\n",
    "\n",
    "print(x.shape)\n",
    "print(y.shape)\n",
    "print(W.shape)\n",
    "\n",
    "linear_model = tf.sigmoid(tf.matmul(x, W))\n",
    "# TODO 2\n",
    "loss = None\n",
    "\n",
    "batch_size = 5\n",
    "lr = 0.1\n",
    "MaxEpochs= 1000\n",
    "\n",
    "optimizer = tf.train.GradientDescentOptimizer(lr)\n",
    "train = optimizer.minimize(loss)\n",
    "\n",
    "# TODO 3\n",
    "shuffled_features = None\n",
    "shuffled_labels = None\n",
    "\n",
    "init = tf.global_variables_initializer()\n",
    "with tf.Session() as sess:\n",
    "    sess.run(init)\n",
    "    for epoch in range(MaxEpochs):\n",
    "        # TODO 4\n",
    "        None\n",
    "        None\n",
    "    curr_W, curr_loss = sess.run([W, loss], feed_dict={x: features, y: labels.reshape(-1,1)})\n",
    "    print(curr_W.flatten(), curr_loss)\n",
    "W_sgd = curr_W.flatten()"
   ]
  },
  {
   "cell_type": "code",
   "execution_count": null,
   "metadata": {},
   "outputs": [],
   "source": [
    "plot_scatter(W_sgd, xy, labels)"
   ]
  },
  {
   "cell_type": "code",
   "execution_count": null,
   "metadata": {},
   "outputs": [],
   "source": []
  }
 ],
 "metadata": {
  "kernelspec": {
   "display_name": "Python 3",
   "language": "python",
   "name": "python3"
  },
  "language_info": {
   "codemirror_mode": {
    "name": "ipython",
    "version": 3
   },
   "file_extension": ".py",
   "mimetype": "text/x-python",
   "name": "python",
   "nbconvert_exporter": "python",
   "pygments_lexer": "ipython3",
   "version": "3.5.5"
  }
 },
 "nbformat": 4,
 "nbformat_minor": 2
}
