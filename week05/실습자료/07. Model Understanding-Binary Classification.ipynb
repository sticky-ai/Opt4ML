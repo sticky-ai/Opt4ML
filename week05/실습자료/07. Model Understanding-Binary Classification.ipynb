{
 "cells": [
  {
   "cell_type": "code",
   "execution_count": null,
   "metadata": {},
   "outputs": [],
   "source": [
    "import numpy as np\n",
    "import matplotlib.pylab as plt\n",
    "%matplotlib inline\n",
    "%config InlineBackend.figure_format = 'retina'"
   ]
  },
  {
   "cell_type": "markdown",
   "metadata": {},
   "source": [
    "## Data 만들기"
   ]
  },
  {
   "cell_type": "code",
   "execution_count": null,
   "metadata": {},
   "outputs": [],
   "source": [
    "np.random.seed(327)\n",
    "features = np.zeros((30,3))\n",
    "features[:,0] = 1.\n",
    "features[:, 1:] = np.random.rand(30, 2)"
   ]
  },
  {
   "cell_type": "markdown",
   "metadata": {},
   "source": [
    "$$\\frac{3}{4} x_1 + x_2 - \\frac{4}{5} = 0$$\n",
    "다시 쓰면, \n",
    "$$x_2 = \\frac{4}{5} - \\frac{3}{4} x_1$$"
   ]
  },
  {
   "cell_type": "code",
   "execution_count": null,
   "metadata": {},
   "outputs": [],
   "source": [
    "w = np.array([-4./5., 3./4., 1.0])"
   ]
  },
  {
   "cell_type": "code",
   "execution_count": null,
   "metadata": {},
   "outputs": [],
   "source": [
    "plt.scatter(features[:,1], features[:,2])\n",
    "x1 = np.linspace(-.1, 1.1)\n",
    "x2 = 4. / 5.  - 3. / 4. * x1\n",
    "plt.plot(x1, x2, '--r')\n",
    "plt.grid()\n",
    "plt.xlabel('$x_1$')\n",
    "plt.ylabel('$x_2$')\n",
    "plt.show()"
   ]
  },
  {
   "cell_type": "code",
   "execution_count": null,
   "metadata": {},
   "outputs": [],
   "source": [
    "labels = np.zeros(len(features))\n",
    "labels[np.dot(features, w) > 0] = 1"
   ]
  },
  {
   "cell_type": "code",
   "execution_count": null,
   "metadata": {},
   "outputs": [],
   "source": [
    "for k, color in [(0, 'b'), (1, 'r')]:\n",
    "    idx = labels == k\n",
    "    plt.scatter(features[idx, 1], features[idx, 2], c=color)\n",
    "\n",
    "x1 = np.linspace(-.1, 1.1)\n",
    "x2 = -w[1] / w[2] * x1  - w[0] / w[2]\n",
    "plt.plot(x1, x2, '--k')\n",
    "\n",
    "plt.grid()\n",
    "plt.show()"
   ]
  },
  {
   "cell_type": "markdown",
   "metadata": {},
   "source": [
    "## Feed Forward\n",
    "$$y = \\sigma(x\\cdot W)$$\n",
    "where\n",
    "$$\\sigma(z) = \\frac{1}{1+e^{-z}}$$"
   ]
  },
  {
   "cell_type": "code",
   "execution_count": null,
   "metadata": {},
   "outputs": [],
   "source": [
    "w0 = np.array([-0.5, 0.7, 1.8])"
   ]
  },
  {
   "cell_type": "code",
   "execution_count": null,
   "metadata": {},
   "outputs": [],
   "source": [
    "# TODO1 : Matrix/Vector multiplication\n",
    "todo1_out = np.dot(features, w0)"
   ]
  },
  {
   "cell_type": "code",
   "execution_count": null,
   "metadata": {},
   "outputs": [],
   "source": [
    "np.testing.assert_array_almost_equal(todo1_out, np.array([ 1.1172906 ,  0.53402258,  1.22390556,  0.19330732,  0.78875462,\n",
    "        1.17346402,  0.30542755,  0.52794582,  0.54884399, -0.06413071,\n",
    "        0.23320688,  0.97782638,  0.51098053,  0.63402059,  0.73668692,\n",
    "        1.68662909,  0.28106909, -0.41730228,  1.01458033,  0.19097579,\n",
    "        0.36345836,  1.06505976,  1.56410043, -0.23806984,  0.83925937,\n",
    "       -0.12982293, -0.27262993,  0.90340202,  0.29225019,  1.31651721]))\n",
    "print(\"TODO1 : OK\")"
   ]
  },
  {
   "cell_type": "code",
   "execution_count": null,
   "metadata": {},
   "outputs": [],
   "source": [
    "# TODO2\n",
    "sigmoid = lambda z: 1.0 / (1. + np.exp(-z))"
   ]
  },
  {
   "cell_type": "code",
   "execution_count": null,
   "metadata": {},
   "outputs": [],
   "source": [
    "your_answer = sigmoid(np.dot(features,w0))\n",
    "np.testing.assert_array_almost_equal(your_answer, np.array([ 0.75348581,  0.63042083,  0.77275013,  0.5481769 ,  0.68756386,\n",
    "        0.76377058,  0.57576879,  0.62900388,  0.63386735,  0.48397281,\n",
    "        0.55803892,  0.72667671,  0.6250363 ,  0.65340056,  0.67627095,\n",
    "        0.84378034,  0.56980831,  0.39716247,  0.73391557,  0.54759937,\n",
    "        0.58987735,  0.74365628,  0.82694095,  0.44076206,  0.69830921,\n",
    "        0.46758978,  0.43226157,  0.71164812,  0.57254693,  0.78860168]))\n",
    "print(\"TODO2 : OK\")"
   ]
  },
  {
   "cell_type": "code",
   "execution_count": null,
   "metadata": {},
   "outputs": [],
   "source": [
    "# plot scatters\n",
    "for k, color in [(0, 'b'), (1, 'r')]:\n",
    "    idx = labels == k\n",
    "    plt.scatter(features[idx, 1], features[idx, 2], c=color)\n",
    "\n",
    "# plot decision line\n",
    "x1 = np.linspace(-.1, 1.1)\n",
    "x2 = -w0[1] / w0[2] * x1  - w0[0] / w0[2]\n",
    "plt.plot(x1, x2, '--k')\n",
    "\n",
    "plt.grid()\n",
    "plt.show()"
   ]
  },
  {
   "cell_type": "markdown",
   "metadata": {},
   "source": [
    "## Model Comparison"
   ]
  },
  {
   "cell_type": "code",
   "execution_count": null,
   "metadata": {},
   "outputs": [],
   "source": [
    "def loss(w_, x_set, y_set):\n",
    "    yhat = sigmoid(np.dot(x_set, w_))\n",
    "    val = 0.\n",
    "    for k in range(len(x_set)):\n",
    "        xk = x_set[k]\n",
    "        yk = y_set[k]\n",
    "        val = val - yk * np.log(yhat[k]) - (1. - yk) * np.log(1. - yhat[k])\n",
    "    return val / len(y_set)"
   ]
  },
  {
   "cell_type": "code",
   "execution_count": null,
   "metadata": {
    "scrolled": true
   },
   "outputs": [],
   "source": [
    "print(\"Model 1 : score = {:4.2f}\".format(loss(w, features, labels)))\n",
    "print(\"Model 2 : score = {:4.2f}\".format(loss(w0, features, labels)))"
   ]
  },
  {
   "cell_type": "markdown",
   "metadata": {},
   "source": [
    "### Gradient Descent"
   ]
  },
  {
   "cell_type": "code",
   "execution_count": null,
   "metadata": {},
   "outputs": [],
   "source": [
    "def grad_loss(w_, x_set, y_set):\n",
    "    yhat = sigmoid(np.dot(x_set, w_))\n",
    "    val = np.zeros_like(w_)\n",
    "    for k in range(len(x_set)):\n",
    "        xk = x_set[k]\n",
    "        yk = y_set[k]\n",
    "        val = val - xk * (yk - yhat[k])\n",
    "    return val / len(y_set)"
   ]
  },
  {
   "cell_type": "code",
   "execution_count": null,
   "metadata": {},
   "outputs": [],
   "source": [
    "from helper import gradient_descent\n",
    "w2, path2 = gradient_descent(grad_loss, features, labels, w0, learning_rate=1.00, MaxIter=5000)"
   ]
  },
  {
   "cell_type": "code",
   "execution_count": null,
   "metadata": {},
   "outputs": [],
   "source": [
    "print(w0, loss(w0, features, labels))\n",
    "print(w, loss(w, features, labels))\n",
    "print(w2, loss(w2, features, labels))"
   ]
  },
  {
   "cell_type": "code",
   "execution_count": null,
   "metadata": {},
   "outputs": [],
   "source": [
    "print(\"Model 3 : score = {:4.2f}\".format(loss(w2, features, labels)))"
   ]
  },
  {
   "cell_type": "code",
   "execution_count": null,
   "metadata": {},
   "outputs": [],
   "source": [
    "for k, color in [(0, 'b'), (1, 'r')]:\n",
    "    idx = labels == k\n",
    "    plt.scatter(features[idx, 1], features[idx, 2], c=color)\n",
    "\n",
    "x1 = np.linspace(-.1, 1.1)\n",
    "for k in range(0, len(path2), 20):\n",
    "    x2 = -path2[k][1] / path2[k][2] * x1  - path2[k][0] / path2[k][2]\n",
    "    plt.plot(x1, x2, '--k')\n",
    "\n",
    "plt.grid()\n",
    "plt.show()"
   ]
  },
  {
   "cell_type": "code",
   "execution_count": null,
   "metadata": {},
   "outputs": [],
   "source": [
    "X, Y = np.meshgrid(x1,x1)\n",
    "Z = sigmoid(w2[0] + w2[1] * X + w2[2] * Y)"
   ]
  },
  {
   "cell_type": "code",
   "execution_count": null,
   "metadata": {},
   "outputs": [],
   "source": [
    "plt.figure(figsize=(5,5))\n",
    "cs = plt.contourf(X, Y, w2[0] + w2[1] * X + w2[2] * Y, np.arange(-4, 6),cmap='coolwarm')\n",
    "plt.clabel(cs, colors='k')\n",
    "for k, color in [(0, 'b'), (1, 'r')]:\n",
    "    idx = labels == k\n",
    "    plt.scatter(features[idx, 1], features[idx, 2], c=color)\n",
    "plt.xlim([0, 1])\n",
    "plt.ylim([0, 1])\n",
    "\n",
    "x1 = np.linspace(-.1, 1.1)\n",
    "x2 = -w2[1] / w2[2] * x1  - w2[0] / w2[2]\n",
    "plt.plot(x1, x2, '--k')\n",
    "\n",
    "plt.grid()\n",
    "plt.show()"
   ]
  },
  {
   "cell_type": "code",
   "execution_count": null,
   "metadata": {
    "scrolled": true
   },
   "outputs": [],
   "source": [
    "plt.figure(figsize=(5,5))\n",
    "cs = plt.contourf(X, Y, Z, np.arange(0, 11) / 10,cmap='coolwarm')\n",
    "plt.clabel(cs, colors='k')\n",
    "for k, color in [(0, 'b'), (1, 'r')]:\n",
    "    idx = labels == k\n",
    "    plt.scatter(features[idx, 1], features[idx, 2], c=color)\n",
    "plt.xlim([0, 1])\n",
    "plt.ylim([0, 1])\n",
    "\n",
    "x1 = np.linspace(-.1, 1.1)\n",
    "x2 = -w2[1] / w2[2] * x1  - w2[0] / w2[2]\n",
    "plt.plot(x1, x2, '--k')\n",
    "\n",
    "plt.grid()\n",
    "plt.show()"
   ]
  },
  {
   "cell_type": "code",
   "execution_count": null,
   "metadata": {
    "scrolled": true
   },
   "outputs": [],
   "source": [
    "plt.subplots(2, figsize=(10,5))\n",
    "\n",
    "# plot 1\n",
    "plt.subplot(121)\n",
    "Z = sigmoid(w2[0] + w2[1] * X + w2[2] * Y)\n",
    "cs = plt.contourf(X, Y, Z, np.arange(0, 11) / 10,cmap='coolwarm')\n",
    "plt.clabel(cs, colors='k')\n",
    "for k, color in [(0, 'b'), (1, 'r')]:\n",
    "    idx = labels == k\n",
    "    plt.scatter(features[idx, 1], features[idx, 2], c=color)\n",
    "plt.xlim([0, 1])\n",
    "plt.ylim([0, 1])\n",
    "\n",
    "x1 = np.linspace(-.1, 1.1)\n",
    "x2 = -w2[1] / w2[2] * x1  - w2[0] / w2[2]\n",
    "plt.plot(x1, x2, '--k')\n",
    "\n",
    "plt.grid()\n",
    "\n",
    "# plot 2\n",
    "w_ = 10 * w2\n",
    "Z = sigmoid(w_[0] + w_[1] * X + w_[2] * Y)\n",
    "plt.subplot(122)\n",
    "cs = plt.contourf(X, Y, Z, np.arange(0, 11) / 10,cmap='coolwarm')\n",
    "plt.clabel(cs, colors='k')\n",
    "for k, color in [(0, 'b'), (1, 'r')]:\n",
    "    idx = labels == k\n",
    "    plt.scatter(features[idx, 1], features[idx, 2], c=color)\n",
    "plt.xlim([0, 1])\n",
    "plt.ylim([0, 1])\n",
    "\n",
    "x1 = np.linspace(-.1, 1.1)\n",
    "x2 = -w_[1] / w_[2] * x1  - w_[0] / w_[2]\n",
    "plt.plot(x1, x2, '--k')\n",
    "\n",
    "plt.grid()\n",
    "\n",
    "plt.show()"
   ]
  },
  {
   "cell_type": "code",
   "execution_count": null,
   "metadata": {},
   "outputs": [],
   "source": [
    "zz = np.linspace(-10, 10, 100)\n",
    "plt.plot(zz, sigmoid(zz), label='sigmoid(z)')\n",
    "plt.plot(zz, sigmoid(2* zz), label='sigmoid(2z)')\n",
    "plt.plot(zz, sigmoid(10* zz), label='sigmoid(10z)')\n",
    "plt.grid()\n",
    "plt.legend()\n",
    "plt.show()"
   ]
  },
  {
   "cell_type": "code",
   "execution_count": null,
   "metadata": {},
   "outputs": [],
   "source": []
  }
 ],
 "metadata": {
  "kernelspec": {
   "display_name": "Python 3",
   "language": "python",
   "name": "python3"
  },
  "language_info": {
   "codemirror_mode": {
    "name": "ipython",
    "version": 3
   },
   "file_extension": ".py",
   "mimetype": "text/x-python",
   "name": "python",
   "nbconvert_exporter": "python",
   "pygments_lexer": "ipython3",
   "version": "3.5.5"
  }
 },
 "nbformat": 4,
 "nbformat_minor": 2
}
