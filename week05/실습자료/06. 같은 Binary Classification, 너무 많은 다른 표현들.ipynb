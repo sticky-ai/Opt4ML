{
 "cells": [
  {
   "cell_type": "code",
   "execution_count": null,
   "metadata": {},
   "outputs": [],
   "source": [
    "import numpy as np\n",
    "import tensorflow as tf\n",
    "import matplotlib.pylab as plt\n",
    "%matplotlib inline\n",
    "%config InlineBackend.figure_format = 'retina'"
   ]
  },
  {
   "cell_type": "code",
   "execution_count": null,
   "metadata": {},
   "outputs": [],
   "source": [
    "def plot_scatter(W_, xy, labels):\n",
    "    for k, color in [(0, 'b'), (1, 'r')]:\n",
    "        idx = labels.flatten() == k\n",
    "        plt.scatter(xy[idx, 0], xy[idx, 1], c=color)\n",
    "\n",
    "    x1 = np.linspace(-.1, 1.1)\n",
    "    x2 = -W_[1] / W_[2] * x1  - W_[0] / W_[2]\n",
    "    plt.plot(x1, x2, '--k')\n",
    "\n",
    "    plt.grid()\n",
    "    plt.show()"
   ]
  },
  {
   "cell_type": "code",
   "execution_count": null,
   "metadata": {},
   "outputs": [],
   "source": [
    "W = np.array([-4./5., 3./4., 1.0])\n",
    "\n",
    "np.random.seed(327)\n",
    "xy = np.random.rand(30,2)\n",
    "labels = np.zeros(len(xy))\n",
    "labels[W[0] + W[1] * xy[:,0] + W[2] * xy[:,1] > 0] = 1\n",
    "plot_scatter(W, xy, labels)"
   ]
  },
  {
   "cell_type": "code",
   "execution_count": null,
   "metadata": {},
   "outputs": [],
   "source": [
    "W0 = np.array([[-0.5, 0.7, 1.8]]).reshape(-1,1)\n",
    "features = [np.array([1.0, xval, yval]) for xval, yval in xy]\n",
    "plot_scatter(W0, xy, labels)"
   ]
  },
  {
   "cell_type": "code",
   "execution_count": null,
   "metadata": {},
   "outputs": [],
   "source": [
    "x = tf.placeholder(tf.float64, shape=(None, len(W0)))\n",
    "y = tf.placeholder(tf.float64, shape=(None, 1))\n",
    "W = tf.Variable(W0, dtype=tf.float64)\n",
    "\n",
    "print(x.shape)\n",
    "print(y.shape)\n",
    "print(W.shape)\n",
    "\n",
    "model = tf.sigmoid(tf.matmul(x, W))\n",
    "loss = tf.reduce_mean(- y * tf.log(model) - (1 - y) * tf.log(1 - model))\n",
    "\n",
    "lr = 0.1\n",
    "MaxEpochs= 1000\n",
    "\n",
    "optimizer = tf.train.GradientDescentOptimizer(lr)\n",
    "train = optimizer.minimize(loss)\n",
    "\n",
    "init = tf.global_variables_initializer()\n",
    "with tf.Session() as sess:\n",
    "    sess.run(init)\n",
    "    for epoch in range(MaxEpochs):\n",
    "        sess.run(train, feed_dict={x: features, y: labels.reshape(-1,1)})\n",
    "\n",
    "    curr_W, curr_loss = sess.run([W, loss], feed_dict={x: features, y: labels.reshape(-1,1)})\n",
    "    print(curr_W.flatten(), curr_loss)\n",
    "W_gd = curr_W.flatten()"
   ]
  },
  {
   "cell_type": "code",
   "execution_count": null,
   "metadata": {},
   "outputs": [],
   "source": [
    "plot_scatter(W_gd, xy, labels)"
   ]
  },
  {
   "cell_type": "markdown",
   "metadata": {},
   "source": [
    "## 1. 편리한 함수사용\n",
    "\n",
    "`TensorFlow`에서 자주 사용하는 패턴들을 따로 만들어 놓은 함수들이 있습니다. \n",
    "\n",
    "가장 대표적인 것 중에 하나는 BInary Classification에서 사용하는 cross entropy 입니다.\n",
    "```python\n",
    "model = tf.sigmoid(tf.matmul(x,W))\n",
    "loss = tf.reduce_sum(-y * tf.log(model) - (1 - y) * tf.log(1 - model))\n",
    "```\n",
    "매번 이렇게 쓰는 경우가 많아 사용자의 편리를 위해 [sigmoid_cross_entropy_with_logits](https://www.tensorflow.org/api_docs/python/tf/nn/sigmoid_cross_entropy_with_logits)를 만들어 놓았습니다.\n",
    "```python\n",
    "model = tf.matmul(x,W)\n",
    "loss = tf.reduce_sum(tf.nn.sigmoid_cross_entropy_with_logits(logits=model, labels=y))\n",
    "```\n",
    "\n",
    "위의 2가지 표현은 모두 같은 방식이지만, 처음 접하게 되면 편리함보다는 어려움이 먼저 느껴집니다."
   ]
  },
  {
   "cell_type": "code",
   "execution_count": null,
   "metadata": {},
   "outputs": [],
   "source": [
    "x = tf.placeholder(tf.float64, shape=(None, len(W0)))\n",
    "y = tf.placeholder(tf.float64, shape=(None, 1))\n",
    "W = tf.Variable(W0, dtype=tf.float64)\n",
    "\n",
    "print(x.shape)\n",
    "print(y.shape)\n",
    "print(W.shape)\n",
    "\n",
    "model = tf.matmul(x, W)\n",
    "loss = tf.reduce_mean(tf.nn.sigmoid_cross_entropy_with_logits(logits=model, labels=y))\n",
    "\n",
    "lr = 0.1\n",
    "MaxEpochs= 1000\n",
    "\n",
    "optimizer = tf.train.GradientDescentOptimizer(lr)\n",
    "train = optimizer.minimize(loss)\n",
    "\n",
    "init = tf.global_variables_initializer()\n",
    "with tf.Session() as sess:\n",
    "    sess.run(init)\n",
    "    for epoch in range(MaxEpochs):\n",
    "        sess.run(train, feed_dict={x: features, y: labels.reshape(-1,1)})\n",
    "\n",
    "    curr_W, curr_loss = sess.run([W, loss], feed_dict={x: features, y: labels.reshape(-1,1)})\n",
    "    print(curr_W.flatten(), curr_loss)\n",
    "W_gd1 = curr_W.flatten()"
   ]
  },
  {
   "cell_type": "code",
   "execution_count": null,
   "metadata": {},
   "outputs": [],
   "source": [
    "plot_scatter(W_gd, xy, labels)"
   ]
  },
  {
   "cell_type": "markdown",
   "metadata": {},
   "source": [
    "## 2. Bias Term의 유무\n",
    "\n",
    "구현하는 사람마다, bias term을 feature에 추가하는 경우도 있고, 따로 빼는 경우도 있습니다. 하지만, 따로 빼는 것이 일반적입니다."
   ]
  },
  {
   "cell_type": "code",
   "execution_count": null,
   "metadata": {},
   "outputs": [],
   "source": [
    "features = np.array([[xval, yval] for xval, yval in xy])"
   ]
  },
  {
   "cell_type": "code",
   "execution_count": null,
   "metadata": {},
   "outputs": [],
   "source": [
    "W0 = np.array([[0.7, 1.8]]).reshape(-1,1)\n",
    "b0 = np.array([-0.5]).reshape(-1,1)"
   ]
  },
  {
   "cell_type": "code",
   "execution_count": null,
   "metadata": {},
   "outputs": [],
   "source": [
    "x = tf.placeholder(tf.float64, shape=(None, len(W0)))\n",
    "y = tf.placeholder(tf.float64, shape=(None, 1))\n",
    "\n",
    "W = tf.Variable(W0, dtype=tf.float64)\n",
    "b = tf.Variable(b0, dtype=tf.float64)\n",
    "\n",
    "print(x.shape)\n",
    "print(y.shape)\n",
    "print(W.shape)\n",
    "print(b.shape)\n",
    "\n",
    "model = tf.matmul(x, W) + b\n",
    "loss = tf.reduce_mean(tf.nn.sigmoid_cross_entropy_with_logits(logits=model, labels=y))\n",
    "\n",
    "lr = 0.1\n",
    "MaxEpochs= 1000\n",
    "\n",
    "optimizer = tf.train.GradientDescentOptimizer(lr)\n",
    "train = optimizer.minimize(loss)\n",
    "\n",
    "init = tf.global_variables_initializer()\n",
    "with tf.Session() as sess:\n",
    "    sess.run(init)\n",
    "    for epoch in range(MaxEpochs):\n",
    "        sess.run(train, feed_dict={x: features, y: labels.reshape(-1,1)})\n",
    "\n",
    "    curr_b, curr_W, curr_loss = sess.run([b, W, loss], feed_dict={x: features, y: labels.reshape(-1,1)})\n",
    "    print(curr_b.flatten(), curr_W.flatten(), curr_loss)\n",
    "W_gd2 = curr_W.flatten()\n",
    "b_gd2 = curr_b.flatten()"
   ]
  },
  {
   "cell_type": "code",
   "execution_count": null,
   "metadata": {},
   "outputs": [],
   "source": [
    "WW_gd2 = np.append(b_gd2, W_gd2)\n",
    "plot_scatter(WW_gd2, xy, labels)"
   ]
  },
  {
   "cell_type": "code",
   "execution_count": null,
   "metadata": {},
   "outputs": [],
   "source": []
  }
 ],
 "metadata": {
  "kernelspec": {
   "display_name": "Python 3",
   "language": "python",
   "name": "python3"
  },
  "language_info": {
   "codemirror_mode": {
    "name": "ipython",
    "version": 3
   },
   "file_extension": ".py",
   "mimetype": "text/x-python",
   "name": "python",
   "nbconvert_exporter": "python",
   "pygments_lexer": "ipython3",
   "version": "3.5.5"
  }
 },
 "nbformat": 4,
 "nbformat_minor": 2
}
