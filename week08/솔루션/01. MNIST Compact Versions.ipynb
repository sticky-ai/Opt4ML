{
 "cells": [
  {
   "cell_type": "code",
   "execution_count": 1,
   "metadata": {},
   "outputs": [],
   "source": [
    "import numpy as np\n",
    "import tensorflow as tf\n",
    "import matplotlib.pylab as plt\n",
    "%matplotlib inline\n",
    "%config InlineBackend.figure_format = 'retina'"
   ]
  },
  {
   "cell_type": "code",
   "execution_count": null,
   "metadata": {},
   "outputs": [],
   "source": [
    "# Data Load\n",
    "from tensorflow.examples.tutorials.mnist import input_data\n",
    "mnist = input_data.read_data_sets(\"MNIST_data/\", one_hot=True)"
   ]
  },
  {
   "cell_type": "code",
   "execution_count": null,
   "metadata": {},
   "outputs": [],
   "source": [
    "plt.figure(figsize=(16,8))\n",
    "for k in range(32):\n",
    "    img = mnist.train.images[k].reshape(28,28)\n",
    "    label = np.argmax(mnist.train.labels[k])\n",
    "    plt.subplot(4,8,1+k)\n",
    "    plt.imshow(img, cmap='gray')\n",
    "    plt.axis('off')\n",
    "    plt.title(label)\n",
    "plt.show()"
   ]
  },
  {
   "cell_type": "markdown",
   "metadata": {},
   "source": [
    "## Minimalism of Linear and Neural Network Model"
   ]
  },
  {
   "cell_type": "code",
   "execution_count": null,
   "metadata": {},
   "outputs": [],
   "source": [
    "x = tf.placeholder(tf.float32, [None, 784])\n",
    "y = tf.placeholder(tf.float32, [None, 10])\n",
    "\n",
    "# 1. Linear Model\n",
    "linear_model_logits = tf.layers.dense(x, 10, activation=None)\n",
    "\n",
    "# 2. Neural Network\n",
    "hidden_layer = tf.layers.dense(x, 20, activation=tf.nn.relu)\n",
    "nn_model_logits = tf.layers.dense(hidden_layer, 10, activation=None)\n",
    "\n",
    "# Collect Models\n",
    "logits_dic = {'linear' : linear_model_logits, 'neural' : nn_model_logits}"
   ]
  },
  {
   "cell_type": "code",
   "execution_count": null,
   "metadata": {},
   "outputs": [],
   "source": [
    "batch_size = 128\n",
    "MaxEpochs = 10"
   ]
  },
  {
   "cell_type": "code",
   "execution_count": 6,
   "metadata": {},
   "outputs": [
    {
     "name": "stdout",
     "output_type": "stream",
     "text": [
      "linear\n",
      "0 0 2.33054 0.1477\n",
      "0 200 0.578854 0.8736\n",
      "0 400 0.442379 0.8973\n",
      "\n",
      "1 0 0.444239 0.9011\n",
      "1 200 0.443203 0.9063\n",
      "1 400 0.455562 0.9099\n",
      "\n",
      "2 0 0.402675 0.9105\n",
      "2 200 0.336317 0.9149\n",
      "2 400 0.286464 0.9146\n",
      "\n",
      "3 0 0.275384 0.9163\n",
      "3 200 0.279873 0.9169\n",
      "3 400 0.365501 0.9203\n",
      "\n",
      "4 0 0.202728 0.9183\n",
      "4 200 0.292543 0.9186\n",
      "4 400 0.313671 0.9228\n",
      "\n",
      "5 0 0.263492 0.9228\n",
      "5 200 0.213297 0.9228\n",
      "5 400 0.154402 0.9227\n",
      "\n",
      "6 0 0.246387 0.9228\n",
      "6 200 0.405303 0.9236\n",
      "6 400 0.482814 0.9241\n",
      "\n",
      "7 0 0.198364 0.923\n",
      "7 200 0.345418 0.9229\n",
      "7 400 0.203929 0.9239\n",
      "\n",
      "8 0 0.273931 0.9242\n",
      "8 200 0.339611 0.9255\n",
      "8 400 0.179737 0.9264\n",
      "\n",
      "9 0 0.263283 0.9259\n",
      "9 200 0.28499 0.9255\n",
      "9 400 0.209534 0.9263\n",
      "\n",
      "====================================================================================================\n",
      "neural\n",
      "0 0 2.33591 0.1312\n",
      "0 200 0.505198 0.8934\n",
      "0 400 0.274226 0.9113\n",
      "\n",
      "1 0 0.381224 0.914\n",
      "1 200 0.370786 0.9231\n",
      "1 400 0.409644 0.9265\n",
      "\n",
      "2 0 0.289973 0.9272\n",
      "2 200 0.464491 0.9331\n",
      "2 400 0.160749 0.9356\n",
      "\n",
      "3 0 0.182542 0.9339\n",
      "3 200 0.268643 0.9381\n",
      "3 400 0.321895 0.9369\n",
      "\n",
      "4 0 0.208581 0.9398\n",
      "4 200 0.194631 0.9403\n",
      "4 400 0.130499 0.9454\n",
      "\n",
      "5 0 0.117894 0.9435\n",
      "5 200 0.0989566 0.9438\n",
      "5 400 0.163031 0.9454\n",
      "\n",
      "6 0 0.114767 0.9444\n",
      "6 200 0.102947 0.9466\n",
      "6 400 0.429634 0.9472\n",
      "\n",
      "7 0 0.261823 0.9473\n",
      "7 200 0.181747 0.9495\n",
      "7 400 0.136177 0.9493\n",
      "\n",
      "8 0 0.0984789 0.9493\n",
      "8 200 0.28484 0.9498\n",
      "8 400 0.145115 0.9499\n",
      "\n",
      "9 0 0.155279 0.951\n",
      "9 200 0.185031 0.952\n",
      "9 400 0.108661 0.9523\n",
      "\n",
      "====================================================================================================\n"
     ]
    }
   ],
   "source": [
    "gr = tf.get_default_graph()\n",
    "for model in ['linear', 'neural']:\n",
    "    chosen_logits = logits_dic[model]\n",
    "    print(model)\n",
    "    loss = tf.losses.softmax_cross_entropy(onehot_labels=y, logits=chosen_logits)\n",
    "    train = tf.train.AdamOptimizer().minimize(loss)\n",
    "\n",
    "    # For testing accuracy\n",
    "    correct_prediction = tf.equal(tf.argmax(y,1), tf.argmax(chosen_logits,1))\n",
    "    accuracy = tf.reduce_mean(tf.cast(correct_prediction, tf.float32))\n",
    "\n",
    "    init = tf.global_variables_initializer()\n",
    "    sess = tf.Session()\n",
    "    sess.run(init)\n",
    "    for epoch in range(MaxEpochs):\n",
    "        for step in range(len(mnist.train.images) // batch_size + 1):\n",
    "            batch_xs, batch_ys = mnist.train.next_batch(batch_size)\n",
    "            batch_loss,_ = sess.run([loss, train], feed_dict={x:batch_xs, y:batch_ys})\n",
    "            if step % 200 == 0:\n",
    "                curr_acc = sess.run(accuracy, feed_dict={x:mnist.test.images, y:mnist.test.labels})\n",
    "                print(epoch, step, batch_loss, curr_acc)\n",
    "        print(\"\")\n",
    "    print(\"=\"*100)"
   ]
  },
  {
   "cell_type": "code",
   "execution_count": 7,
   "metadata": {},
   "outputs": [
    {
     "name": "stdout",
     "output_type": "stream",
     "text": [
      "dense/kernel:0\n",
      "(784, 10)\n",
      "Tensor(\"dense/kernel:0\", shape=(784, 10), dtype=float32_ref)\n",
      "\n",
      "dense/bias:0\n",
      "(10,)\n",
      "Tensor(\"dense/bias:0\", shape=(10,), dtype=float32_ref)\n",
      "\n",
      "dense_1/kernel:0\n",
      "(784, 20)\n",
      "Tensor(\"dense_1/kernel:0\", shape=(784, 20), dtype=float32_ref)\n",
      "\n",
      "dense_1/bias:0\n",
      "(20,)\n",
      "Tensor(\"dense_1/bias:0\", shape=(20,), dtype=float32_ref)\n",
      "\n",
      "dense_2/kernel:0\n",
      "(20, 10)\n",
      "Tensor(\"dense_2/kernel:0\", shape=(20, 10), dtype=float32_ref)\n",
      "\n",
      "dense_2/bias:0\n",
      "(10,)\n",
      "Tensor(\"dense_2/bias:0\", shape=(10,), dtype=float32_ref)\n",
      "\n"
     ]
    }
   ],
   "source": [
    "for var in tf.trainable_variables():\n",
    "    print(var.name)\n",
    "    print(var.shape)\n",
    "    print(gr.get_tensor_by_name(var.name))\n",
    "    print(\"\")"
   ]
  },
  {
   "cell_type": "code",
   "execution_count": null,
   "metadata": {
    "collapsed": true
   },
   "outputs": [],
   "source": []
  }
 ],
 "metadata": {
  "kernelspec": {
   "display_name": "Python 3",
   "language": "python",
   "name": "python3"
  },
  "language_info": {
   "codemirror_mode": {
    "name": "ipython",
    "version": 3
   },
   "file_extension": ".py",
   "mimetype": "text/x-python",
   "name": "python",
   "nbconvert_exporter": "python",
   "pygments_lexer": "ipython3",
   "version": "3.5.6"
  }
 },
 "nbformat": 4,
 "nbformat_minor": 2
}
