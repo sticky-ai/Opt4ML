{
 "cells": [
  {
   "cell_type": "code",
   "execution_count": 10,
   "metadata": {
    "collapsed": true
   },
   "outputs": [],
   "source": [
    "import numpy as np\n",
    "import tensorflow as tf\n",
    "import matplotlib.pylab as plt\n",
    "%matplotlib inline\n",
    "%config InlineBackend.figure_format = 'retina'"
   ]
  },
  {
   "cell_type": "code",
   "execution_count": 11,
   "metadata": {},
   "outputs": [],
   "source": [
    "!mkdir tmp"
   ]
  },
  {
   "cell_type": "code",
   "execution_count": 12,
   "metadata": {},
   "outputs": [
    {
     "name": "stdout",
     "output_type": "stream",
     "text": [
      "Extracting MNIST_data/train-images-idx3-ubyte.gz\n",
      "Extracting MNIST_data/train-labels-idx1-ubyte.gz\n",
      "Extracting MNIST_data/t10k-images-idx3-ubyte.gz\n",
      "Extracting MNIST_data/t10k-labels-idx1-ubyte.gz\n"
     ]
    }
   ],
   "source": [
    "# Data Load\n",
    "from tensorflow.examples.tutorials.mnist import input_data\n",
    "mnist = input_data.read_data_sets(\"MNIST_data/\", one_hot=True)"
   ]
  },
  {
   "cell_type": "code",
   "execution_count": 13,
   "metadata": {
    "collapsed": true
   },
   "outputs": [],
   "source": [
    "num_hidden = 20\n",
    "x = tf.placeholder(tf.float32, [None, 784])\n",
    "y = tf.placeholder(tf.float32, [None, 10])\n",
    "hidden = tf.layers.dense(x, units=num_hidden, activation=tf.nn.sigmoid, use_bias=True)\n",
    "logits = tf.layers.dense(hidden, units=10, activation=None, use_bias=True)\n",
    "loss = tf.reduce_mean(tf.nn.softmax_cross_entropy_with_logits(logits=logits, labels=y))"
   ]
  },
  {
   "cell_type": "code",
   "execution_count": 14,
   "metadata": {
    "collapsed": true
   },
   "outputs": [],
   "source": [
    "correct_prediction = tf.equal(tf.argmax(y,1), tf.argmax(tf.nn.softmax(logits),1))\n",
    "accuracy = tf.reduce_mean(tf.cast(correct_prediction, tf.float32))"
   ]
  },
  {
   "cell_type": "code",
   "execution_count": 15,
   "metadata": {
    "collapsed": true
   },
   "outputs": [],
   "source": [
    "batch_size = 128\n",
    "lr = 0.01\n",
    "MaxEpochs = 5\n",
    "train = tf.train.AdamOptimizer(lr).minimize(loss)"
   ]
  },
  {
   "cell_type": "code",
   "execution_count": 16,
   "metadata": {
    "scrolled": false
   },
   "outputs": [
    {
     "name": "stdout",
     "output_type": "stream",
     "text": [
      "0 0 2.25157 0.2129\n",
      "0 200 0.310286 0.9162\n",
      "0 400 0.245774 0.928\n",
      "\n",
      "1 0 0.237042 0.9312\n",
      "1 200 0.219713 0.9319\n",
      "1 400 0.192961 0.9361\n",
      "\n",
      "2 0 0.190051 0.9379\n",
      "2 200 0.199862 0.9309\n",
      "2 400 0.170006 0.9392\n",
      "\n",
      "3 0 0.171284 0.9409\n",
      "3 200 0.159841 0.9428\n",
      "3 400 0.155364 0.9419\n",
      "\n",
      "4 0 0.146638 0.9444\n",
      "4 200 0.143472 0.9455\n",
      "4 400 0.138794 0.9454\n",
      "\n"
     ]
    }
   ],
   "source": [
    "# Checkpoint\n",
    "saver = tf.train.Saver(max_to_keep=25)\n",
    "\n",
    "# Train\n",
    "init = tf.global_variables_initializer()\n",
    "sess = tf.Session()\n",
    "sess.run(init)\n",
    "for epoch in range(MaxEpochs):\n",
    "    for step in range(len(mnist.train.images) // batch_size + 1):\n",
    "        batch_xs, batch_ys = mnist.train.next_batch(batch_size)\n",
    "        sess.run(train, feed_dict={x:batch_xs, y:batch_ys})\n",
    "        if step % 200 == 0:\n",
    "            curr_loss = sess.run(loss, feed_dict={x:mnist.train.images, y:mnist.train.labels})\n",
    "            curr_acc = sess.run(accuracy, feed_dict={x:mnist.test.images, y:mnist.test.labels})\n",
    "            print(epoch, step, curr_loss, curr_acc)\n",
    "            saver.save(sess, \"./tmp/model_epoch{0}_step_{1}.ckpt\".format(epoch, step))\n",
    "    print(\"\")"
   ]
  },
  {
   "cell_type": "code",
   "execution_count": 17,
   "metadata": {
    "scrolled": false
   },
   "outputs": [
    {
     "name": "stdout",
     "output_type": "stream",
     "text": [
      "INFO:tensorflow:Restoring parameters from tmp/model_epoch2_step_200.ckpt\n",
      "0.199862 0.9309\n"
     ]
    }
   ],
   "source": [
    "saver.restore(sess, 'tmp/model_epoch2_step_200.ckpt')\n",
    "curr_loss = sess.run(loss, feed_dict={x:mnist.train.images, y:mnist.train.labels})\n",
    "curr_acc = sess.run(accuracy, feed_dict={x:mnist.test.images, y:mnist.test.labels})\n",
    "print(curr_loss, curr_acc)"
   ]
  },
  {
   "cell_type": "code",
   "execution_count": null,
   "metadata": {
    "collapsed": true
   },
   "outputs": [],
   "source": []
  }
 ],
 "metadata": {
  "kernelspec": {
   "display_name": "Python 3",
   "language": "python",
   "name": "python3"
  },
  "language_info": {
   "codemirror_mode": {
    "name": "ipython",
    "version": 3
   },
   "file_extension": ".py",
   "mimetype": "text/x-python",
   "name": "python",
   "nbconvert_exporter": "python",
   "pygments_lexer": "ipython3",
   "version": "3.6.2"
  }
 },
 "nbformat": 4,
 "nbformat_minor": 2
}
