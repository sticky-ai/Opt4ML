{
 "cells": [
  {
   "cell_type": "code",
   "execution_count": null,
   "metadata": {
    "collapsed": true
   },
   "outputs": [],
   "source": [
    "import numpy as np\n",
    "import tensorflow as tf\n",
    "import matplotlib.pylab as plt\n",
    "%matplotlib inline\n",
    "%config InlineBackend.figure_format = 'retina'"
   ]
  },
  {
   "cell_type": "code",
   "execution_count": null,
   "metadata": {},
   "outputs": [],
   "source": [
    "# Data Load\n",
    "from tensorflow.examples.tutorials.mnist import input_data\n",
    "mnist = input_data.read_data_sets(\"MNIST_data/\", one_hot=True)"
   ]
  },
  {
   "cell_type": "code",
   "execution_count": null,
   "metadata": {
    "scrolled": false
   },
   "outputs": [],
   "source": [
    "plt.figure(figsize=(16,8))\n",
    "for k in range(32):\n",
    "    img = mnist.train.images[k].reshape(28,28)\n",
    "    label = np.argmax(mnist.train.labels[k])\n",
    "    plt.subplot(4,8,1+k)\n",
    "    plt.imshow(img, cmap='gray')\n",
    "    plt.axis('off')\n",
    "    plt.title(label)\n",
    "plt.show()"
   ]
  },
  {
   "cell_type": "code",
   "execution_count": null,
   "metadata": {},
   "outputs": [],
   "source": [
    "print(mnist.train.images.shape)\n",
    "features = mnist.train.images\n",
    "labels = mnist.train.labels"
   ]
  },
  {
   "cell_type": "code",
   "execution_count": null,
   "metadata": {
    "collapsed": true
   },
   "outputs": [],
   "source": [
    "theimage = mnist.train.images[:1]"
   ]
  },
  {
   "cell_type": "markdown",
   "metadata": {},
   "source": [
    "### 02. CNN Model TensorFlow로 정의하기\n",
    "\n",
    "- TODO1 : `features`를 `feed`할 placeholder(`x`)를 정의\n",
    "- TODO2 : CNN의 2번째 Layer를 완성하세요.\n",
    "    1. `filter size` : `3`\n",
    "    1. `channels` : `32`\n",
    "    1. `activation` : ReLU\n",
    "    1. `Max Pooling` : `(2,2)`"
   ]
  },
  {
   "cell_type": "code",
   "execution_count": null,
   "metadata": {},
   "outputs": [],
   "source": [
    "# TODO1\n",
    "x = tf.placeholder(tf.float32, [None, 784])\n",
    "\n",
    "\n",
    "x_img = tf.reshape(x, shape=[-1, 28, 28, 1])\n",
    "conv1 = tf.layers.conv2d(x_img, 64, 5, activation=tf.nn.relu)\n",
    "print(conv1)\n",
    "conv1 = tf.layers.max_pooling2d(conv1, 2, 2)\n",
    "print(conv1)\n",
    "\n",
    "# TODO2\n",
    "conv2 = None\n",
    "print(conv2)\n",
    "conv2 = None\n",
    "print(conv2)\n",
    "\n",
    "fc1 = tf.contrib.layers.flatten(conv2)\n",
    "print(fc1)\n",
    "fc1 = tf.layers.dense(fc1, 1024)\n",
    "print(fc1)\n",
    "\n",
    "model = tf.nn.softmax(tf.layers.dense(fc1, 10))\n",
    "print(model)"
   ]
  },
  {
   "cell_type": "markdown",
   "metadata": {},
   "source": [
    "### 03. Cross-Entropy 정의하기\n",
    "\n",
    "- TODO3 : `labels`를 `feed`할 `placeholder`(`y`) 정의하기\n",
    "- TODO4 : Corss-Entropy(`loss`) 정의하기 : `tf.\n",
    "\n",
    "$$\n",
    "\\frac{1}{m}\\sum_{i=1}^m\\sum_{k=1}^{10} -y_i^k \\log(\\hat{y_i^k})\n",
    "$$"
   ]
  },
  {
   "cell_type": "code",
   "execution_count": null,
   "metadata": {},
   "outputs": [],
   "source": [
    "# TODO3\n",
    "y = None\n",
    "\n",
    "# TODO4\n",
    "loss = None\n",
    "\n",
    "print(loss)"
   ]
  },
  {
   "cell_type": "code",
   "execution_count": null,
   "metadata": {
    "collapsed": true
   },
   "outputs": [],
   "source": [
    "# For testing accuracy\n",
    "correct_prediction = tf.equal(tf.argmax(y,1), tf.argmax(model,1))\n",
    "accuracy = tf.reduce_mean(tf.cast(correct_prediction, tf.float32))"
   ]
  },
  {
   "cell_type": "markdown",
   "metadata": {},
   "source": [
    "### 06. Stochastic Gradient Descent에 사용할 Hyper-Parameter 설정(TODO 5) \n",
    "1. Optimizer : `your choice`\n",
    "1. `batch_size` : `your choice`\n",
    "1. `lerning rate` : `your choice`\n",
    "1. `MaxEpoch` : `your choice`"
   ]
  },
  {
   "cell_type": "code",
   "execution_count": null,
   "metadata": {
    "collapsed": true
   },
   "outputs": [],
   "source": [
    "# TODO4\n",
    "batch_size = None\n",
    "lr = None\n",
    "MaxEpochs = None\n",
    "optimizer = None\n",
    "train = None"
   ]
  },
  {
   "cell_type": "markdown",
   "metadata": {},
   "source": [
    "### 07. Stochastic Gradient Descent(SGD)"
   ]
  },
  {
   "cell_type": "code",
   "execution_count": null,
   "metadata": {
    "scrolled": false
   },
   "outputs": [],
   "source": [
    "gr = tf.get_default_graph()\n",
    "init = tf.global_variables_initializer()\n",
    "sess = tf.Session()\n",
    "sess.run(init)\n",
    "for epoch in range(MaxEpochs):\n",
    "    for step in range(len(mnist.train.images) // batch_size + 1):\n",
    "        batch_xs, batch_ys = mnist.train.next_batch(batch_size)\n",
    "        sess.run(train, feed_dict={x:batch_xs, y:batch_ys})\n",
    "        if step % 50 == 0:\n",
    "            curr_loss = sess.run(loss, feed_dict={x:batch_xs, y:batch_ys})\n",
    "            curr_acc = sess.run(accuracy, feed_dict={x:mnist.test.images, y:mnist.test.labels})\n",
    "            print(epoch, step, curr_loss, curr_acc)\n",
    "    # kernels\n",
    "    first_kerels = gr.get_tensor_by_name('conv2d/kernel:0').eval(session=sess)\n",
    "    plt.figure(figsize=(16,16))\n",
    "    for k in range(64):\n",
    "        img = first_kerels[:, :, 0, k]\n",
    "        \n",
    "        img = (img - img.min()) / (img.max() - img.min())\n",
    "        plt.subplot(8,8,1+k)\n",
    "        plt.imshow(img, cmap='gray')\n",
    "        plt.axis('off')\n",
    "        plt.title(\"filter {0}\".format(k))\n",
    "    plt.show()\n",
    "    # output images\n",
    "    first_img = sess.run(conv1, feed_dict={x:theimage})\n",
    "    plt.figure(figsize=(16,16))\n",
    "    for k in range(64):\n",
    "        img = first_img[0, :, :, k]\n",
    "        plt.subplot(8,8,1+k)\n",
    "        plt.imshow(img, cmap='gray')\n",
    "        plt.axis('off')\n",
    "        plt.title(\"by filter {0}\".format(k))\n",
    "    plt.show()\n",
    "    print(\"\")"
   ]
  },
  {
   "cell_type": "markdown",
   "metadata": {},
   "source": [
    "## Prediction"
   ]
  },
  {
   "cell_type": "code",
   "execution_count": null,
   "metadata": {},
   "outputs": [],
   "source": [
    "test_id = 9229\n",
    "test_image = mnist.test.images[test_id]\n",
    "test_label = mnist.test.labels[test_id]\n",
    "\n",
    "out = sess.run(model, feed_dict={x:[test_image]})\n",
    "print(\"Predicted Label : {0} (Real Label : {1})\".format(np.argmax(out), np.argmax(test_label)))"
   ]
  },
  {
   "cell_type": "code",
   "execution_count": null,
   "metadata": {},
   "outputs": [],
   "source": [
    "img = test_image.reshape(28,28)\n",
    "label = np.argmax(test_label)\n",
    "plt.imshow(img, cmap='gray')\n",
    "plt.axis('off')\n",
    "plt.title(\"Predicted Label : {0} (Real Label : {1})\".format(np.argmax(out), np.argmax(test_label)))\n",
    "plt.show()"
   ]
  },
  {
   "cell_type": "code",
   "execution_count": null,
   "metadata": {
    "collapsed": true
   },
   "outputs": [],
   "source": []
  }
 ],
 "metadata": {
  "kernelspec": {
   "display_name": "Python 3",
   "language": "python",
   "name": "python3"
  },
  "language_info": {
   "codemirror_mode": {
    "name": "ipython",
    "version": 3
   },
   "file_extension": ".py",
   "mimetype": "text/x-python",
   "name": "python",
   "nbconvert_exporter": "python",
   "pygments_lexer": "ipython3",
   "version": "3.5.5"
  }
 },
 "nbformat": 4,
 "nbformat_minor": 2
}
