{
 "cells": [
  {
   "cell_type": "code",
   "execution_count": null,
   "metadata": {},
   "outputs": [],
   "source": [
    "import numpy as np\n",
    "import tensorflow as tf\n",
    "import matplotlib.pylab as plt\n",
    "%matplotlib inline\n",
    "%config InlineBackend.figure_format = 'retina'"
   ]
  },
  {
   "cell_type": "code",
   "execution_count": null,
   "metadata": {},
   "outputs": [],
   "source": [
    "def plot_model(curr_loss, curr_test_loss, prediction, i):\n",
    "    plt.plot(xx, yy, 'o')\n",
    "    plt.plot(xx, yy_test, 'o')\n",
    "    plt.plot(xxx, prediction, '-r')\n",
    "    plt.grid()\n",
    "    plt.xlabel('x')\n",
    "    plt.ylabel('y')\n",
    "    plt.title('{0}'.format(i))\n",
    "    plt.show()"
   ]
  },
  {
   "cell_type": "code",
   "execution_count": null,
   "metadata": {},
   "outputs": [],
   "source": [
    "np.random.seed(417)\n",
    "xxx = np.linspace(-1,1,500)# for drawing\n",
    "xx = np.linspace(-1,1,50)\n",
    "yy = xx**2 + 0.5 * xx + 1.0 + 0.5 * (2 * np.random.rand(len(xx)) - 1)\n",
    "yy_test = xx**2 + 0.5 * xx + 1.0 + 0.5 * (2 * np.random.rand(len(xx)) - 1)"
   ]
  },
  {
   "cell_type": "code",
   "execution_count": null,
   "metadata": {},
   "outputs": [],
   "source": [
    "plt.plot(xx, yy, 'o', label='train')\n",
    "plt.plot(xx, yy_test, 'xr', label='test')\n",
    "plt.grid()\n",
    "plt.xlabel('x')\n",
    "plt.ylabel('y')\n",
    "plt.legend()\n",
    "plt.show()"
   ]
  },
  {
   "cell_type": "code",
   "execution_count": null,
   "metadata": {},
   "outputs": [],
   "source": [
    "features = np.array([[xval] for xval in xx])\n",
    "print(features.shape)\n",
    "labels = yy"
   ]
  },
  {
   "cell_type": "markdown",
   "metadata": {},
   "source": [
    "## Overfitted Regression Model"
   ]
  },
  {
   "cell_type": "code",
   "execution_count": null,
   "metadata": {},
   "outputs": [],
   "source": [
    "num_hidden1 = 10\n",
    "num_hidden2 = 4\n",
    "x = tf.placeholder(tf.float32, shape=[None, 1])\n",
    "\n",
    "tf.set_random_seed(180417)\n",
    "\n",
    "W1 = tf.Variable(tf.random_normal([1, num_hidden1]))\n",
    "b1 = tf.Variable(tf.random_normal([num_hidden1]))\n",
    "\n",
    "W2 = tf.Variable(tf.random_normal([num_hidden1, num_hidden2]))\n",
    "b2 = tf.Variable(tf.random_normal([num_hidden2]))\n",
    "\n",
    "W3 = tf.Variable(tf.random_normal([num_hidden2, 1]))\n",
    "b3 = tf.Variable(tf.random_normal([1]))\n",
    "\n",
    "hidden1 = tf.nn.sigmoid(tf.matmul(x, W1) + b1)\n",
    "hidden2 = tf.nn.sigmoid(tf.matmul(hidden1, W2) + b2)\n",
    "\n",
    "# Final model\n",
    "model = tf.matmul(hidden2, W3) + b3\n",
    "\n",
    "y = tf.placeholder(tf.float32, shape=[None, 1])\n",
    "loss = tf.reduce_mean(tf.squared_difference(y, model))\n",
    "\n",
    "optimizer = tf.train.AdamOptimizer()\n",
    "train = optimizer.minimize(loss)"
   ]
  },
  {
   "cell_type": "code",
   "execution_count": null,
   "metadata": {
    "scrolled": false
   },
   "outputs": [],
   "source": [
    "losses = []\n",
    "init = tf.global_variables_initializer()\n",
    "sess = tf.Session()\n",
    "sess.run(init)\n",
    "for i in range(20001):\n",
    "    sess.run(train, feed_dict={x:features, y:labels.reshape(-1,1)})\n",
    "    curr_loss = sess.run(loss, feed_dict={x:features, y:labels.reshape(-1,1)})\n",
    "    curr_test_loss = sess.run(loss, feed_dict={x:features, y:yy_test.reshape(-1,1)})\n",
    "    losses.append([curr_loss, curr_test_loss])\n",
    "    if i % 1000 == 0:\n",
    "        print(i, curr_loss, curr_test_loss)\n",
    "    if i % 10000 == 0:\n",
    "        prediction = sess.run(model, feed_dict={x:xxx.reshape(-1,1), y:labels.reshape(-1,1)})\n",
    "        plot_model(curr_loss, curr_test_loss, prediction, i)\n",
    "\n",
    "losses = np.array(losses)"
   ]
  },
  {
   "cell_type": "code",
   "execution_count": null,
   "metadata": {},
   "outputs": [],
   "source": [
    "plt.plot(losses[:, 0], label='Train')\n",
    "plt.plot(losses[:, 1], label='Test')\n",
    "plt.grid()\n",
    "plt.ylim([0, .3])\n",
    "plt.legend()\n",
    "plt.show()"
   ]
  },
  {
   "cell_type": "markdown",
   "metadata": {},
   "source": [
    "## L2 Regularized Regression\n",
    "\n",
    "`l2_loss`는 아래 식을 계산해야합니다.\n",
    "$$\n",
    "\\frac{\\beta}{2}\\sum_{ij} |W^1_{ij}|^2 + \\frac{\\beta}{2}\\sum_{ij} |W^2_{ij}|^2 + \\frac{\\beta}{2}\\sum_{ij} |W^3_{ij}|^2\n",
    "$$\n",
    "\n",
    "다음 함수를 참고하세요\n",
    "- `tf.reduce_sum()`\n",
    "- `tf.square()`"
   ]
  },
  {
   "cell_type": "code",
   "execution_count": null,
   "metadata": {},
   "outputs": [],
   "source": [
    "beta = 1E-3\n",
    "# TODO 1\n",
    "l2_loss = beta / 2 * 0\n",
    "\n",
    "optimizer = tf.train.AdamOptimizer()\n",
    "train = optimizer.minimize(loss + l2_loss)"
   ]
  },
  {
   "cell_type": "code",
   "execution_count": null,
   "metadata": {},
   "outputs": [],
   "source": [
    "losses = []\n",
    "init = tf.global_variables_initializer()\n",
    "sess = tf.Session()\n",
    "sess.run(init)\n",
    "for i in range(20001):\n",
    "    sess.run(train, feed_dict={x:features, y:labels.reshape(-1,1)})\n",
    "    curr_loss, curr_l2_loss = sess.run([loss, l2_loss], feed_dict={x:features, y:labels.reshape(-1,1)})\n",
    "    curr_test_loss, curr_test_l2_loss = sess.run([loss, l2_loss], feed_dict={x:features, y:yy_test.reshape(-1,1)})\n",
    "    losses.append([curr_loss, curr_l2_loss, curr_test_loss, curr_test_l2_loss])\n",
    "    if i % 1000 == 0:\n",
    "        print(i, curr_loss, curr_l2_loss, curr_test_loss, curr_test_l2_loss)\n",
    "    if i % 10000 == 0:\n",
    "        prediction = sess.run(model, feed_dict={x:xxx.reshape(-1,1), y:labels.reshape(-1,1)})\n",
    "        plot_model(curr_loss, curr_test_loss, prediction, i)\n",
    "\n",
    "losses = np.array(losses)"
   ]
  },
  {
   "cell_type": "code",
   "execution_count": null,
   "metadata": {},
   "outputs": [],
   "source": [
    "plt.plot(losses[:, 0] + losses[:, 1], label='Train')\n",
    "plt.plot(losses[:, 2] + losses[:, 3], label='Test')\n",
    "plt.grid()\n",
    "plt.ylim([0, .3])\n",
    "plt.legend()\n",
    "plt.show()"
   ]
  },
  {
   "cell_type": "markdown",
   "metadata": {},
   "source": [
    "## L1 Regularized Regression\n",
    "\n",
    "`l1_loss`는 아래 식을 계산해야합니다.\n",
    "$$\n",
    "\\frac{\\beta}{2}\\sum_{ij} |W^1_{ij}| + \\frac{\\beta}{2}\\sum_{ij} |W^2_{ij}| + \\frac{\\beta}{2}\\sum_{ij} |W^3_{ij}|\n",
    "$$\n",
    "\n",
    "다음 함수를 참고하세요.\n",
    "- `tf.reduce_sum()`\n",
    "- `tf.abs()`"
   ]
  },
  {
   "cell_type": "code",
   "execution_count": null,
   "metadata": {},
   "outputs": [],
   "source": [
    "beta = 1E-3\n",
    "# TODO 2\n",
    "l1_loss = beta / 2 * 0\n",
    "\n",
    "optimizer = tf.train.AdamOptimizer()\n",
    "train = optimizer.minimize(loss + l1_loss)"
   ]
  },
  {
   "cell_type": "code",
   "execution_count": null,
   "metadata": {},
   "outputs": [],
   "source": [
    "losses = []\n",
    "init = tf.global_variables_initializer()\n",
    "sess = tf.Session()\n",
    "sess.run(init)\n",
    "for i in range(20001):\n",
    "    sess.run(train, feed_dict={x:features, y:labels.reshape(-1,1)})\n",
    "    curr_loss, curr_l1_loss = sess.run([loss, l1_loss], feed_dict={x:features, y:labels.reshape(-1,1)})\n",
    "    curr_test_loss, curr_test_l1_loss = sess.run([loss, l1_loss], feed_dict={x:features, y:yy_test.reshape(-1,1)})\n",
    "    losses.append([curr_loss, curr_l1_loss, curr_test_loss, curr_test_l1_loss])\n",
    "    if i % 1000 == 0:\n",
    "        print(i, curr_loss, curr_l1_loss, curr_test_loss, curr_test_l1_loss)\n",
    "    if i % 10000 == 0:\n",
    "        prediction = sess.run(model, feed_dict={x:xxx.reshape(-1,1), y:labels.reshape(-1,1)})\n",
    "        plot_model(curr_loss, curr_test_loss, prediction, i)\n",
    "\n",
    "losses = np.array(losses)"
   ]
  },
  {
   "cell_type": "code",
   "execution_count": null,
   "metadata": {},
   "outputs": [],
   "source": [
    "plt.plot(losses[:, 0] + losses[:, 1], label='Train')\n",
    "plt.plot(losses[:, 2] + losses[:, 3], label='Test')\n",
    "plt.grid()\n",
    "plt.ylim([0, .3])\n",
    "plt.legend()\n",
    "plt.show()"
   ]
  },
  {
   "cell_type": "code",
   "execution_count": null,
   "metadata": {},
   "outputs": [],
   "source": []
  }
 ],
 "metadata": {
  "kernelspec": {
   "display_name": "Python 3",
   "language": "python",
   "name": "python3"
  },
  "language_info": {
   "codemirror_mode": {
    "name": "ipython",
    "version": 3
   },
   "file_extension": ".py",
   "mimetype": "text/x-python",
   "name": "python",
   "nbconvert_exporter": "python",
   "pygments_lexer": "ipython3",
   "version": "3.5.5"
  }
 },
 "nbformat": 4,
 "nbformat_minor": 2
}
