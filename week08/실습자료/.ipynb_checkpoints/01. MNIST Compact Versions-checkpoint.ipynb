{
 "cells": [
  {
   "cell_type": "code",
   "execution_count": null,
   "metadata": {},
   "outputs": [],
   "source": [
    "import numpy as np\n",
    "import tensorflow as tf\n",
    "import matplotlib.pylab as plt\n",
    "%matplotlib inline\n",
    "%config InlineBackend.figure_format = 'retina'"
   ]
  },
  {
   "cell_type": "code",
   "execution_count": null,
   "metadata": {},
   "outputs": [],
   "source": [
    "# Data Load\n",
    "from tensorflow.examples.tutorials.mnist import input_data\n",
    "mnist = input_data.read_data_sets(\"MNIST_data/\", one_hot=True)"
   ]
  },
  {
   "cell_type": "code",
   "execution_count": null,
   "metadata": {},
   "outputs": [],
   "source": [
    "plt.figure(figsize=(16,8))\n",
    "for k in range(32):\n",
    "    img = mnist.train.images[k].reshape(28,28)\n",
    "    label = np.argmax(mnist.train.labels[k])\n",
    "    plt.subplot(4,8,1+k)\n",
    "    plt.imshow(img, cmap='gray')\n",
    "    plt.axis('off')\n",
    "    plt.title(label)\n",
    "plt.show()"
   ]
  },
  {
   "cell_type": "markdown",
   "metadata": {},
   "source": [
    "## Minimalism of Linear and Neural Network Model"
   ]
  },
  {
   "cell_type": "code",
   "execution_count": null,
   "metadata": {},
   "outputs": [],
   "source": [
    "x = tf.placeholder(tf.float32, [None, 784])\n",
    "y = tf.placeholder(tf.float32, [None, 10])\n",
    "\n",
    "# 1. Linear Model\n",
    "linear_model_logits = tf.layers.dense(x, 10, activation=None)\n",
    "\n",
    "# 2. Neural Network\n",
    "hidden_layer = tf.layers.dense(x, 20, activation=tf.nn.relu)\n",
    "nn_model_logits = tf.layers.dense(hidden_layer, 10, activation=None)\n",
    "\n",
    "# Collect Models\n",
    "logits_dic = {'linear' : linear_model_logits, 'neural' : nn_model_logits}"
   ]
  },
  {
   "cell_type": "code",
   "execution_count": null,
   "metadata": {},
   "outputs": [],
   "source": [
    "batch_size = 128\n",
    "MaxEpochs = 10"
   ]
  },
  {
   "cell_type": "code",
   "execution_count": null,
   "metadata": {},
   "outputs": [],
   "source": [
    "gr = tf.get_default_graph()\n",
    "for model in ['linear', 'neural']:\n",
    "    chosen_logits = logits_dic[model]\n",
    "    print(model)\n",
    "    loss = tf.losses.softmax_cross_entropy(onehot_labels=y, logits=chosen_logits)\n",
    "    train = tf.train.AdamOptimizer().minimize(loss)\n",
    "\n",
    "    # For testing accuracy\n",
    "    correct_prediction = tf.equal(tf.argmax(y,1), tf.argmax(chosen_logits,1))\n",
    "    accuracy = tf.reduce_mean(tf.cast(correct_prediction, tf.float32))\n",
    "\n",
    "    init = tf.global_variables_initializer()\n",
    "    sess = tf.Session()\n",
    "    sess.run(init)\n",
    "    for epoch in range(MaxEpochs):\n",
    "        for step in range(len(mnist.train.images) // batch_size + 1):\n",
    "            batch_xs, batch_ys = mnist.train.next_batch(batch_size)\n",
    "            batch_loss,_ = sess.run([loss, train], feed_dict={x:batch_xs, y:batch_ys})\n",
    "            if step % 200 == 0:\n",
    "                curr_acc = sess.run(accuracy, feed_dict={x:mnist.test.images, y:mnist.test.labels})\n",
    "                print(epoch, step, batch_loss, curr_acc)\n",
    "        print(\"\")\n",
    "    print(\"=\"*100)"
   ]
  },
  {
   "cell_type": "code",
   "execution_count": null,
   "metadata": {},
   "outputs": [],
   "source": [
    "for var in tf.trainable_variables():\n",
    "    print(var.name)\n",
    "    print(var.shape)\n",
    "    print(gr.get_tensor_by_name(var.name))\n",
    "    print(\"\")"
   ]
  },
  {
   "cell_type": "code",
   "execution_count": null,
   "metadata": {},
   "outputs": [],
   "source": []
  }
 ],
 "metadata": {
  "kernelspec": {
   "display_name": "Python 3",
   "language": "python",
   "name": "python3"
  },
  "language_info": {
   "codemirror_mode": {
    "name": "ipython",
    "version": 3
   },
   "file_extension": ".py",
   "mimetype": "text/x-python",
   "name": "python",
   "nbconvert_exporter": "python",
   "pygments_lexer": "ipython3",
   "version": "3.5.6"
  }
 },
 "nbformat": 4,
 "nbformat_minor": 2
}
