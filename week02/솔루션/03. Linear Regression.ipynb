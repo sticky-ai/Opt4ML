{
 "cells": [
  {
   "cell_type": "code",
   "execution_count": 1,
   "metadata": {
    "collapsed": true
   },
   "outputs": [],
   "source": [
    "import numpy as np\n",
    "import matplotlib.pylab as plt\n",
    "%matplotlib inline"
   ]
  },
  {
   "cell_type": "code",
   "execution_count": 2,
   "metadata": {
    "collapsed": true
   },
   "outputs": [],
   "source": [
    "# Target function\n",
    "f = lambda x: 1.0/3.0 * x + 5.0"
   ]
  },
  {
   "cell_type": "code",
   "execution_count": 3,
   "metadata": {
    "collapsed": true
   },
   "outputs": [],
   "source": [
    "x = np.linspace(-20, 60, 50)\n",
    "fx = f(x)"
   ]
  },
  {
   "cell_type": "code",
   "execution_count": 4,
   "metadata": {},
   "outputs": [
    {
     "data": {
      "image/png": "[encoded data removed]",
      "text/plain": [
       "<matplotlib.figure.Figure at 0x112e97c50>"
      ]
     },
     "metadata": {},
     "output_type": "display_data"
    }
   ],
   "source": [
    "plt.plot(x,fx)\n",
    "plt.grid()\n",
    "plt.show()"
   ]
  },
  {
   "cell_type": "code",
   "execution_count": 5,
   "metadata": {},
   "outputs": [
    {
     "data": {
      "text/plain": [
       "array([ 0.78262727,  0.36524297,  0.27871313,  0.32557152,  0.01965997,\n",
       "        0.17785242,  0.95742702,  0.89966069,  0.86790454,  0.7263208 ,\n",
       "        0.01324632,  0.0013142 ,  0.15494109,  0.37813096,  0.74676816,\n",
       "        0.31192206,  0.6528407 ,  0.59491467,  0.57626351,  0.96000318,\n",
       "        0.30140556,  0.83291735,  0.25380283,  0.13716185,  0.02941223,\n",
       "        0.76700702,  0.14389103,  0.9288465 ,  0.56871206,  0.9356779 ,\n",
       "        0.79122841,  0.04659654,  0.84845169,  0.84987392,  0.83077204,\n",
       "        0.38209126,  0.7832661 ,  0.66171478,  0.87876874,  0.27607376,\n",
       "        0.61345399,  0.4770959 ,  0.81538794,  0.06091675,  0.603058  ,\n",
       "        0.46449685,  0.526765  ,  0.18770103,  0.5238004 ,  0.46117787])"
      ]
     },
     "execution_count": 5,
     "metadata": {},
     "output_type": "execute_result"
    }
   ],
   "source": [
    "np.random.rand(len(x))"
   ]
  },
  {
   "cell_type": "code",
   "execution_count": 6,
   "metadata": {
    "collapsed": true
   },
   "outputs": [],
   "source": [
    "# add random noise\n",
    "np.random.seed(306)\n",
    "y = fx + 10 * np.random.rand(len(x))"
   ]
  },
  {
   "cell_type": "code",
   "execution_count": 7,
   "metadata": {},
   "outputs": [
    {
     "data": {
      "image/png": "[encoded data removed]",
      "text/plain": [
       "<matplotlib.figure.Figure at 0x112e97a20>"
      ]
     },
     "metadata": {},
     "output_type": "display_data"
    }
   ],
   "source": [
    "plt.plot(x,y, 'o')\n",
    "plt.grid()\n",
    "plt.show()"
   ]
  },
  {
   "cell_type": "markdown",
   "metadata": {},
   "source": [
    "## 프로그램 실습 : 선형 회귀\n",
    "주어진 데이터 $(x_i, y_i)$ for $i=1, 50$에 대하여 아래 loss function을 최소화하는 $a$와 $b$를 구하시오.\n",
    "\\begin{equation}\n",
    "\\min_{a,b} \\sum_{i=1}^{50}|ax_i+b - y_i|^2\n",
    "\\end{equation}"
   ]
  },
  {
   "cell_type": "markdown",
   "metadata": {},
   "source": [
    "1. `from numerical_optimizer import something`\n",
    "1. Define loss function\n",
    "1. Define grad function\n",
    "1. (Optional) Define hess function\n",
    "1. Tunning Parameter\n",
    "    1. learning_rate\n",
    "    1. MaxIter"
   ]
  },
  {
   "cell_type": "markdown",
   "metadata": {},
   "source": [
    "### Version 1 : Steepest Descent"
   ]
  },
  {
   "cell_type": "code",
   "execution_count": 8,
   "metadata": {
    "collapsed": true
   },
   "outputs": [],
   "source": [
    "def loss(a, b):\n",
    "    return np.sum( (a * x + b - y)**2 )\n",
    "\n",
    "def grad_a(a, b):\n",
    "    return np.sum( 2 * x * (a * x + b - y) )\n",
    "\n",
    "def grad_b(a, b):\n",
    "    return np.sum( 2 * (a * x + b - y) )"
   ]
  },
  {
   "cell_type": "code",
   "execution_count": 9,
   "metadata": {
    "collapsed": true
   },
   "outputs": [],
   "source": [
    "a_0 = -0.5\n",
    "b_0 = 2.0\n",
    "from numerical_optimizers import steepest_descent_2d"
   ]
  },
  {
   "cell_type": "code",
   "execution_count": 10,
   "metadata": {},
   "outputs": [
    {
     "name": "stdout",
     "output_type": "stream",
     "text": [
      "[ 0.33555863  9.70209383]\n"
     ]
    }
   ],
   "source": [
    "# TODO\n",
    "w0 = np.array([a_0, b_0])\n",
    "wopt, _, _, _ = steepest_descent_2d(loss, grad_a, grad_b, w0, \n",
    "                                    verbose=False, learning_rate=1E-5, MaxIter=4000)\n",
    "print(wopt)"
   ]
  },
  {
   "cell_type": "code",
   "execution_count": 11,
   "metadata": {},
   "outputs": [
    {
     "data": {
      "image/png": "[encoded data removed]",
      "text/plain": [
       "<matplotlib.figure.Figure at 0x1162ea5c0>"
      ]
     },
     "metadata": {},
     "output_type": "display_data"
    }
   ],
   "source": [
    "a_opt = wopt[0]\n",
    "b_opt = wopt[1]\n",
    "\n",
    "plt.plot(x,y, 'o')\n",
    "plt.grid()\n",
    "plt.plot(x, a_opt * x + b_opt, 'r-')\n",
    "plt.show()"
   ]
  },
  {
   "cell_type": "markdown",
   "metadata": {},
   "source": [
    "### Version 2 : Newton Method"
   ]
  },
  {
   "cell_type": "code",
   "execution_count": 12,
   "metadata": {},
   "outputs": [],
   "source": [
    "def hess_loss(a, b):\n",
    "    return np.array([[np.sum(2 * x * x), np.sum(2 * x )],[np.sum(2 * x ),2 * 50.]])"
   ]
  },
  {
   "cell_type": "code",
   "execution_count": 13,
   "metadata": {},
   "outputs": [
    {
     "name": "stdout",
     "output_type": "stream",
     "text": [
      "[  0.31810453  10.53510921]\n"
     ]
    }
   ],
   "source": [
    "from numerical_optimizers import newton_descent_2d\n",
    "wopt, _, _, _ = newton_descent_2d(loss, grad_a, grad_b, hess_loss, w0, \n",
    "                                    verbose=False, learning_rate=1, MaxIter=1)\n",
    "print(wopt)"
   ]
  },
  {
   "cell_type": "code",
   "execution_count": 14,
   "metadata": {},
   "outputs": [
    {
     "data": {
      "image/png": "[encoded data removed]",
      "text/plain": [
       "<matplotlib.figure.Figure at 0x1164d7c18>"
      ]
     },
     "metadata": {},
     "output_type": "display_data"
    }
   ],
   "source": [
    "a_opt = wopt[0]\n",
    "b_opt = wopt[1]\n",
    "\n",
    "plt.plot(x,y, 'o')\n",
    "plt.grid()\n",
    "plt.plot(x, a_opt * x + b_opt, 'r-')\n",
    "plt.show()"
   ]
  },
  {
   "cell_type": "code",
   "execution_count": 15,
   "metadata": {
    "collapsed": true
   },
   "outputs": [],
   "source": [
    "def loss(w):\n",
    "    return np.sum( (w[0] * x + w[1] - y)**2 )"
   ]
  },
  {
   "cell_type": "code",
   "execution_count": 16,
   "metadata": {},
   "outputs": [
    {
     "name": "stdout",
     "output_type": "stream",
     "text": [
      "      fun: 472.4377897592981\n",
      " hess_inv: array([[  1.80147105e-05,  -3.60294247e-04],\n",
      "       [ -3.60294247e-04,   1.72058840e-02]])\n",
      "      jac: array([ -3.81469727e-06,   0.00000000e+00])\n",
      "  message: 'Optimization terminated successfully.'\n",
      "     nfev: 24\n",
      "      nit: 4\n",
      "     njev: 6\n",
      "   status: 0\n",
      "  success: True\n",
      "        x: array([  0.31810451,  10.53510951])\n"
     ]
    }
   ],
   "source": [
    "from scipy.optimize import minimize\n",
    "res = minimize(loss, w0)\n",
    "print(res)"
   ]
  },
  {
   "cell_type": "code",
   "execution_count": 17,
   "metadata": {},
   "outputs": [
    {
     "data": {
      "image/png": "[encoded data removed]",
      "text/plain": [
       "<matplotlib.figure.Figure at 0x117c63ac8>"
      ]
     },
     "metadata": {},
     "output_type": "display_data"
    }
   ],
   "source": [
    "a_opt = res.x[0]\n",
    "b_opt = res.x[1]\n",
    "\n",
    "plt.plot(x,y, 'o')\n",
    "plt.grid()\n",
    "plt.plot(x, a_opt * x + b_opt, 'r-')\n",
    "plt.show()"
   ]
  },
  {
   "cell_type": "code",
   "execution_count": 18,
   "metadata": {},
   "outputs": [
    {
     "name": "stdout",
     "output_type": "stream",
     "text": [
      "     fun: 472.4377897592965\n",
      "     jac: array([  7.62939453e-06,  -3.81469727e-06])\n",
      " message: 'Optimization terminated successfully.'\n",
      "    nfev: 84\n",
      "     nit: 10\n",
      "    njev: 21\n",
      "  status: 0\n",
      " success: True\n",
      "       x: array([  0.31810451,  10.53510941])\n"
     ]
    },
    {
     "data": {
      "image/png": "[encoded data removed]",
      "text/plain": [
       "<matplotlib.figure.Figure at 0x116611b00>"
      ]
     },
     "metadata": {},
     "output_type": "display_data"
    }
   ],
   "source": [
    "from scipy.optimize import minimize\n",
    "res = minimize(loss, w0, method='CG')\n",
    "\n",
    "print(res)\n",
    "\n",
    "a_opt = res.x[0]\n",
    "b_opt = res.x[1]\n",
    "\n",
    "plt.plot(x,y, 'o')\n",
    "plt.grid()\n",
    "plt.plot(x, a_opt * x + b_opt, 'r-')\n",
    "plt.show()"
   ]
  },
  {
   "cell_type": "code",
   "execution_count": null,
   "metadata": {
    "collapsed": true
   },
   "outputs": [],
   "source": []
  }
 ],
 "metadata": {
  "kernelspec": {
   "display_name": "Python 3",
   "language": "python",
   "name": "python3"
  },
  "language_info": {
   "codemirror_mode": {
    "name": "ipython",
    "version": 3
   },
   "file_extension": ".py",
   "mimetype": "text/x-python",
   "name": "python",
   "nbconvert_exporter": "python",
   "pygments_lexer": "ipython3",
   "version": "3.6.2"
  }
 },
 "nbformat": 4,
 "nbformat_minor": 2
}
