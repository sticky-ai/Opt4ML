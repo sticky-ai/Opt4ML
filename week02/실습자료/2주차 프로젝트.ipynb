{
 "cells": [
  {
   "cell_type": "markdown",
   "metadata": {},
   "source": [
    "# 2차 함수 모델 fiiting하기"
   ]
  },
  {
   "cell_type": "code",
   "execution_count": null,
   "metadata": {},
   "outputs": [],
   "source": [
    "import numpy as np\n",
    "import matplotlib.pylab as plt\n",
    "%matplotlib inline\n",
    "%config InlineBackend.figure_format = 'retina'"
   ]
  },
  {
   "cell_type": "markdown",
   "metadata": {},
   "source": [
    "## 데이터 생성하기"
   ]
  },
  {
   "cell_type": "code",
   "execution_count": null,
   "metadata": {},
   "outputs": [],
   "source": [
    "# function\n",
    "f = lambda x: x**2 + 1.0/3.0 * x + 5.0"
   ]
  },
  {
   "cell_type": "code",
   "execution_count": null,
   "metadata": {},
   "outputs": [],
   "source": [
    "x = np.linspace(-20, 60, 50)\n",
    "fx = f(x)"
   ]
  },
  {
   "cell_type": "code",
   "execution_count": null,
   "metadata": {},
   "outputs": [],
   "source": [
    "plt.plot(x,fx)\n",
    "plt.grid()\n",
    "plt.show()"
   ]
  },
  {
   "cell_type": "code",
   "execution_count": null,
   "metadata": {},
   "outputs": [],
   "source": [
    "np.random.seed(1)\n",
    "y = fx + 500 * np.random.rand(len(x))"
   ]
  },
  {
   "cell_type": "code",
   "execution_count": null,
   "metadata": {},
   "outputs": [],
   "source": [
    "plt.plot(x,y, 'o')\n",
    "plt.grid()\n",
    "plt.show()"
   ]
  },
  {
   "cell_type": "markdown",
   "metadata": {},
   "source": [
    "## 1. scipy.optimize 사용하기\n",
    "\n",
    "참고링크 : https://docs.scipy.org/doc/scipy/reference/generated/scipy.optimize.minimize.html#scipy.optimize.minimize\n",
    "\n",
    "1. Define loss function\n",
    "1. Call `minimize()`\n"
   ]
  },
  {
   "cell_type": "markdown",
   "metadata": {},
   "source": [
    "\\begin{equation}\n",
    "loss(w) = \\frac{1}{N}\\sum_{i=1}^N |w_0 x_i^2 + w_1x_i + w_2 - y_i|^2\n",
    "\\end{equation}"
   ]
  },
  {
   "cell_type": "code",
   "execution_count": null,
   "metadata": {},
   "outputs": [],
   "source": [
    "# TODO 1-1\n",
    "loss = lambda w: np.mean(None)"
   ]
  },
  {
   "cell_type": "code",
   "execution_count": null,
   "metadata": {},
   "outputs": [],
   "source": [
    "from scipy.optimize import minimize\n",
    "w0 = [0.0, 2.0, 1.0]\n",
    "# TODO 1-2\n",
    "res = minimize(None, w0)"
   ]
  },
  {
   "cell_type": "code",
   "execution_count": null,
   "metadata": {},
   "outputs": [],
   "source": [
    "wopt = res.x\n",
    "print(wopt)\n",
    "y_pred = wopt[0] * x ** 2 + wopt[1] * x + wopt[2]"
   ]
  },
  {
   "cell_type": "code",
   "execution_count": null,
   "metadata": {},
   "outputs": [],
   "source": [
    "plt.plot(x,y, 'o')\n",
    "plt.plot(x,y_pred, 'r-')\n",
    "plt.grid()\n",
    "plt.show()"
   ]
  },
  {
   "cell_type": "markdown",
   "metadata": {},
   "source": [
    "## 2. Steepest Descent 사용하기\n",
    "1. Define gradient\n",
    "1. Write code for Steepest Descent 3d\n",
    "1. Tune Parameters"
   ]
  },
  {
   "cell_type": "markdown",
   "metadata": {},
   "source": [
    "\\begin{equation}\n",
    "loss(w) = \\frac{1}{N}\\sum_{i=1}^N |w_0 x_i^2 + w_1x_i + w_2 - y_i|^2\n",
    "\\end{equation}"
   ]
  },
  {
   "cell_type": "markdown",
   "metadata": {},
   "source": [
    "\\begin{equation}\n",
    "\\nabla loss(w) =\n",
    "\\frac{2}{N}\\sum_{i=1}^N\n",
    "(w_0 x_i^2 + w_1x_i + w_2 - y_i)\n",
    "\\begin{bmatrix}\n",
    "x_i^2\\\\\n",
    "x_i\\\\\n",
    "1\n",
    "\\end{bmatrix}\n",
    "\\end{equation}"
   ]
  },
  {
   "cell_type": "code",
   "execution_count": null,
   "metadata": {},
   "outputs": [],
   "source": [
    "# TODO 2-1\n",
    "def grad_f(w):\n",
    "    val = np.zeros(len(w))\n",
    "    for i in range(len(x)):\n",
    "        er = w[0] * x[i] ** 2 + w[1] * x[i] + w[2] - y[i]\n",
    "        val += None\n",
    "    return val / len(x)"
   ]
  },
  {
   "cell_type": "code",
   "execution_count": null,
   "metadata": {},
   "outputs": [],
   "source": [
    "# TODO 2-2\n",
    "def steepest_descent_3d(loss, grad_func, w0, learning_rate=0.01, MaxIter=10):\n",
    "    for i in range(MaxIter):\n",
    "        w0 += None\n",
    "    return w0"
   ]
  },
  {
   "cell_type": "code",
   "execution_count": null,
   "metadata": {},
   "outputs": [],
   "source": [
    "# TODO 2-3\n",
    "w_gd = steepest_descent_3d(loss, grad_f, w0, learning_rate=None,MaxIter=None)\n",
    "print(w_gd  )"
   ]
  },
  {
   "cell_type": "code",
   "execution_count": null,
   "metadata": {},
   "outputs": [],
   "source": [
    "y_pred = w_gd[0] * x ** 2 + w_gd[1] * x + w_gd[2]\n",
    "plt.plot(x,y, 'o')\n",
    "plt.plot(x,y_pred, 'r-')\n",
    "plt.grid()\n",
    "plt.show()"
   ]
  },
  {
   "cell_type": "markdown",
   "metadata": {},
   "source": [
    "## 3. Newton Method 사용하기\n",
    "1. Define gradient and hessian matrix\n",
    "1. Write code for Newton method for 3d\n",
    "1. Tune Parameter"
   ]
  },
  {
   "cell_type": "markdown",
   "metadata": {},
   "source": [
    "\\begin{equation}\n",
    "loss(w) = \\frac{1}{N}\\sum_{i=1}^N |w_0 x_i^2 + w_1x_i + w_2 - y_i|^2\n",
    "\\end{equation}"
   ]
  },
  {
   "cell_type": "markdown",
   "metadata": {},
   "source": [
    "\\begin{equation}\n",
    "\\nabla loss(w) =\n",
    "\\frac{2}{N}\\sum_{i=1}^N\n",
    "(w_0 x_i^2 + w_1x_i + w_2 - y_i)\n",
    "\\begin{bmatrix}\n",
    "x_i^2\\\\\n",
    "x_i\\\\\n",
    "1\n",
    "\\end{bmatrix}\n",
    "\\end{equation}"
   ]
  },
  {
   "cell_type": "markdown",
   "metadata": {},
   "source": [
    "\\begin{equation}\n",
    "\\nabla^2 loss(w) =\n",
    "\\frac{2}{N}\\sum_{i=1}^N\n",
    "\\begin{bmatrix}\n",
    "x_i^4 & x_i^3 & x_i^2\\\\\n",
    "x_i^3 & x_i^2 & x_i\\\\\n",
    "x_i^2 & x_i & 1\n",
    "\\end{bmatrix}\n",
    "\\end{equation}"
   ]
  },
  {
   "cell_type": "code",
   "execution_count": null,
   "metadata": {},
   "outputs": [],
   "source": [
    "# TODO 3-1\n",
    "def hessian_f(w):\n",
    "    val = np.zeros((len(w),len(w)))\n",
    "    for i in range(len(x)):\n",
    "        val += None\n",
    "    return val / len(x)"
   ]
  },
  {
   "cell_type": "code",
   "execution_count": null,
   "metadata": {},
   "outputs": [],
   "source": [
    "# TODO 3-2\n",
    "def newton_descent_3d(loss, grad_func, hessian_func, w0, learning_rate=1, MaxIter=10):\n",
    "    for i in range(MaxIter):\n",
    "        grad = grad_func(w0)\n",
    "        hess = hessian_func(w0)\n",
    "        w0 += None\n",
    "    return w0"
   ]
  },
  {
   "cell_type": "code",
   "execution_count": null,
   "metadata": {},
   "outputs": [],
   "source": [
    "# TODO 3-3\n",
    "w_nt = newton_descent_3d(loss, grad_f, None, w0, MaxIter=1)"
   ]
  },
  {
   "cell_type": "code",
   "execution_count": null,
   "metadata": {},
   "outputs": [],
   "source": [
    "y_pred = w_nt[0] * x ** 2 + w_nt[1] * x + w_nt[2]\n",
    "plt.plot(x,y, 'o')\n",
    "plt.plot(x,y_pred, 'r-')\n",
    "plt.grid()\n",
    "plt.show()"
   ]
  },
  {
   "cell_type": "markdown",
   "metadata": {},
   "source": [
    "## 4. 3가지 방법 비교"
   ]
  },
  {
   "cell_type": "code",
   "execution_count": null,
   "metadata": {},
   "outputs": [],
   "source": [
    "loss(wopt), loss(w_gd), loss(w_nt)"
   ]
  },
  {
   "cell_type": "code",
   "execution_count": null,
   "metadata": {},
   "outputs": [],
   "source": [
    "plt.subplots(3, figsize=(15,5))\n",
    "plt.subplot(131)\n",
    "y_pred = wopt[0] * x ** 2 + wopt[1] * x + wopt[2]\n",
    "plt.plot(x,y, 'o')\n",
    "plt.plot(x,y_pred, 'r-')\n",
    "plt.grid()\n",
    "plt.title('scipy.optimize.minimize : {0}'.format(loss(wopt)))\n",
    "\n",
    "plt.subplot(132)\n",
    "y_pred = w_gd[0] * x ** 2 + w_gd[1] * x + w_gd[2]\n",
    "plt.plot(x,y, 'o')\n",
    "plt.plot(x,y_pred, 'r-')\n",
    "plt.grid()\n",
    "plt.title('steepest gradient : {0}'.format(loss(w_gd)))\n",
    "\n",
    "plt.subplot(133)\n",
    "y_pred = w_nt[0] * x ** 2 + w_nt[1] * x + w_nt[2]\n",
    "plt.plot(x,y, 'o')\n",
    "plt.plot(x,y_pred, 'r-')\n",
    "plt.grid()\n",
    "plt.title('Newton Method : {0}'.format(loss(w_nt)))\n",
    "plt.show()"
   ]
  },
  {
   "cell_type": "code",
   "execution_count": null,
   "metadata": {},
   "outputs": [],
   "source": []
  }
 ],
 "metadata": {
  "kernelspec": {
   "display_name": "Python 3",
   "language": "python",
   "name": "python3"
  },
  "language_info": {
   "codemirror_mode": {
    "name": "ipython",
    "version": 3
   },
   "file_extension": ".py",
   "mimetype": "text/x-python",
   "name": "python",
   "nbconvert_exporter": "python",
   "pygments_lexer": "ipython3",
   "version": "3.6.4"
  }
 },
 "nbformat": 4,
 "nbformat_minor": 2
}
