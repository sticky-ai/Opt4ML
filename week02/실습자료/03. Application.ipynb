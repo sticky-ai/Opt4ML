{
 "cells": [
  {
   "cell_type": "code",
   "execution_count": null,
   "metadata": {},
   "outputs": [],
   "source": [
    "import numpy as np\n",
    "import matplotlib.pylab as plt\n",
    "from scipy.optimize import minimize\n",
    "%matplotlib inline\n",
    "%config InlineBackend.figure_format = 'retina'"
   ]
  },
  {
   "cell_type": "markdown",
   "metadata": {},
   "source": [
    "\\begin{equation}\n",
    "\\min_{x,y} (2x + y - 2)^2\n",
    "\\end{equation}"
   ]
  },
  {
   "cell_type": "code",
   "execution_count": null,
   "metadata": {},
   "outputs": [],
   "source": [
    "f = lambda x: (2 * x[0] + x[1] - 2)**2\n",
    "x0 = [0,0]\n",
    "res = minimize(f, x0)\n",
    "x,y = res.x[0], res.x[1]\n",
    "print(x,y, res.fun)"
   ]
  },
  {
   "cell_type": "markdown",
   "metadata": {},
   "source": [
    "\\begin{equation}\n",
    "\\min_{x,y} (2x + y - 2)^2 + (3x + y - 4)^2\n",
    "\\end{equation}"
   ]
  },
  {
   "cell_type": "code",
   "execution_count": null,
   "metadata": {},
   "outputs": [],
   "source": [
    "f = lambda x: (2 * x[0] + x[1] - 2)**2 + (3 * x[0] + x[1] - 4)**2\n",
    "x0 = [0,0]\n",
    "res = minimize(f, x0)\n",
    "x,y = res.x[0], res.x[1]\n",
    "print(x,y, res.fun)"
   ]
  },
  {
   "cell_type": "markdown",
   "metadata": {},
   "source": [
    "\\begin{equation}\n",
    "\\min_{x,y} (2x + y - 2)^2 + (3x + y - 4)^2 + (x + y + 1)^2\n",
    "\\end{equation}"
   ]
  },
  {
   "cell_type": "code",
   "execution_count": null,
   "metadata": {},
   "outputs": [],
   "source": [
    "f = lambda x: (2 * x[0] + x[1] - 2)**2 + (3 * x[0] + x[1] - 4)**2 + (x[0] + x[1] +1)**2\n",
    "x0 = [0,0]\n",
    "res = minimize(f, x0)\n",
    "x,y = res.x[0], res.x[1]\n",
    "print(x,y, res.fun)"
   ]
  },
  {
   "cell_type": "markdown",
   "metadata": {},
   "source": [
    "\\begin{equation}\n",
    "\\min_{x_1,x_2} (2x_1 + x_2 - 2)^2 + (3x_1 + x_2 - 4)^2 + (x_1 + x_2 + 1)^2\n",
    "\\end{equation}"
   ]
  },
  {
   "cell_type": "markdown",
   "metadata": {},
   "source": [
    "\\begin{equation}\n",
    "\\min_{w_1,w_0} (2w_1 + w_0 - 2)^2 + (4w_1 + w_0 - 4)^2 + (w_1 + w_0 + 1)^2\n",
    "\\end{equation}"
   ]
  },
  {
   "cell_type": "code",
   "execution_count": null,
   "metadata": {},
   "outputs": [],
   "source": [
    "x = [2, 3, 1, -1]\n",
    "y = [2, 4, -1, -3]\n",
    "plt.plot(x, y, 'o')\n",
    "plt.grid()\n",
    "plt.show()"
   ]
  },
  {
   "cell_type": "markdown",
   "metadata": {},
   "source": [
    "\\begin{equation}\n",
    "\\min_{w_1,w_0} \\sum_{i=1}^3(x_iw_1 + w_0 - y_i)^2\n",
    "\\end{equation}"
   ]
  },
  {
   "cell_type": "markdown",
   "metadata": {},
   "source": [
    "\\begin{equation}\n",
    "\\min_{w_1,w_0} \\sum_{i=1}^N(x_iw_1 + w_0 - y_i)^2\n",
    "\\end{equation}"
   ]
  },
  {
   "cell_type": "code",
   "execution_count": null,
   "metadata": {},
   "outputs": [],
   "source": []
  }
 ],
 "metadata": {
  "kernelspec": {
   "display_name": "Python 3",
   "language": "python",
   "name": "python3"
  },
  "language_info": {
   "codemirror_mode": {
    "name": "ipython",
    "version": 3
   },
   "file_extension": ".py",
   "mimetype": "text/x-python",
   "name": "python",
   "nbconvert_exporter": "python",
   "pygments_lexer": "ipython3",
   "version": "3.6.4"
  }
 },
 "nbformat": 4,
 "nbformat_minor": 2
}
