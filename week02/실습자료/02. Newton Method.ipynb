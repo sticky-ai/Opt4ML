{
 "cells": [
  {
   "cell_type": "code",
   "execution_count": null,
   "metadata": {},
   "outputs": [],
   "source": [
    "import numpy as np\n",
    "import matplotlib.pyplot as plt\n",
    "%matplotlib inline\n",
    "%config InlineBackend.figure_format = 'retina'"
   ]
  },
  {
   "cell_type": "markdown",
   "metadata": {},
   "source": [
    "## Example 1\n",
    "\\begin{equation}\n",
    "f(x) = x^2 - 4x + 6\n",
    "\\end{equation}"
   ]
  },
  {
   "cell_type": "code",
   "execution_count": null,
   "metadata": {},
   "outputs": [],
   "source": [
    "def f(x):\n",
    "    return x**2 - 4*x + 6\n",
    "\n",
    "# f = lambda x: x**2 - 4*x + 6"
   ]
  },
  {
   "cell_type": "code",
   "execution_count": null,
   "metadata": {},
   "outputs": [],
   "source": [
    "NumberOfPoints = 101\n",
    "x = np.linspace(-5., 5, NumberOfPoints)"
   ]
  },
  {
   "cell_type": "code",
   "execution_count": null,
   "metadata": {},
   "outputs": [],
   "source": [
    "fx = f(x)"
   ]
  },
  {
   "cell_type": "code",
   "execution_count": null,
   "metadata": {},
   "outputs": [],
   "source": [
    "plt.plot(x,fx)\n",
    "plt.grid()\n",
    "plt.xlabel('x')\n",
    "plt.ylabel('f(x)')\n",
    "plt.title('plot of f(x)')\n",
    "plt.show()"
   ]
  },
  {
   "cell_type": "markdown",
   "metadata": {},
   "source": [
    "## Newton  Method"
   ]
  },
  {
   "cell_type": "markdown",
   "metadata": {},
   "source": [
    "With initial $x^{(0)}$, calculate the following equation :\n",
    "\\begin{equation}\n",
    "x^{(k+1)} = x^{(k)} - \\alpha \\nabla^2 f(x^{(k)})^{-1}\\nabla f(x^{(k)})\n",
    "\\end{equation}"
   ]
  },
  {
   "cell_type": "markdown",
   "metadata": {},
   "source": [
    "### TODO 1\n",
    "\n",
    "$f(x) = x^2 - 4x + 6$의 Hessian function을 `hess_f`에 구현해보세요."
   ]
  },
  {
   "cell_type": "code",
   "execution_count": null,
   "metadata": {},
   "outputs": [],
   "source": [
    "def grad_fx(x):\n",
    "    return 2*x - 4\n",
    "def hess_f(x):\n",
    "    # TODO 1\n",
    "    return None"
   ]
  },
  {
   "cell_type": "markdown",
   "metadata": {},
   "source": [
    "### TODO 2\n",
    "\n",
    "다음을 식을 이용하여, `x1`을 구하는 코드를 작성하세요.\n",
    "\n",
    "\\begin{equation}\n",
    "x^{(k+1)} = x^{(k)} - \\alpha \\nabla^2 f(x^{(k)})^{-1}\\nabla f(x^{(k)})\n",
    "\\end{equation}"
   ]
  },
  {
   "cell_type": "code",
   "execution_count": null,
   "metadata": {},
   "outputs": [],
   "source": [
    "x0 = 0.\n",
    "MaxIter = 10\n",
    "for i in range(MaxIter):\n",
    "    # TODO 2\n",
    "    x1 = None\n",
    "    print(i, x0, f(x0))\n",
    "    x0 = x1"
   ]
  },
  {
   "cell_type": "code",
   "execution_count": null,
   "metadata": {},
   "outputs": [],
   "source": [
    "def newton_descent(func, grad_func, hess_fun, x0, learning_rate=1, MaxIter=10, verbose=True):\n",
    "    paths = []\n",
    "    for i in range(MaxIter):\n",
    "        x1 = x0 - learning_rate * grad_func(x0) / hess_fun(x0)\n",
    "        if verbose:\n",
    "            print('{0:03d} : {1:4.3f}, {2:4.2E}'.format(i, x0, func(x0)))\n",
    "        x0 = x1\n",
    "        paths.append(x0)\n",
    "    return(x0, func(x0), paths)"
   ]
  },
  {
   "cell_type": "code",
   "execution_count": null,
   "metadata": {},
   "outputs": [],
   "source": [
    "xopt, fopt, paths = newton_descent(f, grad_fx, hess_f, 0.0)"
   ]
  },
  {
   "cell_type": "code",
   "execution_count": null,
   "metadata": {},
   "outputs": [],
   "source": [
    "x = np.linspace(0.5, 2.5, 1000)\n",
    "paths = np.array(paths)\n",
    "plt.plot(x,f(x))\n",
    "plt.grid()\n",
    "plt.xlabel('x')\n",
    "plt.ylabel('f(x)')\n",
    "plt.title('plot of f(x)')\n",
    "\n",
    "plt.plot(paths, f(paths), 'o-')\n",
    "plt.show()"
   ]
  },
  {
   "cell_type": "code",
   "execution_count": null,
   "metadata": {},
   "outputs": [],
   "source": [
    "plt.plot(f(paths), 'o-')\n",
    "plt.grid()\n",
    "plt.xlabel('x')\n",
    "plt.ylabel('cost')\n",
    "plt.title('plot of cost')\n",
    "plt.show()"
   ]
  },
  {
   "cell_type": "code",
   "execution_count": null,
   "metadata": {},
   "outputs": [],
   "source": [
    "from scipy.optimize import minimize\n",
    "f = lambda x: x**2 - 4*x + 6\n",
    "x0 = 0.\n",
    "minimize(f, x0)"
   ]
  },
  {
   "cell_type": "code",
   "execution_count": null,
   "metadata": {},
   "outputs": [],
   "source": [
    "res = minimize(f, x0)\n",
    "print(res.x, res.fun)"
   ]
  },
  {
   "cell_type": "markdown",
   "metadata": {},
   "source": [
    "## (Additional) non-convex function\n",
    "\\begin{equation}\n",
    "\\min_x x \\sin(x)\n",
    "\\end{equation}\n",
    "1. Define $f(x)$ : loss function\n",
    "1. Define $\\nabla f(x)$ : gradient of $f$\n",
    "1. Define $\\nabla^2 f(x)$ known as Hessian Matrix of $f$\n",
    "1. Tune parameters : `learning_rate, x0, MaxIter`"
   ]
  },
  {
   "cell_type": "markdown",
   "metadata": {},
   "source": [
    "### TODO 3\n",
    "\n",
    "$f(x) = x\\sin(x)$의 Hessian function을 `hess_f`에 구현해보세요."
   ]
  },
  {
   "cell_type": "code",
   "execution_count": null,
   "metadata": {},
   "outputs": [],
   "source": [
    "x = np.linspace(-2, 8, 501)\n",
    "f = lambda x : x * np.sin(x)\n",
    "grad_f = lambda x: np.sin(x) + x * np.cos(x)\n",
    "# TODO 3\n",
    "hess_f = lambda x: None"
   ]
  },
  {
   "cell_type": "code",
   "execution_count": null,
   "metadata": {},
   "outputs": [],
   "source": [
    "fx = f(x)\n",
    "plt.plot(x, fx)\n",
    "plt.grid()\n",
    "plt.show()"
   ]
  },
  {
   "cell_type": "code",
   "execution_count": null,
   "metadata": {},
   "outputs": [],
   "source": [
    "# x0 = 5.7\n",
    "# MaxIter = 10\n",
    "# learning_rate = 1.0\n",
    "x0 = 5.0\n",
    "MaxIter = 1000\n",
    "learning_rate = 0.00250\n",
    "# x0 = -0.2\n",
    "# MaxIter = 50\n",
    "# learning_rate = 0.1250\n",
    "\n",
    "xopt, fopt, paths = newton_descent(f, grad_fx, hess_f, x0, \n",
    "                                   MaxIter=MaxIter, learning_rate=learning_rate, verbose=False)\n",
    "\n",
    "plt.plot(x,f(x))\n",
    "plt.grid()\n",
    "plt.xlabel('x')\n",
    "plt.ylabel('f(x)')\n",
    "plt.title('plot of f(x)')\n",
    "\n",
    "plt.plot(paths, f(paths), 'o-')\n",
    "plt.show()\n",
    "plt.plot(f(paths))\n",
    "plt.grid()\n",
    "plt.xlabel('x')\n",
    "plt.ylabel('cost')\n",
    "plt.title('plot of cost')\n",
    "plt.show()"
   ]
  },
  {
   "cell_type": "markdown",
   "metadata": {},
   "source": [
    "## Example 02\n",
    "\\begin{equation}\n",
    "f(x, y) = (x-2)^2 + (y-2)^2\n",
    "\\end{equation}"
   ]
  },
  {
   "cell_type": "markdown",
   "metadata": {},
   "source": [
    "Contour"
   ]
  },
  {
   "cell_type": "code",
   "execution_count": null,
   "metadata": {},
   "outputs": [],
   "source": [
    "xmin, xmax, xstep = -4.0, 4.0, .25\n",
    "ymin, ymax, ystep = -4.0, 4.0, .25"
   ]
  },
  {
   "cell_type": "code",
   "execution_count": null,
   "metadata": {},
   "outputs": [],
   "source": [
    "x, y = np.meshgrid(np.arange(xmin, xmax + xstep, xstep), np.arange(ymin, ymax + ystep, ystep))"
   ]
  },
  {
   "cell_type": "code",
   "execution_count": null,
   "metadata": {},
   "outputs": [],
   "source": [
    "f = lambda x,y : (x-2)**2 + (y-2)**2"
   ]
  },
  {
   "cell_type": "code",
   "execution_count": null,
   "metadata": {},
   "outputs": [],
   "source": [
    "z = f(x, y)"
   ]
  },
  {
   "cell_type": "code",
   "execution_count": null,
   "metadata": {},
   "outputs": [],
   "source": [
    "minima = np.array([2., 2.])"
   ]
  },
  {
   "cell_type": "code",
   "execution_count": null,
   "metadata": {},
   "outputs": [],
   "source": [
    "f(*minima)"
   ]
  },
  {
   "cell_type": "code",
   "execution_count": null,
   "metadata": {},
   "outputs": [],
   "source": [
    "minima_ = minima.reshape(-1, 1)"
   ]
  },
  {
   "cell_type": "code",
   "execution_count": null,
   "metadata": {},
   "outputs": [],
   "source": [
    "from visualize import surf"
   ]
  },
  {
   "cell_type": "code",
   "execution_count": null,
   "metadata": {},
   "outputs": [],
   "source": [
    "surf(f, x, y, minima=minima_)"
   ]
  },
  {
   "cell_type": "code",
   "execution_count": null,
   "metadata": {},
   "outputs": [],
   "source": [
    "from visualize import contour_with_quiver"
   ]
  },
  {
   "cell_type": "code",
   "execution_count": null,
   "metadata": {},
   "outputs": [],
   "source": [
    "grad_f_x = lambda x, y: 2 * (x-2)\n",
    "grad_f_y = lambda x, y: 2 * (y-2)"
   ]
  },
  {
   "cell_type": "code",
   "execution_count": null,
   "metadata": {},
   "outputs": [],
   "source": [
    "hessian_f = lambda x, y: np.array([[2.0, 0.0],[0.0, 2.0]])"
   ]
  },
  {
   "cell_type": "markdown",
   "metadata": {},
   "source": [
    "### TODO 4\n",
    "\n",
    "다음을 식을 이용하여, `x1`을 구하는 코드를 작성하세요.\n",
    "\n",
    "\\begin{equation}\n",
    "x^{(k+1)} = x^{(k)} - \\alpha \\nabla^2 f(x^{(k)})^{-1}\\nabla f(x^{(k)})\n",
    "\\end{equation}"
   ]
  },
  {
   "cell_type": "code",
   "execution_count": null,
   "metadata": {},
   "outputs": [],
   "source": [
    "x0 = np.array([-2., -2.])\n",
    "MaxIter = 10\n",
    "learning_rate = 1\n",
    "for i in range(MaxIter):\n",
    "    grad = np.array([grad_f_x(*x0), grad_f_y(*x0)])\n",
    "    hess = hessian_f(*x0)\n",
    "    # TODO 4\n",
    "    x1 = None\n",
    "    fval = f(*x0)\n",
    "    print(i, x0, fval)\n",
    "    x0 = x1"
   ]
  },
  {
   "cell_type": "code",
   "execution_count": null,
   "metadata": {},
   "outputs": [],
   "source": [
    "def newton_descent_2d(func, gradx, grady, hessian, x0, MaxIter=10, learning_rate=1, verbose=True):\n",
    "    paths = [x0]\n",
    "    fval_paths = [f(x0[0], x0[1])]\n",
    "    for i in range(MaxIter):\n",
    "        grad = np.array([grad_f_x(*x0), grad_f_y(*x0)])\n",
    "        hess = hessian(*x0)\n",
    "        x1 = x0 - learning_rate * np.linalg.solve(hess, grad)\n",
    "        fval = f(*x0)\n",
    "        if verbose:\n",
    "            print(i, x0, fval)\n",
    "        x0 = x1\n",
    "        paths.append(x0)\n",
    "        fval_paths.append(fval)\n",
    "    paths = np.array(paths)\n",
    "    paths = np.array(np.matrix(paths).T)\n",
    "    fval_paths = np.array(fval_paths)\n",
    "    return(x0, fval, paths, fval_paths)"
   ]
  },
  {
   "cell_type": "code",
   "execution_count": null,
   "metadata": {},
   "outputs": [],
   "source": [
    "x0 = np.array([-2., -2.])\n",
    "xopt, fopt, paths, fval_paths = newton_descent_2d(f, grad_f_x, grad_f_y, hessian_f, x0)"
   ]
  },
  {
   "cell_type": "code",
   "execution_count": null,
   "metadata": {},
   "outputs": [],
   "source": [
    "from visualize import contour_with_path"
   ]
  },
  {
   "cell_type": "code",
   "execution_count": null,
   "metadata": {},
   "outputs": [],
   "source": [
    "contour_with_path(f, x, y, paths, minima=np.array([[2],[2]]))"
   ]
  },
  {
   "cell_type": "markdown",
   "metadata": {},
   "source": [
    "## Example 03\n",
    "\\begin{equation}\n",
    "f(x, y) = 3(x-2)^2 + (y-2)^2\n",
    "\\end{equation}"
   ]
  },
  {
   "cell_type": "code",
   "execution_count": null,
   "metadata": {},
   "outputs": [],
   "source": [
    "f = lambda x,y : 3*(x-2)**2 + (y-2)**2"
   ]
  },
  {
   "cell_type": "markdown",
   "metadata": {},
   "source": [
    "### TODO 5\n",
    "\n",
    "$f(x, y) = 3(x-2)^2 + (y-2)^2$의 Hessian function을 `hessian_f`에 구현해보세요."
   ]
  },
  {
   "cell_type": "code",
   "execution_count": null,
   "metadata": {},
   "outputs": [],
   "source": [
    "grad_f_x = lambda x, y: 6 * (x-2)\n",
    "grad_f_y = lambda x, y: 2 * (y-2)\n",
    "\n",
    "# TODO 5\n",
    "hessian_f = None"
   ]
  },
  {
   "cell_type": "code",
   "execution_count": null,
   "metadata": {},
   "outputs": [],
   "source": [
    "xopt, fopt, paths, fval_paths = newton_descent_2d(f, grad_f_x, grad_f_y, hessian_f, x0)"
   ]
  },
  {
   "cell_type": "code",
   "execution_count": null,
   "metadata": {},
   "outputs": [],
   "source": [
    "contour_with_path(f, x, y, paths, minima=np.array([[2],[2]]))"
   ]
  },
  {
   "cell_type": "markdown",
   "metadata": {
    "collapsed": true
   },
   "source": [
    "### Steepest Descent vs. Newton Method"
   ]
  },
  {
   "cell_type": "code",
   "execution_count": null,
   "metadata": {},
   "outputs": [],
   "source": [
    "from numerical_optimizers import steepest_descent_2d\n",
    "x0 = np.array([-3., -3.])\n",
    "learning_rate = 1\n",
    "xopt, fopt, paths, fval_paths = steepest_descent_2d(f, grad_f_x, grad_f_y, x0, \n",
    "                                                    learning_rate=learning_rate)\n",
    "contour_with_path(f, x, y, paths, minima=np.array([[2],[2]]))"
   ]
  },
  {
   "cell_type": "code",
   "execution_count": null,
   "metadata": {},
   "outputs": [],
   "source": [
    "from numerical_optimizers import steepest_descent_2d\n",
    "x0 = np.array([-3., -3.])\n",
    "learning_rate = 0.25\n",
    "xopt, fopt, paths, fval_paths = steepest_descent_2d(f, grad_f_x, grad_f_y, x0, \n",
    "                                                    learning_rate=learning_rate)\n",
    "contour_with_path(f, x, y, paths, minima=np.array([[2],[2]]))"
   ]
  },
  {
   "cell_type": "code",
   "execution_count": null,
   "metadata": {},
   "outputs": [],
   "source": [
    "x0 = np.array([-2., -3.])\n",
    "learning_rate = 1.0\n",
    "xopt, fopt, paths, fval_paths = newton_descent_2d(f, grad_f_x, grad_f_y, hessian_f, x0,\n",
    "                                                 learning_rate=learning_rate)\n",
    "contour_with_path(f, x, y, paths, minima=np.array([[2],[2]]))"
   ]
  },
  {
   "cell_type": "code",
   "execution_count": null,
   "metadata": {},
   "outputs": [],
   "source": [
    "x0 = np.array([-2., -3.])\n",
    "learning_rate = 0.5\n",
    "xopt, fopt, paths, fval_paths = newton_descent_2d(f, grad_f_x, grad_f_y, hessian_f, x0,\n",
    "                                                 learning_rate=learning_rate)\n",
    "contour_with_path(f, x, y, paths, minima=np.array([[2],[2]]))"
   ]
  }
 ],
 "metadata": {
  "kernelspec": {
   "display_name": "Python 3",
   "language": "python",
   "name": "python3"
  },
  "language_info": {
   "codemirror_mode": {
    "name": "ipython",
    "version": 3
   },
   "file_extension": ".py",
   "mimetype": "text/x-python",
   "name": "python",
   "nbconvert_exporter": "python",
   "pygments_lexer": "ipython3",
   "version": "3.5.6"
  }
 },
 "nbformat": 4,
 "nbformat_minor": 2
}
