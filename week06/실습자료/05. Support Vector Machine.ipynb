{
 "cells": [
  {
   "cell_type": "code",
   "execution_count": null,
   "metadata": {},
   "outputs": [],
   "source": [
    "from sklearn import svm, datasets\n",
    "import numpy as np\n",
    "import matplotlib.pylab as plt\n",
    "%matplotlib inline\n",
    "%config InlineBackend.figure_format = 'retina'"
   ]
  },
  {
   "cell_type": "code",
   "execution_count": null,
   "metadata": {},
   "outputs": [],
   "source": [
    "def make_meshgrid(x, y, h=.005):\n",
    "    \"\"\"Create a mesh of points to plot in\n",
    "\n",
    "    Parameters\n",
    "    ----------\n",
    "    x: data to base x-axis meshgrid on\n",
    "    y: data to base y-axis meshgrid on\n",
    "    h: stepsize for meshgrid, optional\n",
    "\n",
    "    Returns\n",
    "    -------\n",
    "    xx, yy : ndarray\n",
    "    \"\"\"\n",
    "    x_min, x_max = x.min() - .1, x.max() + .1\n",
    "    y_min, y_max = y.min() - .1, y.max() + .1\n",
    "    xx, yy = np.meshgrid(np.arange(x_min, x_max, h),\n",
    "                         np.arange(y_min, y_max, h))\n",
    "    return xx, yy\n",
    "\n",
    "def plot_contours(clf, xx, yy, **params):\n",
    "    \"\"\"Plot the decision boundaries for a classifier.\n",
    "\n",
    "    Parameters\n",
    "    ----------\n",
    "    clf: a classifier\n",
    "    xx: meshgrid ndarray\n",
    "    yy: meshgrid ndarray\n",
    "    params: dictionary of params to pass to contourf, optional\n",
    "    \"\"\"\n",
    "    Z = clf.predict(np.c_[xx.ravel(), yy.ravel()])\n",
    "    Z = Z.reshape(xx.shape)\n",
    "    out = plt.contourf(xx, yy, Z, **params)\n",
    "    return out"
   ]
  },
  {
   "cell_type": "code",
   "execution_count": null,
   "metadata": {},
   "outputs": [],
   "source": [
    "np.random.seed(2018402)\n",
    "xy = np.random.rand(30,2)\n",
    "labels = np.zeros((len(xy)))\n",
    "labels[-4./5. +  3./4. * xy[:,0] + 1.0 * xy[:,1] > 0] = 1"
   ]
  },
  {
   "cell_type": "markdown",
   "metadata": {},
   "source": [
    "## Support Vector Machine Formulation\n",
    "\n",
    "Notice that $\\zeta_i$ is slack variable.\n",
    "\n",
    "$$\n",
    "\\min_{w,b,\\zeta} \\frac{1}{2}||w|| + C\\sum_{i-1}^n \\zeta_i\n",
    "$$\n",
    "subject to\n",
    "\\begin{align}\n",
    "y_i(w\\cdot \\phi(x_i) + b) &\\geq 1 - \\zeta_i\\\\\n",
    "\\zeta_i &\\geq 0\n",
    "\\end{align} for $i=1,2,\\cdots, n$."
   ]
  },
  {
   "cell_type": "code",
   "execution_count": null,
   "metadata": {},
   "outputs": [],
   "source": [
    "plt.figure(figsize=(16, 8))\n",
    "for k, C in enumerate([10000, 1000, 100, 50, 10, 1],1):\n",
    "    plt.subplot(3,2,k)\n",
    "    model = svm.SVC(kernel='linear', C=C)\n",
    "    model.fit(xy, labels)\n",
    "    X0, X1 = xy[:,0], xy[:,1]\n",
    "    xx, yy = make_meshgrid(X0, X1)\n",
    "    plot_contours(model, xx, yy,cmap='coolwarm', alpha=0.8)\n",
    "    plt.scatter(X0, X1, c = labels, cmap='coolwarm', edgecolors='k')\n",
    "    plt.title('C = {0}'.format(C))\n",
    "    plt.axis('off')\n",
    "plt.show()"
   ]
  },
  {
   "cell_type": "code",
   "execution_count": null,
   "metadata": {},
   "outputs": [],
   "source": []
  }
 ],
 "metadata": {
  "kernelspec": {
   "display_name": "Python 3",
   "language": "python",
   "name": "python3"
  },
  "language_info": {
   "codemirror_mode": {
    "name": "ipython",
    "version": 3
   },
   "file_extension": ".py",
   "mimetype": "text/x-python",
   "name": "python",
   "nbconvert_exporter": "python",
   "pygments_lexer": "ipython3",
   "version": "3.5.5"
  }
 },
 "nbformat": 4,
 "nbformat_minor": 2
}
