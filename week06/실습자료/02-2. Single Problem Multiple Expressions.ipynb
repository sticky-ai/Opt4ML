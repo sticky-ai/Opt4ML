{
 "cells": [
  {
   "cell_type": "code",
   "execution_count": null,
   "metadata": {},
   "outputs": [],
   "source": [
    "import numpy as np\n",
    "import tensorflow as tf\n",
    "import matplotlib.pylab as plt\n",
    "%matplotlib inline\n",
    "%config InlineBackend.figure_format = 'retina'"
   ]
  },
  {
   "cell_type": "code",
   "execution_count": null,
   "metadata": {},
   "outputs": [],
   "source": [
    "def plot_scatter(W_, xy, labels):\n",
    "    for k, color in [(0, 'b'), (1, 'r')]:\n",
    "        idx = labels.flatten() == k\n",
    "        plt.scatter(xy[idx, 0], xy[idx, 1], c=color)\n",
    "\n",
    "    if W_ is not None:\n",
    "        x1 = np.linspace(-.1, 1.1)\n",
    "        x2 = -W_[1] / W_[2] * x1  - W_[0] / W_[2]\n",
    "        plt.plot(x1, x2, '--k')\n",
    "\n",
    "    plt.grid()\n",
    "    plt.show()"
   ]
  },
  {
   "cell_type": "code",
   "execution_count": null,
   "metadata": {},
   "outputs": [],
   "source": [
    "np.random.seed(402)\n",
    "xy = np.random.rand(30,2)\n",
    "labels = np.zeros((len(xy),1))\n",
    "labels[-4./5. +  3./4. * xy[:,0] + 1.0 * xy[:,1] > 0, 0] = 1"
   ]
  },
  {
   "cell_type": "code",
   "execution_count": null,
   "metadata": {},
   "outputs": [],
   "source": [
    "plot_scatter(None, xy, labels)"
   ]
  },
  {
   "cell_type": "markdown",
   "metadata": {},
   "source": [
    "## Sigmoid Without Bias"
   ]
  },
  {
   "cell_type": "code",
   "execution_count": null,
   "metadata": {},
   "outputs": [],
   "source": [
    "features1 = np.array([[1.0, xval, yval] for xval, yval in xy])\n",
    "\n",
    "x = tf.placeholder(tf.float32, shape=(None, 3))\n",
    "y = tf.placeholder(tf.float32, shape=(None, 1))\n",
    "\n",
    "W = tf.Variable(tf.ones([3, 1]), dtype=tf.float32)\n",
    "\n",
    "model = tf.nn.sigmoid(tf.matmul(x, W))\n",
    "\n",
    "loss = tf.reduce_mean(- y * tf.log(model) - (1 - y) * tf.log(1-model))"
   ]
  },
  {
   "cell_type": "code",
   "execution_count": null,
   "metadata": {},
   "outputs": [],
   "source": [
    "lr = 0.1\n",
    "MaxEpochs= 201\n",
    "optimizer = tf.train.AdamOptimizer(lr)\n",
    "train = optimizer.minimize(loss)\n",
    "\n",
    "from helper import generate_batches\n",
    "np.random.seed(702)\n",
    "idx = np.arange(0, len(features1))\n",
    "np.random.shuffle(idx)\n",
    "shuffled_features = features1[idx]\n",
    "shuffled_labels = labels[idx]\n",
    "\n",
    "batch_size = 5\n",
    "init = tf.global_variables_initializer()\n",
    "with tf.Session() as sess:\n",
    "    sess.run(init)\n",
    "    out = sess.run([model, loss], feed_dict={x: shuffled_features, y: shuffled_labels})\n",
    "    for epoch in range(MaxEpochs):\n",
    "        if epoch % 50 == 0 :\n",
    "            curr_W, curr_loss = sess.run([W, loss], feed_dict={x: shuffled_features, y: shuffled_labels})\n",
    "            print(epoch, curr_W.flatten(), curr_loss)\n",
    "        for x_batch, y_batch in generate_batches(batch_size, shuffled_features, shuffled_labels):\n",
    "            sess.run(train, feed_dict={x: x_batch, y: y_batch})\n",
    "\n",
    "    curr_W = sess.run(W)\n",
    "W_sgd = curr_W.flatten()"
   ]
  },
  {
   "cell_type": "code",
   "execution_count": null,
   "metadata": {},
   "outputs": [],
   "source": [
    "plot_scatter(W_sgd, xy, labels)"
   ]
  },
  {
   "cell_type": "markdown",
   "metadata": {},
   "source": [
    "## Sigmoid With Bias"
   ]
  },
  {
   "cell_type": "code",
   "execution_count": null,
   "metadata": {},
   "outputs": [],
   "source": [
    "features2 = np.array([[xval, yval] for xval, yval in xy])\n",
    "\n",
    "x = tf.placeholder(tf.float32, shape=(None, 2))\n",
    "y = tf.placeholder(tf.float32, shape=(None, 1))\n",
    "\n",
    "W = tf.Variable(tf.ones([2, 1]), dtype=tf.float32)\n",
    "b = tf.Variable(tf.ones([1]), dtype=tf.float32)\n",
    "\n",
    "model = tf.nn.sigmoid(tf.matmul(x, W) + b)\n",
    "\n",
    "loss = tf.reduce_mean(- y * tf.log(model) - (1 - y) * tf.log(1-model))"
   ]
  },
  {
   "cell_type": "code",
   "execution_count": null,
   "metadata": {},
   "outputs": [],
   "source": [
    "lr = 0.1\n",
    "MaxEpochs= 201\n",
    "optimizer = tf.train.AdamOptimizer(lr)\n",
    "train = optimizer.minimize(loss)\n",
    "\n",
    "from helper import generate_batches\n",
    "np.random.seed(702)\n",
    "idx = np.arange(0, len(features2))\n",
    "np.random.shuffle(idx)\n",
    "shuffled_features = features2[idx]\n",
    "shuffled_labels = labels[idx]\n",
    "\n",
    "batch_size = 5\n",
    "init = tf.global_variables_initializer()\n",
    "with tf.Session() as sess:\n",
    "    sess.run(init)\n",
    "    out = sess.run([model, loss], feed_dict={x: shuffled_features, y: shuffled_labels})\n",
    "    for epoch in range(MaxEpochs):\n",
    "        if epoch % 50 == 0 :\n",
    "            curr_b, curr_W, curr_loss = sess.run([b, W, loss], feed_dict={x: shuffled_features, y: shuffled_labels})\n",
    "            print(epoch, curr_b.flatten(), curr_W.flatten(), curr_loss)\n",
    "        for x_batch, y_batch in generate_batches(batch_size, shuffled_features, shuffled_labels):\n",
    "            sess.run(train, feed_dict={x: x_batch, y: y_batch})\n",
    "\n",
    "    curr_b, curr_W = sess.run([b, W])\n",
    "W_sgd = curr_W.flatten()\n",
    "b_sgd = curr_b.flatten()"
   ]
  },
  {
   "cell_type": "code",
   "execution_count": null,
   "metadata": {},
   "outputs": [],
   "source": [
    "plot_scatter(np.append(b_sgd, W_sgd), xy, labels)"
   ]
  },
  {
   "cell_type": "markdown",
   "metadata": {},
   "source": [
    "# Cross Entropy with Softmax"
   ]
  },
  {
   "cell_type": "code",
   "execution_count": null,
   "metadata": {},
   "outputs": [],
   "source": [
    "np.random.seed(402)\n",
    "xy = np.random.rand(30,2)\n",
    "labels = np.zeros((len(xy),2))\n",
    "labels[-4./5. +  3./4. * xy[:,0] + 1.0 * xy[:,1] > 0, 0] = 1.\n",
    "labels[-4./5. +  3./4. * xy[:,0] + 1.0 * xy[:,1] <= 0, 1] = 1.\n",
    "# Notice one-hot encoding\n",
    "labels[:10]"
   ]
  },
  {
   "cell_type": "code",
   "execution_count": null,
   "metadata": {},
   "outputs": [],
   "source": [
    "def plot_scatter_softmax(curr_W, curr_b, xy, labels):\n",
    "    x1 = np.linspace(-0.1, 1.1)\n",
    "    X, Y = np.meshgrid(x1,x1)\n",
    "    print(curr_W)\n",
    "    Z1 = X * curr_W[0,0] + Y * curr_W[1,0] + curr_b[0]\n",
    "    Z2 = X * curr_W[0,1] + Y * curr_W[1,1] + curr_b[1]\n",
    "    Z = np.exp(Z2) / (np.exp(Z1) + np.exp(Z2))\n",
    "\n",
    "    plt.figure(figsize=(5,5))\n",
    "    cs = plt.contourf(X, Y, Z, np.linspace(0, 1, 11), cmap='coolwarm')\n",
    "    plt.clabel(cs, colors='k')\n",
    "    for k, color in [(0, 'b'), (1, 'r')]:\n",
    "        idx = labels[:, k] == 1\n",
    "        plt.scatter(xy[idx, 0], xy[idx, 1], c=color, edgecolors='k')\n",
    "    plt.xlim([-0.1, 1.1])\n",
    "    plt.ylim([-0.1, 1.1])\n",
    "    plt.show()"
   ]
  },
  {
   "cell_type": "markdown",
   "metadata": {},
   "source": [
    "## Cross Entropy with Softmax without logits"
   ]
  },
  {
   "cell_type": "code",
   "execution_count": null,
   "metadata": {},
   "outputs": [],
   "source": [
    "features = np.array([[xval, yval] for xval, yval in xy])\n",
    "\n",
    "x = tf.placeholder(tf.float32, shape=(None, 2))\n",
    "y = tf.placeholder(tf.float32, shape=(None, 2))\n",
    "\n",
    "W = tf.Variable(tf.ones([2, 2]), dtype=tf.float32)\n",
    "b = tf.Variable(tf.ones([2]), dtype=tf.float32)\n",
    "\n",
    "model = tf.nn.softmax(tf.matmul(x, W) + b)\n",
    "\n",
    "loss = tf.reduce_mean(tf.reduce_sum(-y * tf.log(model), 1))"
   ]
  },
  {
   "cell_type": "code",
   "execution_count": null,
   "metadata": {},
   "outputs": [],
   "source": [
    "lr = 1.0\n",
    "MaxEpochs= 201\n",
    "optimizer = tf.train.AdamOptimizer(lr)\n",
    "train = optimizer.minimize(loss)\n",
    "\n",
    "from helper import generate_batches\n",
    "np.random.seed(702)\n",
    "idx = np.arange(0, len(features))\n",
    "np.random.shuffle(idx)\n",
    "shuffled_features = features[idx]\n",
    "shuffled_labels = labels[idx]\n",
    "\n",
    "batch_size = 5\n",
    "init = tf.global_variables_initializer()\n",
    "with tf.Session() as sess:\n",
    "    sess.run(init)\n",
    "    out = sess.run([model, loss], feed_dict={x: shuffled_features, y: shuffled_labels})\n",
    "    for epoch in range(MaxEpochs):\n",
    "        if epoch % 50 == 0 :\n",
    "            curr_b, curr_W, curr_loss = sess.run([b, W, loss], feed_dict={x: shuffled_features, y: shuffled_labels})\n",
    "            print(epoch, curr_b.flatten(), curr_W.flatten(), curr_loss)\n",
    "        \n",
    "        for x_batch, y_batch in generate_batches(batch_size, shuffled_features, shuffled_labels):\n",
    "            sess.run(train, feed_dict={x: x_batch, y: y_batch})\n",
    "\n",
    "    curr_b, curr_W = sess.run([b, W])\n",
    "W_sgd = curr_W\n",
    "b_sgd = curr_b"
   ]
  },
  {
   "cell_type": "code",
   "execution_count": null,
   "metadata": {},
   "outputs": [],
   "source": [
    "plot_scatter_softmax(W_sgd, b_sgd, xy, labels)"
   ]
  },
  {
   "cell_type": "markdown",
   "metadata": {},
   "source": [
    "## Cross Entropy with Softmax with logits"
   ]
  },
  {
   "cell_type": "code",
   "execution_count": null,
   "metadata": {},
   "outputs": [],
   "source": [
    "features = np.array([[xval, yval] for xval, yval in xy])\n",
    "\n",
    "x = tf.placeholder(tf.float32, shape=(None, 2))\n",
    "y = tf.placeholder(tf.float32, shape=(None, 2))\n",
    "\n",
    "W = tf.Variable(tf.ones([2, 2]), dtype=tf.float32)\n",
    "b = tf.Variable(tf.ones([2]), dtype=tf.float32)\n",
    "\n",
    "logits = tf.matmul(x, W) + b\n",
    "\n",
    "loss = tf.reduce_mean(tf.nn.softmax_cross_entropy_with_logits(labels=y, logits=logits))"
   ]
  },
  {
   "cell_type": "code",
   "execution_count": null,
   "metadata": {
    "scrolled": false
   },
   "outputs": [],
   "source": [
    "lr = 1.0\n",
    "MaxEpochs= 201\n",
    "optimizer = tf.train.AdamOptimizer(lr)\n",
    "train = optimizer.minimize(loss)\n",
    "\n",
    "from helper import generate_batches\n",
    "np.random.seed(702)\n",
    "idx = np.arange(0, len(features))\n",
    "np.random.shuffle(idx)\n",
    "shuffled_features = features[idx]\n",
    "shuffled_labels = labels[idx]\n",
    "\n",
    "batch_size = 5\n",
    "init = tf.global_variables_initializer()\n",
    "with tf.Session() as sess:\n",
    "    sess.run(init)    \n",
    "    for epoch in range(MaxEpochs):\n",
    "        if epoch % 50 == 0 :\n",
    "            curr_b, curr_W, curr_loss = sess.run([b, W, loss], feed_dict={x: shuffled_features, y: shuffled_labels})\n",
    "            print(epoch, curr_b.flatten(), curr_W.flatten(), curr_loss)\n",
    "        \n",
    "        for x_batch, y_batch in generate_batches(batch_size, shuffled_features, shuffled_labels):\n",
    "            sess.run(train, feed_dict={x: x_batch, y: y_batch})\n",
    "\n",
    "    curr_b, curr_W = sess.run([b, W])\n",
    "W_sgd = curr_W\n",
    "b_sgd = curr_b"
   ]
  },
  {
   "cell_type": "code",
   "execution_count": null,
   "metadata": {},
   "outputs": [],
   "source": [
    "plot_scatter_softmax(W_sgd, b_sgd, xy, labels)"
   ]
  },
  {
   "cell_type": "code",
   "execution_count": null,
   "metadata": {},
   "outputs": [],
   "source": []
  }
 ],
 "metadata": {
  "kernelspec": {
   "display_name": "Python 3",
   "language": "python",
   "name": "python3"
  },
  "language_info": {
   "codemirror_mode": {
    "name": "ipython",
    "version": 3
   },
   "file_extension": ".py",
   "mimetype": "text/x-python",
   "name": "python",
   "nbconvert_exporter": "python",
   "pygments_lexer": "ipython3",
   "version": "3.5.6"
  }
 },
 "nbformat": 4,
 "nbformat_minor": 2
}
