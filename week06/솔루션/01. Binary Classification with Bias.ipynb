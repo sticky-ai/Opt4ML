{
 "cells": [
  {
   "cell_type": "code",
   "execution_count": 1,
   "metadata": {},
   "outputs": [
    {
     "name": "stderr",
     "output_type": "stream",
     "text": [
      "/anaconda3/envs/fastcampus/lib/python3.5/importlib/_bootstrap.py:222: RuntimeWarning: numpy.dtype size changed, may indicate binary incompatibility. Expected 96, got 88\n",
      "  return f(*args, **kwds)\n",
      "/anaconda3/envs/fastcampus/lib/python3.5/importlib/_bootstrap.py:222: RuntimeWarning: numpy.dtype size changed, may indicate binary incompatibility. Expected 96, got 88\n",
      "  return f(*args, **kwds)\n"
     ]
    }
   ],
   "source": [
    "import numpy as np\n",
    "import tensorflow as tf\n",
    "import matplotlib.pylab as plt\n",
    "%matplotlib inline\n",
    "%config InlineBackend.figure_format = 'retina'"
   ]
  },
  {
   "cell_type": "code",
   "execution_count": 2,
   "metadata": {},
   "outputs": [],
   "source": [
    "def plot_scatter(W_, xy, labels):\n",
    "    for k, color in [(0, 'b'), (1, 'r')]:\n",
    "        idx = labels.flatten() == k\n",
    "        plt.scatter(xy[idx, 0], xy[idx, 1], c=color)\n",
    "\n",
    "    if W_ is not None:\n",
    "        x1 = np.linspace(-.1, 1.1)\n",
    "        x2 = -W_[1] / W_[2] * x1  - W_[0] / W_[2]\n",
    "        plt.plot(x1, x2, '--k')\n",
    "\n",
    "    plt.grid()\n",
    "    plt.show()"
   ]
  },
  {
   "cell_type": "markdown",
   "metadata": {},
   "source": [
    "## Data 생성하기"
   ]
  },
  {
   "cell_type": "code",
   "execution_count": 3,
   "metadata": {},
   "outputs": [],
   "source": [
    "np.random.seed(402)\n",
    "xy = np.random.rand(30,2)\n",
    "labels = np.zeros((len(xy),1))\n",
    "labels[-4./5. +  3./4. * xy[:,0] + 1.0 * xy[:,1] > 0, 0] = 1"
   ]
  },
  {
   "cell_type": "code",
   "execution_count": 4,
   "metadata": {},
   "outputs": [
    {
     "data": {
      "image/png": "[encoded data removed]",
      "text/plain": [
       "<Figure size 432x288 with 1 Axes>"
      ]
     },
     "metadata": {
      "image/png": {
       "height": 250,
       "width": 373
      }
     },
     "output_type": "display_data"
    }
   ],
   "source": [
    "plot_scatter(None, xy, labels)"
   ]
  },
  {
   "cell_type": "markdown",
   "metadata": {},
   "source": [
    "## Binary Classification\n",
    "$$\n",
    "\\min_{W,b} \\frac{1}{m}\\sum_{i=1}^m -y_i \\log(\\hat{y_i})-(1-y_i) \\log(1-\\hat{y_i})\n",
    "$$\n",
    "where $\\hat{y_i} = \\sigma(x_i W + b)$\n",
    "\n",
    "1. Forward Model : $\\hat{y_i} = \\sigma(x_i W + b)$\n",
    "1. Cross-Entropy : $\\frac{1}{m}\\sum_{i=1}^m -y_i \\log(\\hat{y_i})-(1-y_i) \\log(1-\\hat{y_i})$\n"
   ]
  },
  {
   "cell_type": "markdown",
   "metadata": {},
   "source": [
    "### 01. Model에 맞는 feature 정리\n",
    "For $i=1,2,\\cdots,m$,\n",
    "$$\n",
    "\\texttt{features}_i = [x_i, y_i]\n",
    "$$"
   ]
  },
  {
   "cell_type": "code",
   "execution_count": 5,
   "metadata": {},
   "outputs": [
    {
     "data": {
      "text/plain": [
       "array([[0.05085764, 0.47670086],\n",
       "       [0.31164216, 0.9016348 ],\n",
       "       [0.49502649, 0.49823478],\n",
       "       [0.91184471, 0.95672465],\n",
       "       [0.34506596, 0.94023755],\n",
       "       [0.2366796 , 0.74481348],\n",
       "       [0.30043802, 0.7606868 ],\n",
       "       [0.93589014, 0.91266408],\n",
       "       [0.82007137, 0.57655843],\n",
       "       [0.79928761, 0.67089507]])"
      ]
     },
     "execution_count": 5,
     "metadata": {},
     "output_type": "execute_result"
    }
   ],
   "source": [
    "# TODO1\n",
    "features = np.array([[xval, yval] for xval, yval in xy])\n",
    "features[:10]"
   ]
  },
  {
   "cell_type": "markdown",
   "metadata": {},
   "source": [
    "### 02. Model TensorFlow로 정의하기\n",
    "\n",
    "- TODO2 : `features`를 `feed`할 placeholder(`x`)를 정의\n",
    "- TODO3 : Weight(`W`)와 bias(`b`)를 `Variable`로 초기값 1로 정의\n",
    "- TODO4 : Model(`model`) 정의\n",
    "\n",
    "$$\n",
    "\\hat{y_i} = \\sigma(x_i W + b)\n",
    "$$"
   ]
  },
  {
   "cell_type": "code",
   "execution_count": 6,
   "metadata": {},
   "outputs": [],
   "source": [
    "# TODO2\n",
    "x = tf.placeholder(tf.float32, shape=(None, 2))\n",
    "\n",
    "# TODO3\n",
    "W = tf.Variable(tf.ones([2, 1]), dtype=tf.float32)\n",
    "b = tf.Variable(tf.ones([1]), dtype=tf.float32)\n",
    "\n",
    "# TODO4\n",
    "model = tf.nn.sigmoid(tf.matmul(x, W) + b)"
   ]
  },
  {
   "cell_type": "markdown",
   "metadata": {},
   "source": [
    "아래 코드를 돌려 에러가 나지 않으면 정답입니다."
   ]
  },
  {
   "cell_type": "code",
   "execution_count": 7,
   "metadata": {},
   "outputs": [
    {
     "name": "stdout",
     "output_type": "stream",
     "text": [
      "Test passed.\n"
     ]
    }
   ],
   "source": [
    "# DO NOT MODIFY CODE BELOW\n",
    "sess = tf.Session()\n",
    "init = tf.global_variables_initializer()\n",
    "sess.run(init)\n",
    "model_val = sess.run(model, feed_dict={x:features})\n",
    "model_val.flatten()\n",
    "np.testing.assert_array_almost_equal(model_val.flatten(), np.array([ 0.82164884,  0.90143549,  0.88008773,  0.94627064,  0.9076525 ,\n",
    "        0.87884021,  0.88706684,  0.94524395,  0.91657001,  0.92202485,\n",
    "        0.84915382,  0.88213223,  0.89813203,  0.91223586,  0.83902246,\n",
    "        0.9068526 ,  0.78098732,  0.77686596,  0.8815819 ,  0.88183749,\n",
    "        0.79339015,  0.93020332,  0.77778834,  0.80740386,  0.90895367,\n",
    "        0.85820019,  0.89018804,  0.82814378,  0.89006978,  0.91128868]))\n",
    "print(\"Test passed.\")"
   ]
  },
  {
   "cell_type": "markdown",
   "metadata": {},
   "source": [
    "### 03. Cross-Entropy 정의하기\n",
    "\n",
    "- TODO5 : `labels`를 `feed`할 `placeholder`(`y`) 정의하기\n",
    "- TODO6 : Corss-Entropy(`loss`) 정의하기\n",
    "\n",
    "$$\n",
    " \\frac{1}{m}\\sum_{i=1}^m -y_i \\log(\\hat{y_i})-(1-y_i) \\log(1-\\hat{y_i})\n",
    " $$"
   ]
  },
  {
   "cell_type": "code",
   "execution_count": 8,
   "metadata": {},
   "outputs": [],
   "source": [
    "# TODO 5\n",
    "y = tf.placeholder(tf.float32, shape=(None, 1))\n",
    "\n",
    "# TODO 6\n",
    "loss = tf.reduce_mean(- y * tf.log(model) - (1 - y) * tf.log(1-model))"
   ]
  },
  {
   "cell_type": "markdown",
   "metadata": {},
   "source": [
    "아래 코드를 돌려 에러가 나지 않으면 정답입니다."
   ]
  },
  {
   "cell_type": "code",
   "execution_count": 9,
   "metadata": {},
   "outputs": [
    {
     "name": "stdout",
     "output_type": "stream",
     "text": [
      "Test passed.\n"
     ]
    }
   ],
   "source": [
    "# DO NOT MODIFY CODE BELOW\n",
    "loss_val = sess.run(loss, feed_dict={x:features, y:labels})\n",
    "np.testing.assert_almost_equal(loss_val, 0.69793868)\n",
    "print(\"Test passed.\")"
   ]
  },
  {
   "cell_type": "markdown",
   "metadata": {},
   "source": [
    "### 04. Hyper-Parameter 설정(TODO 7)\n",
    "1. Optimizer : `AdamOptimizer`\n",
    "1. `lerning rate` : `0.1`\n",
    "1. `MaxEpoch` : `201`\n",
    "1. Train Step"
   ]
  },
  {
   "cell_type": "code",
   "execution_count": 10,
   "metadata": {},
   "outputs": [],
   "source": [
    "# TODO 7\n",
    "lr = 0.1\n",
    "MaxEpochs= 201\n",
    "optimizer = tf.train.AdamOptimizer(lr)\n",
    "train = optimizer.minimize(loss)"
   ]
  },
  {
   "cell_type": "markdown",
   "metadata": {},
   "source": [
    "### 05. Gradient Descent\n",
    "\n",
    "- TODO8 : batch 사용하지 않고 모든 features와 labels을 다 feed 해줍니다."
   ]
  },
  {
   "cell_type": "code",
   "execution_count": 11,
   "metadata": {},
   "outputs": [
    {
     "name": "stdout",
     "output_type": "stream",
     "text": [
      "0 [1.] [1. 1.] 0.6979387\n",
      "50 [-2.469686] [2.9124987 3.869042 ] 0.28501523\n",
      "100 [-4.532812] [4.552016 6.546532] 0.18717656\n",
      "150 [-5.969785] [5.6833396 8.436917 ] 0.14779027\n",
      "200 [-7.1451635] [6.6319823 9.969715 ] 0.12507883\n"
     ]
    }
   ],
   "source": [
    "init = tf.global_variables_initializer()\n",
    "with tf.Session() as sess:\n",
    "    sess.run(init)\n",
    "    out = sess.run([model, loss], feed_dict={x: features, y: labels})\n",
    "    for epoch in range(MaxEpochs):\n",
    "        if epoch % 50 == 0 :\n",
    "            curr_b, curr_W, curr_loss = sess.run([b, W, loss], feed_dict={x: features, y: labels})\n",
    "            print(epoch, curr_b.flatten(), curr_W.flatten(), curr_loss)\n",
    "        # TODO 8\n",
    "        sess.run(train, feed_dict={x: features, y: labels})\n",
    "    curr_b, curr_W = sess.run([b, W])\n",
    "W_gd = curr_W.flatten()\n",
    "b_gd = curr_b.flatten()"
   ]
  },
  {
   "cell_type": "code",
   "execution_count": 12,
   "metadata": {},
   "outputs": [
    {
     "data": {
      "image/png": "[encoded data removed]",
      "text/plain": [
       "<Figure size 432x288 with 1 Axes>"
      ]
     },
     "metadata": {
      "image/png": {
       "height": 250,
       "width": 373
      }
     },
     "output_type": "display_data"
    }
   ],
   "source": [
    "plot_scatter(np.append(b_gd, W_gd), xy, labels)"
   ]
  },
  {
   "cell_type": "markdown",
   "metadata": {},
   "source": [
    "### 06. Stochastic Gradient Descent(SGD)\n",
    "- TODO9 : shuffle training set\n",
    "- TODO10 : batch 생성하기\n",
    "- TODO11 : batch만 사용하여, train 하기"
   ]
  },
  {
   "cell_type": "code",
   "execution_count": 13,
   "metadata": {},
   "outputs": [],
   "source": [
    "from helper import generate_batches"
   ]
  },
  {
   "cell_type": "code",
   "execution_count": 14,
   "metadata": {},
   "outputs": [],
   "source": [
    "# TODO 9\n",
    "idx = np.arange(0, len(features))\n",
    "np.random.shuffle(idx)\n",
    "shuffled_features = features[idx]\n",
    "shuffled_labels = labels[idx]"
   ]
  },
  {
   "cell_type": "code",
   "execution_count": 15,
   "metadata": {},
   "outputs": [
    {
     "name": "stdout",
     "output_type": "stream",
     "text": [
      "0 [1.] [1. 1.] 0.6979387\n",
      "50 [-6.670298] [5.9745364 9.598608 ] 0.13314709\n",
      "100 [-9.221184] [ 8.157378 12.858123] 0.09692362\n",
      "150 [-11.016917] [ 9.707041 15.165741] 0.08034241\n",
      "200 [-12.471138] [10.972558 17.042381] 0.070092246\n"
     ]
    }
   ],
   "source": [
    "batch_size = 5\n",
    "init = tf.global_variables_initializer()\n",
    "with tf.Session() as sess:\n",
    "    sess.run(init)\n",
    "    out = sess.run([model, loss], feed_dict={x: shuffled_features, y: shuffled_labels})\n",
    "    for epoch in range(MaxEpochs):\n",
    "        if epoch % 50 == 0 :\n",
    "            curr_b, curr_W, curr_loss = sess.run([b, W, loss], feed_dict={x: shuffled_features, y: shuffled_labels})\n",
    "            print(epoch, curr_b.flatten(), curr_W.flatten(), curr_loss)\n",
    "        # TODO 10\n",
    "        for x_batch, y_batch in generate_batches(batch_size, shuffled_features, shuffled_labels):\n",
    "            # TODO 11\n",
    "            sess.run(train, feed_dict={x: x_batch, y: y_batch})\n",
    "\n",
    "    curr_b, curr_W = sess.run([b, W])\n",
    "W_sgd = curr_W.flatten()\n",
    "b_sgd = curr_b.flatten()"
   ]
  },
  {
   "cell_type": "code",
   "execution_count": 16,
   "metadata": {},
   "outputs": [
    {
     "data": {
      "image/png": "[encoded data removed]",
      "text/plain": [
       "<Figure size 432x288 with 1 Axes>"
      ]
     },
     "metadata": {
      "image/png": {
       "height": 250,
       "width": 373
      }
     },
     "output_type": "display_data"
    }
   ],
   "source": [
    "plot_scatter(np.append(b_sgd, W_sgd), xy, labels)"
   ]
  },
  {
   "cell_type": "code",
   "execution_count": null,
   "metadata": {},
   "outputs": [],
   "source": []
  },
  {
   "cell_type": "code",
   "execution_count": null,
   "metadata": {},
   "outputs": [],
   "source": []
  }
 ],
 "metadata": {
  "kernelspec": {
   "display_name": "Python 3",
   "language": "python",
   "name": "python3"
  },
  "language_info": {
   "codemirror_mode": {
    "name": "ipython",
    "version": 3
   },
   "file_extension": ".py",
   "mimetype": "text/x-python",
   "name": "python",
   "nbconvert_exporter": "python",
   "pygments_lexer": "ipython3",
   "version": "3.5.5"
  }
 },
 "nbformat": 4,
 "nbformat_minor": 2
}
