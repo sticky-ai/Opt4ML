{
 "cells": [
  {
   "cell_type": "code",
   "execution_count": 1,
   "metadata": {},
   "outputs": [
    {
     "name": "stderr",
     "output_type": "stream",
     "text": [
      "/anaconda3/envs/fastcampus/lib/python3.5/importlib/_bootstrap.py:222: RuntimeWarning: numpy.dtype size changed, may indicate binary incompatibility. Expected 96, got 88\n",
      "  return f(*args, **kwds)\n",
      "/anaconda3/envs/fastcampus/lib/python3.5/importlib/_bootstrap.py:222: RuntimeWarning: numpy.dtype size changed, may indicate binary incompatibility. Expected 96, got 88\n",
      "  return f(*args, **kwds)\n"
     ]
    }
   ],
   "source": [
    "import numpy as np\n",
    "import tensorflow as tf\n",
    "import matplotlib.pylab as plt\n",
    "%matplotlib inline\n",
    "%config InlineBackend.figure_format = 'retina'"
   ]
  },
  {
   "cell_type": "markdown",
   "metadata": {},
   "source": [
    "$$\n",
    "\\min_{x,y} \\left[ (x-2)^2 + (y-2)^2 + C \\left\\{(x-4)^2 + (y-5)^2\\right\\}\\right]\n",
    "$$"
   ]
  },
  {
   "cell_type": "code",
   "execution_count": 2,
   "metadata": {},
   "outputs": [],
   "source": [
    "x = tf.Variable(7.0, dtype=tf.float32)\n",
    "y = tf.Variable(1.5, dtype=tf.float32)"
   ]
  },
  {
   "cell_type": "code",
   "execution_count": 3,
   "metadata": {},
   "outputs": [],
   "source": [
    "C = 1000\n",
    "\n",
    "loss1 = tf.square(tf.subtract(x, 2)) + tf.square(tf.subtract(y, 2))\n",
    "loss2 = C * (tf.square(tf.subtract(x, 4)) + tf.square(tf.subtract(y, 5)))\n",
    "\n",
    "loss = loss1 + loss2\n",
    "\n",
    "optimizer = tf.train.AdamOptimizer(0.25)\n",
    "train = optimizer.minimize(loss)"
   ]
  },
  {
   "cell_type": "code",
   "execution_count": 4,
   "metadata": {},
   "outputs": [
    {
     "name": "stdout",
     "output_type": "stream",
     "text": [
      "000 x = 7.000, y = 1.500 , Cost : 25.250 + 21250.000 = 21275.250\n",
      "010 x = 4.637, y = 3.894 , Cost : 10.542 + 1629.695 = 1640.237\n",
      "020 x = 3.343, y = 5.472 , Cost : 13.861 + 654.625 = 668.485\n",
      "030 x = 3.598, y = 5.609 , Cost : 15.575 + 532.275 = 547.850\n",
      "040 x = 4.168, y = 5.042 , Cost : 13.952 + 29.933 = 43.884\n",
      "050 x = 4.159, y = 4.781 , Cost : 12.396 + 73.166 = 85.563\n",
      "060 x = 3.933, y = 4.941 , Cost : 12.387 + 7.967 = 20.355\n",
      "070 x = 3.947, y = 5.070 , Cost : 13.219 + 7.699 = 20.918\n",
      "080 x = 4.031, y = 5.018 , Cost : 13.237 + 1.320 = 14.557\n",
      "090 x = 4.007, y = 4.970 , Cost : 12.847 + 0.969 = 13.815\n",
      "100 x = 3.983, y = 4.992 , Cost : 12.888 + 0.337 = 13.225\n"
     ]
    }
   ],
   "source": [
    "init = tf.global_variables_initializer()\n",
    "with tf.Session() as sess:\n",
    "    sess.run(init)\n",
    "    for epoch in range(101):\n",
    "        if epoch % 10 == 0:\n",
    "            curr_x, curr_y, curr_loss, curr_loss1, curr_loss2 = sess.run([x, y, loss, loss1, loss2])\n",
    "            print(\"{2:03d} x = {0:4.3f}, y = {1:4.3f}\".format(curr_x, curr_y, epoch), \", Cost : {0:4.3f} + {1:4.3f} = {2:4.3f}\".format(curr_loss1, curr_loss2, curr_loss))\n",
    "        \n",
    "        out = sess.run(train)"
   ]
  },
  {
   "cell_type": "code",
   "execution_count": null,
   "metadata": {},
   "outputs": [],
   "source": []
  }
 ],
 "metadata": {
  "kernelspec": {
   "display_name": "Python 3",
   "language": "python",
   "name": "python3"
  },
  "language_info": {
   "codemirror_mode": {
    "name": "ipython",
    "version": 3
   },
   "file_extension": ".py",
   "mimetype": "text/x-python",
   "name": "python",
   "nbconvert_exporter": "python",
   "pygments_lexer": "ipython3",
   "version": "3.5.5"
  }
 },
 "nbformat": 4,
 "nbformat_minor": 2
}
